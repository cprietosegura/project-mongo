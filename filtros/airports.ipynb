{
 "cells": [
  {
   "cell_type": "code",
   "execution_count": 1,
   "metadata": {},
   "outputs": [],
   "source": [
    "import pandas as pd\n",
    "import numpy as np"
   ]
  },
  {
   "cell_type": "code",
   "execution_count": 2,
   "metadata": {},
   "outputs": [],
   "source": [
    "df = pd.read_csv(\"./Input/airports-extended.csv\")\n",
    "#df.columns= [\"number\",\"airport_name\"]"
   ]
  },
  {
   "cell_type": "code",
   "execution_count": 3,
   "metadata": {},
   "outputs": [
    {
     "data": {
      "text/html": [
       "<div>\n",
       "<style scoped>\n",
       "    .dataframe tbody tr th:only-of-type {\n",
       "        vertical-align: middle;\n",
       "    }\n",
       "\n",
       "    .dataframe tbody tr th {\n",
       "        vertical-align: top;\n",
       "    }\n",
       "\n",
       "    .dataframe thead th {\n",
       "        text-align: right;\n",
       "    }\n",
       "</style>\n",
       "<table border=\"1\" class=\"dataframe\">\n",
       "  <thead>\n",
       "    <tr style=\"text-align: right;\">\n",
       "      <th></th>\n",
       "      <th>1</th>\n",
       "      <th>Goroka Airport</th>\n",
       "      <th>Goroka</th>\n",
       "      <th>Papua New Guinea</th>\n",
       "      <th>GKA</th>\n",
       "      <th>AYGA</th>\n",
       "      <th>-6.081689834590001</th>\n",
       "      <th>145.391998291</th>\n",
       "      <th>5282</th>\n",
       "      <th>10</th>\n",
       "      <th>U</th>\n",
       "      <th>Pacific/Port_Moresby</th>\n",
       "      <th>airport</th>\n",
       "      <th>OurAirports</th>\n",
       "    </tr>\n",
       "  </thead>\n",
       "  <tbody>\n",
       "    <tr>\n",
       "      <th>0</th>\n",
       "      <td>2</td>\n",
       "      <td>Madang Airport</td>\n",
       "      <td>Madang</td>\n",
       "      <td>Papua New Guinea</td>\n",
       "      <td>MAG</td>\n",
       "      <td>AYMD</td>\n",
       "      <td>-5.207080</td>\n",
       "      <td>145.789001</td>\n",
       "      <td>20</td>\n",
       "      <td>10</td>\n",
       "      <td>U</td>\n",
       "      <td>Pacific/Port_Moresby</td>\n",
       "      <td>airport</td>\n",
       "      <td>OurAirports</td>\n",
       "    </tr>\n",
       "    <tr>\n",
       "      <th>1</th>\n",
       "      <td>3</td>\n",
       "      <td>Mount Hagen Kagamuga Airport</td>\n",
       "      <td>Mount Hagen</td>\n",
       "      <td>Papua New Guinea</td>\n",
       "      <td>HGU</td>\n",
       "      <td>AYMH</td>\n",
       "      <td>-5.826790</td>\n",
       "      <td>144.296005</td>\n",
       "      <td>5388</td>\n",
       "      <td>10</td>\n",
       "      <td>U</td>\n",
       "      <td>Pacific/Port_Moresby</td>\n",
       "      <td>airport</td>\n",
       "      <td>OurAirports</td>\n",
       "    </tr>\n",
       "    <tr>\n",
       "      <th>2</th>\n",
       "      <td>4</td>\n",
       "      <td>Nadzab Airport</td>\n",
       "      <td>Nadzab</td>\n",
       "      <td>Papua New Guinea</td>\n",
       "      <td>LAE</td>\n",
       "      <td>AYNZ</td>\n",
       "      <td>-6.569803</td>\n",
       "      <td>146.725977</td>\n",
       "      <td>239</td>\n",
       "      <td>10</td>\n",
       "      <td>U</td>\n",
       "      <td>Pacific/Port_Moresby</td>\n",
       "      <td>airport</td>\n",
       "      <td>OurAirports</td>\n",
       "    </tr>\n",
       "  </tbody>\n",
       "</table>\n",
       "</div>"
      ],
      "text/plain": [
       "   1                Goroka Airport       Goroka  Papua New Guinea  GKA  AYGA  \\\n",
       "0  2                Madang Airport       Madang  Papua New Guinea  MAG  AYMD   \n",
       "1  3  Mount Hagen Kagamuga Airport  Mount Hagen  Papua New Guinea  HGU  AYMH   \n",
       "2  4                Nadzab Airport       Nadzab  Papua New Guinea  LAE  AYNZ   \n",
       "\n",
       "   -6.081689834590001  145.391998291  5282  10  U  Pacific/Port_Moresby  \\\n",
       "0           -5.207080     145.789001    20  10  U  Pacific/Port_Moresby   \n",
       "1           -5.826790     144.296005  5388  10  U  Pacific/Port_Moresby   \n",
       "2           -6.569803     146.725977   239  10  U  Pacific/Port_Moresby   \n",
       "\n",
       "   airport  OurAirports  \n",
       "0  airport  OurAirports  \n",
       "1  airport  OurAirports  \n",
       "2  airport  OurAirports  "
      ]
     },
     "execution_count": 3,
     "metadata": {},
     "output_type": "execute_result"
    }
   ],
   "source": [
    "df.head(3)"
   ]
  },
  {
   "cell_type": "code",
   "execution_count": 5,
   "metadata": {},
   "outputs": [],
   "source": [
    "df=df.reset_index().T.reset_index().T"
   ]
  },
  {
   "cell_type": "code",
   "execution_count": 6,
   "metadata": {},
   "outputs": [],
   "source": [
    "df=df.rename(columns={2:'airport',4:'country',7:'latitude',8:'longitude'})"
   ]
  },
  {
   "cell_type": "code",
   "execution_count": 17,
   "metadata": {},
   "outputs": [
    {
     "data": {
      "text/html": [
       "<div>\n",
       "<style scoped>\n",
       "    .dataframe tbody tr th:only-of-type {\n",
       "        vertical-align: middle;\n",
       "    }\n",
       "\n",
       "    .dataframe tbody tr th {\n",
       "        vertical-align: top;\n",
       "    }\n",
       "\n",
       "    .dataframe thead th {\n",
       "        text-align: right;\n",
       "    }\n",
       "</style>\n",
       "<table border=\"1\" class=\"dataframe\">\n",
       "  <thead>\n",
       "    <tr style=\"text-align: right;\">\n",
       "      <th></th>\n",
       "      <th>airport</th>\n",
       "      <th>country</th>\n",
       "      <th>latitude</th>\n",
       "      <th>longitude</th>\n",
       "    </tr>\n",
       "  </thead>\n",
       "  <tbody>\n",
       "    <tr>\n",
       "      <th>index</th>\n",
       "      <td>Goroka Airport</td>\n",
       "      <td>Papua New Guinea</td>\n",
       "      <td>-6.081690</td>\n",
       "      <td>145.391998</td>\n",
       "    </tr>\n",
       "    <tr>\n",
       "      <th>0</th>\n",
       "      <td>Madang Airport</td>\n",
       "      <td>Papua New Guinea</td>\n",
       "      <td>-5.207080</td>\n",
       "      <td>145.789001</td>\n",
       "    </tr>\n",
       "    <tr>\n",
       "      <th>1</th>\n",
       "      <td>Mount Hagen Kagamuga Airport</td>\n",
       "      <td>Papua New Guinea</td>\n",
       "      <td>-5.826790</td>\n",
       "      <td>144.296005</td>\n",
       "    </tr>\n",
       "    <tr>\n",
       "      <th>2</th>\n",
       "      <td>Nadzab Airport</td>\n",
       "      <td>Papua New Guinea</td>\n",
       "      <td>-6.569803</td>\n",
       "      <td>146.725977</td>\n",
       "    </tr>\n",
       "    <tr>\n",
       "      <th>3</th>\n",
       "      <td>Port Moresby Jacksons International Airport</td>\n",
       "      <td>Papua New Guinea</td>\n",
       "      <td>-9.443380</td>\n",
       "      <td>147.220001</td>\n",
       "    </tr>\n",
       "  </tbody>\n",
       "</table>\n",
       "</div>"
      ],
      "text/plain": [
       "                                           airport           country  \\\n",
       "index                               Goroka Airport  Papua New Guinea   \n",
       "0                                   Madang Airport  Papua New Guinea   \n",
       "1                     Mount Hagen Kagamuga Airport  Papua New Guinea   \n",
       "2                                   Nadzab Airport  Papua New Guinea   \n",
       "3      Port Moresby Jacksons International Airport  Papua New Guinea   \n",
       "\n",
       "       latitude   longitude  \n",
       "index -6.081690  145.391998  \n",
       "0     -5.207080  145.789001  \n",
       "1     -5.826790  144.296005  \n",
       "2     -6.569803  146.725977  \n",
       "3     -9.443380  147.220001  "
      ]
     },
     "execution_count": 17,
     "metadata": {},
     "output_type": "execute_result"
    }
   ],
   "source": [
    "df=df[['airport','country','latitude','longitude']]\n",
    "df.head()"
   ]
  },
  {
   "cell_type": "code",
   "execution_count": 9,
   "metadata": {},
   "outputs": [],
   "source": [
    "def changeToFloat(col):\n",
    "    df[col] = df[col].astype('float64')\n",
    "\n",
    "def changeToStr(col):\n",
    "    df[col] = df[col].astype('str')"
   ]
  },
  {
   "cell_type": "code",
   "execution_count": 10,
   "metadata": {},
   "outputs": [],
   "source": [
    "changeToFloat('longitude')\n",
    "changeToFloat('latitude')\n",
    "changeToStr('airport')\n",
    "changeToStr('country')"
   ]
  },
  {
   "cell_type": "code",
   "execution_count": 11,
   "metadata": {},
   "outputs": [],
   "source": [
    "lon = np.asarray(df['longitude'])\n",
    "lat= np.asarray(df['latitude'])\n",
    "coords=list(zip(lon,lat))   "
   ]
  },
  {
   "cell_type": "code",
   "execution_count": 12,
   "metadata": {},
   "outputs": [],
   "source": [
    "df['coords']=coords"
   ]
  },
  {
   "cell_type": "code",
   "execution_count": 13,
   "metadata": {},
   "outputs": [],
   "source": [
    "#función para dar a las coordenadas el formato adecuado.\n",
    "def createCoordformat(c):\n",
    "    c= {'type': 'Point', 'coordinates': c}\n",
    "    return c\n",
    "    "
   ]
  },
  {
   "cell_type": "code",
   "execution_count": 14,
   "metadata": {},
   "outputs": [],
   "source": [
    "df['coords']=df['coords'].apply(createCoordformat)"
   ]
  },
  {
   "cell_type": "code",
   "execution_count": 18,
   "metadata": {},
   "outputs": [
    {
     "data": {
      "text/html": [
       "<div>\n",
       "<style scoped>\n",
       "    .dataframe tbody tr th:only-of-type {\n",
       "        vertical-align: middle;\n",
       "    }\n",
       "\n",
       "    .dataframe tbody tr th {\n",
       "        vertical-align: top;\n",
       "    }\n",
       "\n",
       "    .dataframe thead th {\n",
       "        text-align: right;\n",
       "    }\n",
       "</style>\n",
       "<table border=\"1\" class=\"dataframe\">\n",
       "  <thead>\n",
       "    <tr style=\"text-align: right;\">\n",
       "      <th></th>\n",
       "      <th>airport</th>\n",
       "      <th>country</th>\n",
       "      <th>latitude</th>\n",
       "      <th>longitude</th>\n",
       "    </tr>\n",
       "  </thead>\n",
       "  <tbody>\n",
       "    <tr>\n",
       "      <th>index</th>\n",
       "      <td>Goroka Airport</td>\n",
       "      <td>Papua New Guinea</td>\n",
       "      <td>-6.081690</td>\n",
       "      <td>145.391998</td>\n",
       "    </tr>\n",
       "    <tr>\n",
       "      <th>0</th>\n",
       "      <td>Madang Airport</td>\n",
       "      <td>Papua New Guinea</td>\n",
       "      <td>-5.207080</td>\n",
       "      <td>145.789001</td>\n",
       "    </tr>\n",
       "    <tr>\n",
       "      <th>1</th>\n",
       "      <td>Mount Hagen Kagamuga Airport</td>\n",
       "      <td>Papua New Guinea</td>\n",
       "      <td>-5.826790</td>\n",
       "      <td>144.296005</td>\n",
       "    </tr>\n",
       "    <tr>\n",
       "      <th>2</th>\n",
       "      <td>Nadzab Airport</td>\n",
       "      <td>Papua New Guinea</td>\n",
       "      <td>-6.569803</td>\n",
       "      <td>146.725977</td>\n",
       "    </tr>\n",
       "    <tr>\n",
       "      <th>3</th>\n",
       "      <td>Port Moresby Jacksons International Airport</td>\n",
       "      <td>Papua New Guinea</td>\n",
       "      <td>-9.443380</td>\n",
       "      <td>147.220001</td>\n",
       "    </tr>\n",
       "  </tbody>\n",
       "</table>\n",
       "</div>"
      ],
      "text/plain": [
       "                                           airport           country  \\\n",
       "index                               Goroka Airport  Papua New Guinea   \n",
       "0                                   Madang Airport  Papua New Guinea   \n",
       "1                     Mount Hagen Kagamuga Airport  Papua New Guinea   \n",
       "2                                   Nadzab Airport  Papua New Guinea   \n",
       "3      Port Moresby Jacksons International Airport  Papua New Guinea   \n",
       "\n",
       "       latitude   longitude  \n",
       "index -6.081690  145.391998  \n",
       "0     -5.207080  145.789001  \n",
       "1     -5.826790  144.296005  \n",
       "2     -6.569803  146.725977  \n",
       "3     -9.443380  147.220001  "
      ]
     },
     "execution_count": 18,
     "metadata": {},
     "output_type": "execute_result"
    }
   ],
   "source": [
    "df.head()"
   ]
  },
  {
   "cell_type": "code",
   "execution_count": 16,
   "metadata": {},
   "outputs": [],
   "source": [
    "df.to_json('df_airports.json', orient='records')"
   ]
  }
 ],
 "metadata": {
  "kernelspec": {
   "display_name": "Python 3",
   "language": "python",
   "name": "python3"
  },
  "language_info": {
   "codemirror_mode": {
    "name": "ipython",
    "version": 3
   },
   "file_extension": ".py",
   "mimetype": "text/x-python",
   "name": "python",
   "nbconvert_exporter": "python",
   "pygments_lexer": "ipython3",
   "version": "3.5.2"
  }
 },
 "nbformat": 4,
 "nbformat_minor": 2
}
