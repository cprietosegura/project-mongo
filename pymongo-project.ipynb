{
 "cells": [
  {
   "cell_type": "code",
   "execution_count": 1,
   "metadata": {},
   "outputs": [],
   "source": [
    "from pymongo import MongoClient\n",
    "import pandas as pd"
   ]
  },
  {
   "cell_type": "code",
   "execution_count": 2,
   "metadata": {},
   "outputs": [],
   "source": [
    "def connectCollection(database, collection):\n",
    "    client = MongoClient()\n",
    "    db = client[database]\n",
    "    coll = db[collection]\n",
    "    return db, coll\n"
   ]
  },
  {
   "cell_type": "code",
   "execution_count": 3,
   "metadata": {},
   "outputs": [],
   "source": [
    "db, coll = connectCollection('companies','companies')"
   ]
  },
  {
   "cell_type": "code",
   "execution_count": 4,
   "metadata": {},
   "outputs": [],
   "source": [
    "#rest = list(coll.find({'founded_year':{'$gt':2009}}))\n",
    "new_companies = list(coll.find({'$and':\n",
    "                           [ { \"offices.latitude\": {\"$exists\": True,\"$ne\":None} },\n",
    "                            { \"offices.longitude\": {\"$exists\": True,\"$ne\":None} },\n",
    "                            {'founded_year': {'$gt': 2009 }},\n",
    "                            {'deadpooled_year':None},\n",
    "                            {'$or':[{'category_code': 'advertising' },\n",
    "                                    {'category_code': 'mobile' },\n",
    "                                    {'category_code': 'web' },\n",
    "                                    {'category_code': 'games_video' }]}]}, \n",
    "                          {'name':1,'founded_year': 1, '_id': 0,'offices.latitude':1, \n",
    "                           'offices.longitude':1, 'category_code':1, 'location':1 }))"
   ]
  },
  {
   "cell_type": "code",
   "execution_count": 5,
   "metadata": {},
   "outputs": [
    {
     "name": "stdout",
     "output_type": "stream",
     "text": [
      "29\n"
     ]
    }
   ],
   "source": [
    "print(len(new_companies))"
   ]
  },
  {
   "cell_type": "code",
   "execution_count": 6,
   "metadata": {},
   "outputs": [
    {
     "data": {
      "text/plain": [
       "{'category_code': 'web',\n",
       " 'founded_year': 2011,\n",
       " 'name': 'Mokitown',\n",
       " 'offices': [{'latitude': 37.09024, 'longitude': -95.712891}]}"
      ]
     },
     "execution_count": 6,
     "metadata": {},
     "output_type": "execute_result"
    }
   ],
   "source": [
    "new_companies[0]"
   ]
  },
  {
   "cell_type": "code",
   "execution_count": 7,
   "metadata": {},
   "outputs": [
    {
     "data": {
      "text/html": [
       "<div>\n",
       "<style scoped>\n",
       "    .dataframe tbody tr th:only-of-type {\n",
       "        vertical-align: middle;\n",
       "    }\n",
       "\n",
       "    .dataframe tbody tr th {\n",
       "        vertical-align: top;\n",
       "    }\n",
       "\n",
       "    .dataframe thead th {\n",
       "        text-align: right;\n",
       "    }\n",
       "</style>\n",
       "<table border=\"1\" class=\"dataframe\">\n",
       "  <thead>\n",
       "    <tr style=\"text-align: right;\">\n",
       "      <th></th>\n",
       "      <th>category_code</th>\n",
       "      <th>founded_year</th>\n",
       "      <th>name</th>\n",
       "      <th>offices</th>\n",
       "    </tr>\n",
       "  </thead>\n",
       "  <tbody>\n",
       "    <tr>\n",
       "      <th>0</th>\n",
       "      <td>web</td>\n",
       "      <td>2011</td>\n",
       "      <td>Mokitown</td>\n",
       "      <td>[{'longitude': -95.712891, 'latitude': 37.09024}]</td>\n",
       "    </tr>\n",
       "    <tr>\n",
       "      <th>1</th>\n",
       "      <td>mobile</td>\n",
       "      <td>2010</td>\n",
       "      <td>GENWI</td>\n",
       "      <td>[{'longitude': -111.9035, 'latitude': 33.8171}]</td>\n",
       "    </tr>\n",
       "    <tr>\n",
       "      <th>2</th>\n",
       "      <td>web</td>\n",
       "      <td>2013</td>\n",
       "      <td>Fixya</td>\n",
       "      <td>[{'longitude': -122.323895, 'latitude': 37.566...</td>\n",
       "    </tr>\n",
       "    <tr>\n",
       "      <th>3</th>\n",
       "      <td>games_video</td>\n",
       "      <td>2011</td>\n",
       "      <td>Social Gaming Network</td>\n",
       "      <td>[{'longitude': -122.161523, 'latitude': 37.446...</td>\n",
       "    </tr>\n",
       "    <tr>\n",
       "      <th>4</th>\n",
       "      <td>mobile</td>\n",
       "      <td>2012</td>\n",
       "      <td>Skydeck</td>\n",
       "      <td>[{'longitude': -122.3254705, 'latitude': 37.56...</td>\n",
       "    </tr>\n",
       "    <tr>\n",
       "      <th>5</th>\n",
       "      <td>mobile</td>\n",
       "      <td>2012</td>\n",
       "      <td>Jumbuck Entertainment</td>\n",
       "      <td>[{'longitude': 144.962991, 'latitude': -37.817...</td>\n",
       "    </tr>\n",
       "    <tr>\n",
       "      <th>6</th>\n",
       "      <td>web</td>\n",
       "      <td>2010</td>\n",
       "      <td>Pixsta</td>\n",
       "      <td>[{'longitude': -0.208979, 'latitude': 51.51819}]</td>\n",
       "    </tr>\n",
       "    <tr>\n",
       "      <th>7</th>\n",
       "      <td>games_video</td>\n",
       "      <td>2011</td>\n",
       "      <td>Fuzz</td>\n",
       "      <td>[{'longitude': -122.387799, 'latitude': 37.760...</td>\n",
       "    </tr>\n",
       "    <tr>\n",
       "      <th>8</th>\n",
       "      <td>web</td>\n",
       "      <td>2010</td>\n",
       "      <td>CollegeConvo</td>\n",
       "      <td>[{'longitude': -74.294395, 'latitude': 40.6502...</td>\n",
       "    </tr>\n",
       "    <tr>\n",
       "      <th>9</th>\n",
       "      <td>web</td>\n",
       "      <td>2011</td>\n",
       "      <td>Ziippi</td>\n",
       "      <td>[{'longitude': -122.1612868, 'latitude': 37.44...</td>\n",
       "    </tr>\n",
       "    <tr>\n",
       "      <th>10</th>\n",
       "      <td>games_video</td>\n",
       "      <td>2010</td>\n",
       "      <td>Titan Gaming</td>\n",
       "      <td>[{'longitude': -113.515769, 'latitude': 53.544...</td>\n",
       "    </tr>\n",
       "    <tr>\n",
       "      <th>11</th>\n",
       "      <td>advertising</td>\n",
       "      <td>2013</td>\n",
       "      <td>SEOGroup</td>\n",
       "      <td>[{'longitude': -87.624701, 'latitude': 41.8862...</td>\n",
       "    </tr>\n",
       "    <tr>\n",
       "      <th>12</th>\n",
       "      <td>mobile</td>\n",
       "      <td>2010</td>\n",
       "      <td>vufind</td>\n",
       "      <td>[{'longitude': -122.145153, 'latitude': 37.424...</td>\n",
       "    </tr>\n",
       "    <tr>\n",
       "      <th>13</th>\n",
       "      <td>games_video</td>\n",
       "      <td>2011</td>\n",
       "      <td>Kidos</td>\n",
       "      <td>[{'longitude': -73.956599, 'latitude': 40.7680...</td>\n",
       "    </tr>\n",
       "    <tr>\n",
       "      <th>14</th>\n",
       "      <td>mobile</td>\n",
       "      <td>2010</td>\n",
       "      <td>vufind</td>\n",
       "      <td>[{'longitude': -122.145153, 'latitude': 37.424...</td>\n",
       "    </tr>\n",
       "    <tr>\n",
       "      <th>15</th>\n",
       "      <td>games_video</td>\n",
       "      <td>2011</td>\n",
       "      <td>Kidos</td>\n",
       "      <td>[{'longitude': -73.956599, 'latitude': 40.7680...</td>\n",
       "    </tr>\n",
       "    <tr>\n",
       "      <th>16</th>\n",
       "      <td>games_video</td>\n",
       "      <td>2010</td>\n",
       "      <td>Equedia</td>\n",
       "      <td>[{'longitude': -123.1169693, 'latitude': 49.28...</td>\n",
       "    </tr>\n",
       "    <tr>\n",
       "      <th>17</th>\n",
       "      <td>advertising</td>\n",
       "      <td>2010</td>\n",
       "      <td>Webmoblink</td>\n",
       "      <td>[{'longitude': -80.424167, 'latitude': 25.6558...</td>\n",
       "    </tr>\n",
       "    <tr>\n",
       "      <th>18</th>\n",
       "      <td>web</td>\n",
       "      <td>2010</td>\n",
       "      <td>Yipit</td>\n",
       "      <td>[{'longitude': -73.987764, 'latitude': 40.7446...</td>\n",
       "    </tr>\n",
       "    <tr>\n",
       "      <th>19</th>\n",
       "      <td>web</td>\n",
       "      <td>2010</td>\n",
       "      <td>fruux</td>\n",
       "      <td>[{'longitude': 7.6267552, 'latitude': 51.96300...</td>\n",
       "    </tr>\n",
       "    <tr>\n",
       "      <th>20</th>\n",
       "      <td>web</td>\n",
       "      <td>2013</td>\n",
       "      <td>Clowdy</td>\n",
       "      <td>[{'longitude': -2.2439492, 'latitude': 53.4837...</td>\n",
       "    </tr>\n",
       "    <tr>\n",
       "      <th>21</th>\n",
       "      <td>games_video</td>\n",
       "      <td>2010</td>\n",
       "      <td>Tengaged</td>\n",
       "      <td>[{'longitude': 2.1634249, 'latitude': 41.42412...</td>\n",
       "    </tr>\n",
       "    <tr>\n",
       "      <th>22</th>\n",
       "      <td>games_video</td>\n",
       "      <td>2010</td>\n",
       "      <td>Indee</td>\n",
       "      <td>[{'longitude': -122.4052761, 'latitude': 37.80...</td>\n",
       "    </tr>\n",
       "    <tr>\n",
       "      <th>23</th>\n",
       "      <td>web</td>\n",
       "      <td>2010</td>\n",
       "      <td>eCampusCash</td>\n",
       "      <td>[{'longitude': -74.294395, 'latitude': 40.6502...</td>\n",
       "    </tr>\n",
       "    <tr>\n",
       "      <th>24</th>\n",
       "      <td>games_video</td>\n",
       "      <td>2010</td>\n",
       "      <td>BASH Gaming</td>\n",
       "      <td>[{'longitude': -122.0780632, 'latitude': 37.55...</td>\n",
       "    </tr>\n",
       "    <tr>\n",
       "      <th>25</th>\n",
       "      <td>advertising</td>\n",
       "      <td>2010</td>\n",
       "      <td>MyLikes</td>\n",
       "      <td>[{'longitude': -122.408914, 'latitude': 37.777...</td>\n",
       "    </tr>\n",
       "    <tr>\n",
       "      <th>26</th>\n",
       "      <td>games_video</td>\n",
       "      <td>2011</td>\n",
       "      <td>Hayen Company</td>\n",
       "      <td>[{'longitude': -81.004871, 'latitude': 34.0191...</td>\n",
       "    </tr>\n",
       "    <tr>\n",
       "      <th>27</th>\n",
       "      <td>games_video</td>\n",
       "      <td>2010</td>\n",
       "      <td>Flixxy</td>\n",
       "      <td>[{'longitude': -82.800333, 'latitude': 27.9723...</td>\n",
       "    </tr>\n",
       "    <tr>\n",
       "      <th>28</th>\n",
       "      <td>games_video</td>\n",
       "      <td>2010</td>\n",
       "      <td>ekidnaworld</td>\n",
       "      <td>[{'longitude': 153.033686, 'latitude': -27.457...</td>\n",
       "    </tr>\n",
       "  </tbody>\n",
       "</table>\n",
       "</div>"
      ],
      "text/plain": [
       "   category_code  founded_year                   name  \\\n",
       "0            web          2011               Mokitown   \n",
       "1         mobile          2010                  GENWI   \n",
       "2            web          2013                  Fixya   \n",
       "3    games_video          2011  Social Gaming Network   \n",
       "4         mobile          2012                Skydeck   \n",
       "5         mobile          2012  Jumbuck Entertainment   \n",
       "6            web          2010                 Pixsta   \n",
       "7    games_video          2011                   Fuzz   \n",
       "8            web          2010           CollegeConvo   \n",
       "9            web          2011                 Ziippi   \n",
       "10   games_video          2010           Titan Gaming   \n",
       "11   advertising          2013               SEOGroup   \n",
       "12        mobile          2010                 vufind   \n",
       "13   games_video          2011                  Kidos   \n",
       "14        mobile          2010                 vufind   \n",
       "15   games_video          2011                  Kidos   \n",
       "16   games_video          2010                Equedia   \n",
       "17   advertising          2010             Webmoblink   \n",
       "18           web          2010                  Yipit   \n",
       "19           web          2010                  fruux   \n",
       "20           web          2013                 Clowdy   \n",
       "21   games_video          2010               Tengaged   \n",
       "22   games_video          2010                  Indee   \n",
       "23           web          2010            eCampusCash   \n",
       "24   games_video          2010            BASH Gaming   \n",
       "25   advertising          2010                MyLikes   \n",
       "26   games_video          2011          Hayen Company   \n",
       "27   games_video          2010                 Flixxy   \n",
       "28   games_video          2010            ekidnaworld   \n",
       "\n",
       "                                              offices  \n",
       "0   [{'longitude': -95.712891, 'latitude': 37.09024}]  \n",
       "1     [{'longitude': -111.9035, 'latitude': 33.8171}]  \n",
       "2   [{'longitude': -122.323895, 'latitude': 37.566...  \n",
       "3   [{'longitude': -122.161523, 'latitude': 37.446...  \n",
       "4   [{'longitude': -122.3254705, 'latitude': 37.56...  \n",
       "5   [{'longitude': 144.962991, 'latitude': -37.817...  \n",
       "6    [{'longitude': -0.208979, 'latitude': 51.51819}]  \n",
       "7   [{'longitude': -122.387799, 'latitude': 37.760...  \n",
       "8   [{'longitude': -74.294395, 'latitude': 40.6502...  \n",
       "9   [{'longitude': -122.1612868, 'latitude': 37.44...  \n",
       "10  [{'longitude': -113.515769, 'latitude': 53.544...  \n",
       "11  [{'longitude': -87.624701, 'latitude': 41.8862...  \n",
       "12  [{'longitude': -122.145153, 'latitude': 37.424...  \n",
       "13  [{'longitude': -73.956599, 'latitude': 40.7680...  \n",
       "14  [{'longitude': -122.145153, 'latitude': 37.424...  \n",
       "15  [{'longitude': -73.956599, 'latitude': 40.7680...  \n",
       "16  [{'longitude': -123.1169693, 'latitude': 49.28...  \n",
       "17  [{'longitude': -80.424167, 'latitude': 25.6558...  \n",
       "18  [{'longitude': -73.987764, 'latitude': 40.7446...  \n",
       "19  [{'longitude': 7.6267552, 'latitude': 51.96300...  \n",
       "20  [{'longitude': -2.2439492, 'latitude': 53.4837...  \n",
       "21  [{'longitude': 2.1634249, 'latitude': 41.42412...  \n",
       "22  [{'longitude': -122.4052761, 'latitude': 37.80...  \n",
       "23  [{'longitude': -74.294395, 'latitude': 40.6502...  \n",
       "24  [{'longitude': -122.0780632, 'latitude': 37.55...  \n",
       "25  [{'longitude': -122.408914, 'latitude': 37.777...  \n",
       "26  [{'longitude': -81.004871, 'latitude': 34.0191...  \n",
       "27  [{'longitude': -82.800333, 'latitude': 27.9723...  \n",
       "28  [{'longitude': 153.033686, 'latitude': -27.457...  "
      ]
     },
     "execution_count": 7,
     "metadata": {},
     "output_type": "execute_result"
    }
   ],
   "source": [
    "df = pd.DataFrame(new_companies)\n",
    "df"
   ]
  },
  {
   "cell_type": "code",
   "execution_count": 8,
   "metadata": {},
   "outputs": [],
   "source": [
    "#funcion para sacar las coordinadas\n",
    "def getLocation(company):\n",
    "    longitude = company['offices'][0]['longitude']\n",
    "    latitude = company['offices'][0]['latitude']\n",
    "    coordinates = [float(longitude), float(latitude)]\n",
    "    \n",
    "    return coordinates"
   ]
  },
  {
   "cell_type": "code",
   "execution_count": 9,
   "metadata": {},
   "outputs": [
    {
     "data": {
      "text/plain": [
       "[-95.712891, 37.09024]"
      ]
     },
     "execution_count": 9,
     "metadata": {},
     "output_type": "execute_result"
    }
   ],
   "source": [
    "getLocation(new_companies[0])"
   ]
  },
  {
   "cell_type": "code",
   "execution_count": 10,
   "metadata": {},
   "outputs": [],
   "source": [
    "coords=[{'type': 'Point', 'coordinates':getLocation(comp)}for comp in new_companies]"
   ]
  },
  {
   "cell_type": "code",
   "execution_count": 11,
   "metadata": {},
   "outputs": [],
   "source": [
    "#print(coords)"
   ]
  },
  {
   "cell_type": "code",
   "execution_count": 12,
   "metadata": {},
   "outputs": [
    {
     "data": {
      "text/html": [
       "<div>\n",
       "<style scoped>\n",
       "    .dataframe tbody tr th:only-of-type {\n",
       "        vertical-align: middle;\n",
       "    }\n",
       "\n",
       "    .dataframe tbody tr th {\n",
       "        vertical-align: top;\n",
       "    }\n",
       "\n",
       "    .dataframe thead th {\n",
       "        text-align: right;\n",
       "    }\n",
       "</style>\n",
       "<table border=\"1\" class=\"dataframe\">\n",
       "  <thead>\n",
       "    <tr style=\"text-align: right;\">\n",
       "      <th></th>\n",
       "      <th>category_code</th>\n",
       "      <th>founded_year</th>\n",
       "      <th>name</th>\n",
       "      <th>offices</th>\n",
       "      <th>office_coords</th>\n",
       "    </tr>\n",
       "  </thead>\n",
       "  <tbody>\n",
       "    <tr>\n",
       "      <th>0</th>\n",
       "      <td>web</td>\n",
       "      <td>2011</td>\n",
       "      <td>Mokitown</td>\n",
       "      <td>[{'longitude': -95.712891, 'latitude': 37.09024}]</td>\n",
       "      <td>{'type': 'Point', 'coordinates': [-95.712891, ...</td>\n",
       "    </tr>\n",
       "    <tr>\n",
       "      <th>1</th>\n",
       "      <td>mobile</td>\n",
       "      <td>2010</td>\n",
       "      <td>GENWI</td>\n",
       "      <td>[{'longitude': -111.9035, 'latitude': 33.8171}]</td>\n",
       "      <td>{'type': 'Point', 'coordinates': [-111.9035, 3...</td>\n",
       "    </tr>\n",
       "    <tr>\n",
       "      <th>2</th>\n",
       "      <td>web</td>\n",
       "      <td>2013</td>\n",
       "      <td>Fixya</td>\n",
       "      <td>[{'longitude': -122.323895, 'latitude': 37.566...</td>\n",
       "      <td>{'type': 'Point', 'coordinates': [-122.323895,...</td>\n",
       "    </tr>\n",
       "    <tr>\n",
       "      <th>3</th>\n",
       "      <td>games_video</td>\n",
       "      <td>2011</td>\n",
       "      <td>Social Gaming Network</td>\n",
       "      <td>[{'longitude': -122.161523, 'latitude': 37.446...</td>\n",
       "      <td>{'type': 'Point', 'coordinates': [-122.161523,...</td>\n",
       "    </tr>\n",
       "    <tr>\n",
       "      <th>4</th>\n",
       "      <td>mobile</td>\n",
       "      <td>2012</td>\n",
       "      <td>Skydeck</td>\n",
       "      <td>[{'longitude': -122.3254705, 'latitude': 37.56...</td>\n",
       "      <td>{'type': 'Point', 'coordinates': [-122.3254705...</td>\n",
       "    </tr>\n",
       "  </tbody>\n",
       "</table>\n",
       "</div>"
      ],
      "text/plain": [
       "  category_code  founded_year                   name  \\\n",
       "0           web          2011               Mokitown   \n",
       "1        mobile          2010                  GENWI   \n",
       "2           web          2013                  Fixya   \n",
       "3   games_video          2011  Social Gaming Network   \n",
       "4        mobile          2012                Skydeck   \n",
       "\n",
       "                                             offices  \\\n",
       "0  [{'longitude': -95.712891, 'latitude': 37.09024}]   \n",
       "1    [{'longitude': -111.9035, 'latitude': 33.8171}]   \n",
       "2  [{'longitude': -122.323895, 'latitude': 37.566...   \n",
       "3  [{'longitude': -122.161523, 'latitude': 37.446...   \n",
       "4  [{'longitude': -122.3254705, 'latitude': 37.56...   \n",
       "\n",
       "                                       office_coords  \n",
       "0  {'type': 'Point', 'coordinates': [-95.712891, ...  \n",
       "1  {'type': 'Point', 'coordinates': [-111.9035, 3...  \n",
       "2  {'type': 'Point', 'coordinates': [-122.323895,...  \n",
       "3  {'type': 'Point', 'coordinates': [-122.161523,...  \n",
       "4  {'type': 'Point', 'coordinates': [-122.3254705...  "
      ]
     },
     "execution_count": 12,
     "metadata": {},
     "output_type": "execute_result"
    }
   ],
   "source": [
    "df['office_coords']=coords\n",
    "df.head()"
   ]
  },
  {
   "cell_type": "code",
   "execution_count": 13,
   "metadata": {},
   "outputs": [],
   "source": [
    "df=df[['category_code','founded_year','name','office_coords']]"
   ]
  },
  {
   "cell_type": "code",
   "execution_count": 14,
   "metadata": {},
   "outputs": [
    {
     "data": {
      "text/html": [
       "<div>\n",
       "<style scoped>\n",
       "    .dataframe tbody tr th:only-of-type {\n",
       "        vertical-align: middle;\n",
       "    }\n",
       "\n",
       "    .dataframe tbody tr th {\n",
       "        vertical-align: top;\n",
       "    }\n",
       "\n",
       "    .dataframe thead th {\n",
       "        text-align: right;\n",
       "    }\n",
       "</style>\n",
       "<table border=\"1\" class=\"dataframe\">\n",
       "  <thead>\n",
       "    <tr style=\"text-align: right;\">\n",
       "      <th></th>\n",
       "      <th>category_code</th>\n",
       "      <th>founded_year</th>\n",
       "      <th>name</th>\n",
       "      <th>office_coords</th>\n",
       "    </tr>\n",
       "  </thead>\n",
       "  <tbody>\n",
       "    <tr>\n",
       "      <th>0</th>\n",
       "      <td>web</td>\n",
       "      <td>2011</td>\n",
       "      <td>Mokitown</td>\n",
       "      <td>{'type': 'Point', 'coordinates': [-95.712891, ...</td>\n",
       "    </tr>\n",
       "    <tr>\n",
       "      <th>1</th>\n",
       "      <td>mobile</td>\n",
       "      <td>2010</td>\n",
       "      <td>GENWI</td>\n",
       "      <td>{'type': 'Point', 'coordinates': [-111.9035, 3...</td>\n",
       "    </tr>\n",
       "    <tr>\n",
       "      <th>2</th>\n",
       "      <td>web</td>\n",
       "      <td>2013</td>\n",
       "      <td>Fixya</td>\n",
       "      <td>{'type': 'Point', 'coordinates': [-122.323895,...</td>\n",
       "    </tr>\n",
       "    <tr>\n",
       "      <th>3</th>\n",
       "      <td>games_video</td>\n",
       "      <td>2011</td>\n",
       "      <td>Social Gaming Network</td>\n",
       "      <td>{'type': 'Point', 'coordinates': [-122.161523,...</td>\n",
       "    </tr>\n",
       "    <tr>\n",
       "      <th>4</th>\n",
       "      <td>mobile</td>\n",
       "      <td>2012</td>\n",
       "      <td>Skydeck</td>\n",
       "      <td>{'type': 'Point', 'coordinates': [-122.3254705...</td>\n",
       "    </tr>\n",
       "  </tbody>\n",
       "</table>\n",
       "</div>"
      ],
      "text/plain": [
       "  category_code  founded_year                   name  \\\n",
       "0           web          2011               Mokitown   \n",
       "1        mobile          2010                  GENWI   \n",
       "2           web          2013                  Fixya   \n",
       "3   games_video          2011  Social Gaming Network   \n",
       "4        mobile          2012                Skydeck   \n",
       "\n",
       "                                       office_coords  \n",
       "0  {'type': 'Point', 'coordinates': [-95.712891, ...  \n",
       "1  {'type': 'Point', 'coordinates': [-111.9035, 3...  \n",
       "2  {'type': 'Point', 'coordinates': [-122.323895,...  \n",
       "3  {'type': 'Point', 'coordinates': [-122.161523,...  \n",
       "4  {'type': 'Point', 'coordinates': [-122.3254705...  "
      ]
     },
     "execution_count": 14,
     "metadata": {},
     "output_type": "execute_result"
    }
   ],
   "source": [
    "df.head()"
   ]
  },
  {
   "cell_type": "code",
   "execution_count": 15,
   "metadata": {},
   "outputs": [],
   "source": [
    "df.to_json('df_new_compannies.json', orient='records')"
   ]
  },
  {
   "cell_type": "code",
   "execution_count": 16,
   "metadata": {},
   "outputs": [],
   "source": [
    "old_companies = list(coll.find({'$and':\n",
    "                           [ { \"offices.latitude\": {\"$exists\": True,\"$ne\":None} },\n",
    "                            { \"offices.longitude\": {\"$exists\": True,\"$ne\":None} },\n",
    "                            {'founded_year': {'$lt': 2009 }},\n",
    "                            {'deadpooled_year':None}]}, \n",
    "                          {'name':1,'founded_year': 1, '_id': 0,'offices.latitude':1, \n",
    "                           'offices.longitude':1, 'category_code':1, 'location':1 }))"
   ]
  },
  {
   "cell_type": "code",
   "execution_count": 17,
   "metadata": {},
   "outputs": [
    {
     "data": {
      "text/plain": [
       "6578"
      ]
     },
     "execution_count": 17,
     "metadata": {},
     "output_type": "execute_result"
    }
   ],
   "source": [
    "len(old_companies)"
   ]
  },
  {
   "cell_type": "code",
   "execution_count": 18,
   "metadata": {},
   "outputs": [
    {
     "data": {
      "text/html": [
       "<div>\n",
       "<style scoped>\n",
       "    .dataframe tbody tr th:only-of-type {\n",
       "        vertical-align: middle;\n",
       "    }\n",
       "\n",
       "    .dataframe tbody tr th {\n",
       "        vertical-align: top;\n",
       "    }\n",
       "\n",
       "    .dataframe thead th {\n",
       "        text-align: right;\n",
       "    }\n",
       "</style>\n",
       "<table border=\"1\" class=\"dataframe\">\n",
       "  <thead>\n",
       "    <tr style=\"text-align: right;\">\n",
       "      <th></th>\n",
       "      <th>category_code</th>\n",
       "      <th>founded_year</th>\n",
       "      <th>name</th>\n",
       "      <th>offices</th>\n",
       "    </tr>\n",
       "  </thead>\n",
       "  <tbody>\n",
       "    <tr>\n",
       "      <th>0</th>\n",
       "      <td>web</td>\n",
       "      <td>2001</td>\n",
       "      <td>TechnologyGuide</td>\n",
       "      <td>[{'longitude': -84.351532, 'latitude': 39.06685}]</td>\n",
       "    </tr>\n",
       "    <tr>\n",
       "      <th>1</th>\n",
       "      <td>news</td>\n",
       "      <td>2004</td>\n",
       "      <td>Digg</td>\n",
       "      <td>[{'longitude': -122.394523, 'latitude': 37.764...</td>\n",
       "    </tr>\n",
       "    <tr>\n",
       "      <th>2</th>\n",
       "      <td>social</td>\n",
       "      <td>2004</td>\n",
       "      <td>Facebook</td>\n",
       "      <td>[{'longitude': -122.151801, 'latitude': 37.416...</td>\n",
       "    </tr>\n",
       "    <tr>\n",
       "      <th>3</th>\n",
       "      <td>web</td>\n",
       "      <td>1999</td>\n",
       "      <td>Postini</td>\n",
       "      <td>[{'longitude': -122.247573, 'latitude': 37.506...</td>\n",
       "    </tr>\n",
       "    <tr>\n",
       "      <th>4</th>\n",
       "      <td>web</td>\n",
       "      <td>2006</td>\n",
       "      <td>Geni</td>\n",
       "      <td>[{'longitude': -118.393064, 'latitude': 34.090...</td>\n",
       "    </tr>\n",
       "  </tbody>\n",
       "</table>\n",
       "</div>"
      ],
      "text/plain": [
       "  category_code  founded_year             name  \\\n",
       "0           web          2001  TechnologyGuide   \n",
       "1          news          2004             Digg   \n",
       "2        social          2004         Facebook   \n",
       "3           web          1999          Postini   \n",
       "4           web          2006             Geni   \n",
       "\n",
       "                                             offices  \n",
       "0  [{'longitude': -84.351532, 'latitude': 39.06685}]  \n",
       "1  [{'longitude': -122.394523, 'latitude': 37.764...  \n",
       "2  [{'longitude': -122.151801, 'latitude': 37.416...  \n",
       "3  [{'longitude': -122.247573, 'latitude': 37.506...  \n",
       "4  [{'longitude': -118.393064, 'latitude': 34.090...  "
      ]
     },
     "execution_count": 18,
     "metadata": {},
     "output_type": "execute_result"
    }
   ],
   "source": [
    "df_oldcomp = pd.DataFrame(old_companies)\n",
    "df_oldcomp.head()"
   ]
  },
  {
   "cell_type": "code",
   "execution_count": 19,
   "metadata": {},
   "outputs": [],
   "source": [
    "old_coords=[{'type': 'Point', 'coordinates':getLocation(comp)}for comp in old_companies]"
   ]
  },
  {
   "cell_type": "code",
   "execution_count": 20,
   "metadata": {},
   "outputs": [],
   "source": [
    "df_oldcomp['office_coords']=old_coords"
   ]
  },
  {
   "cell_type": "code",
   "execution_count": 21,
   "metadata": {},
   "outputs": [
    {
     "data": {
      "text/html": [
       "<div>\n",
       "<style scoped>\n",
       "    .dataframe tbody tr th:only-of-type {\n",
       "        vertical-align: middle;\n",
       "    }\n",
       "\n",
       "    .dataframe tbody tr th {\n",
       "        vertical-align: top;\n",
       "    }\n",
       "\n",
       "    .dataframe thead th {\n",
       "        text-align: right;\n",
       "    }\n",
       "</style>\n",
       "<table border=\"1\" class=\"dataframe\">\n",
       "  <thead>\n",
       "    <tr style=\"text-align: right;\">\n",
       "      <th></th>\n",
       "      <th>category_code</th>\n",
       "      <th>founded_year</th>\n",
       "      <th>name</th>\n",
       "      <th>offices</th>\n",
       "      <th>office_coords</th>\n",
       "    </tr>\n",
       "  </thead>\n",
       "  <tbody>\n",
       "    <tr>\n",
       "      <th>0</th>\n",
       "      <td>web</td>\n",
       "      <td>2001</td>\n",
       "      <td>TechnologyGuide</td>\n",
       "      <td>[{'longitude': -84.351532, 'latitude': 39.06685}]</td>\n",
       "      <td>{'type': 'Point', 'coordinates': [-84.351532, ...</td>\n",
       "    </tr>\n",
       "    <tr>\n",
       "      <th>1</th>\n",
       "      <td>news</td>\n",
       "      <td>2004</td>\n",
       "      <td>Digg</td>\n",
       "      <td>[{'longitude': -122.394523, 'latitude': 37.764...</td>\n",
       "      <td>{'type': 'Point', 'coordinates': [-122.394523,...</td>\n",
       "    </tr>\n",
       "    <tr>\n",
       "      <th>2</th>\n",
       "      <td>social</td>\n",
       "      <td>2004</td>\n",
       "      <td>Facebook</td>\n",
       "      <td>[{'longitude': -122.151801, 'latitude': 37.416...</td>\n",
       "      <td>{'type': 'Point', 'coordinates': [-122.151801,...</td>\n",
       "    </tr>\n",
       "    <tr>\n",
       "      <th>3</th>\n",
       "      <td>web</td>\n",
       "      <td>1999</td>\n",
       "      <td>Postini</td>\n",
       "      <td>[{'longitude': -122.247573, 'latitude': 37.506...</td>\n",
       "      <td>{'type': 'Point', 'coordinates': [-122.247573,...</td>\n",
       "    </tr>\n",
       "    <tr>\n",
       "      <th>4</th>\n",
       "      <td>web</td>\n",
       "      <td>2006</td>\n",
       "      <td>Geni</td>\n",
       "      <td>[{'longitude': -118.393064, 'latitude': 34.090...</td>\n",
       "      <td>{'type': 'Point', 'coordinates': [-118.393064,...</td>\n",
       "    </tr>\n",
       "  </tbody>\n",
       "</table>\n",
       "</div>"
      ],
      "text/plain": [
       "  category_code  founded_year             name  \\\n",
       "0           web          2001  TechnologyGuide   \n",
       "1          news          2004             Digg   \n",
       "2        social          2004         Facebook   \n",
       "3           web          1999          Postini   \n",
       "4           web          2006             Geni   \n",
       "\n",
       "                                             offices  \\\n",
       "0  [{'longitude': -84.351532, 'latitude': 39.06685}]   \n",
       "1  [{'longitude': -122.394523, 'latitude': 37.764...   \n",
       "2  [{'longitude': -122.151801, 'latitude': 37.416...   \n",
       "3  [{'longitude': -122.247573, 'latitude': 37.506...   \n",
       "4  [{'longitude': -118.393064, 'latitude': 34.090...   \n",
       "\n",
       "                                       office_coords  \n",
       "0  {'type': 'Point', 'coordinates': [-84.351532, ...  \n",
       "1  {'type': 'Point', 'coordinates': [-122.394523,...  \n",
       "2  {'type': 'Point', 'coordinates': [-122.151801,...  \n",
       "3  {'type': 'Point', 'coordinates': [-122.247573,...  \n",
       "4  {'type': 'Point', 'coordinates': [-118.393064,...  "
      ]
     },
     "execution_count": 21,
     "metadata": {},
     "output_type": "execute_result"
    }
   ],
   "source": [
    "df_oldcomp.head()"
   ]
  },
  {
   "cell_type": "code",
   "execution_count": 22,
   "metadata": {},
   "outputs": [],
   "source": [
    "df_oldcomp=df_oldcomp[['category_code','founded_year','name','office_coords']]"
   ]
  },
  {
   "cell_type": "code",
   "execution_count": 23,
   "metadata": {},
   "outputs": [],
   "source": [
    "df_oldcomp.to_json('df_old_companies.json', orient='records')"
   ]
  },
  {
   "cell_type": "code",
   "execution_count": 24,
   "metadata": {},
   "outputs": [],
   "source": [
    "#esto una vez hemos añadido las coordenadas, para ver la distancia."
   ]
  },
  {
   "cell_type": "code",
   "execution_count": 25,
   "metadata": {},
   "outputs": [],
   "source": [
    "db, coll = connectCollection('companies','old_companies')"
   ]
  },
  {
   "cell_type": "code",
   "execution_count": 34,
   "metadata": {},
   "outputs": [],
   "source": [
    "old_comp_paloalto = coll.find(\n",
    "    {\"office_coords\":\n",
    "     {\"$near\":\n",
    "      {\"$geometry\":\n",
    "       {\"type\":\"Point\",\n",
    "        \"coordinates\":[-122.1722525,37.4374154]\n",
    "       },\n",
    "       \"$minDistance\":1000,\n",
    "       \"$maxDistance\":6000\n",
    "      }\n",
    "     }\n",
    "    }\n",
    ")\n",
    "old_comp_paloalto=list(old_comp_paloalto)"
   ]
  },
  {
   "cell_type": "code",
   "execution_count": 27,
   "metadata": {},
   "outputs": [
    {
     "name": "stdout",
     "output_type": "stream",
     "text": [
      "74\n"
     ]
    }
   ],
   "source": [
    "print(len(old_comp_paloalto))"
   ]
  },
  {
   "cell_type": "code",
   "execution_count": 28,
   "metadata": {},
   "outputs": [],
   "source": [
    "import folium"
   ]
  },
  {
   "cell_type": "code",
   "execution_count": 35,
   "metadata": {},
   "outputs": [],
   "source": [
    "map_city=folium.Map(location=[37.4374154,-122.1722525], zoom_start=12)\n",
    "for c in old_comp_paloalto:\n",
    "    folium.Marker(c['office_coords']['coordinates'][::-1],\n",
    "                    radius=2,\n",
    "                    icon=folium.Icon(icon='cloud',color='red'), \n",
    "                   ).add_to(map_city)\n",
    "\n"
   ]
  },
  {
   "cell_type": "code",
   "execution_count": 36,
   "metadata": {},
   "outputs": [
    {
     "data": {
      "text/html": [
       "<div style=\"width:100%;\"><div style=\"position:relative;width:100%;height:0;padding-bottom:60%;\"><iframe src=\"data:text/html;charset=utf-8;base64,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\" style=\"position:absolute;width:100%;height:100%;left:0;top:0;border:none !important;\" allowfullscreen webkitallowfullscreen mozallowfullscreen></iframe></div></div>"
      ],
      "text/plain": [
       "<folium.folium.Map at 0x7fb660080898>"
      ]
     },
     "execution_count": 36,
     "metadata": {},
     "output_type": "execute_result"
    }
   ],
   "source": [
    "map_city\n",
    "\n"
   ]
  },
  {
   "cell_type": "code",
   "execution_count": null,
   "metadata": {},
   "outputs": [],
   "source": []
  },
  {
   "cell_type": "code",
   "execution_count": null,
   "metadata": {},
   "outputs": [],
   "source": []
  },
  {
   "cell_type": "code",
   "execution_count": null,
   "metadata": {},
   "outputs": [],
   "source": []
  },
  {
   "cell_type": "code",
   "execution_count": null,
   "metadata": {},
   "outputs": [],
   "source": []
  },
  {
   "cell_type": "code",
   "execution_count": null,
   "metadata": {},
   "outputs": [],
   "source": []
  },
  {
   "cell_type": "code",
   "execution_count": null,
   "metadata": {},
   "outputs": [],
   "source": []
  },
  {
   "cell_type": "code",
   "execution_count": null,
   "metadata": {},
   "outputs": [],
   "source": []
  }
 ],
 "metadata": {
  "kernelspec": {
   "display_name": "Python 3",
   "language": "python",
   "name": "python3"
  },
  "language_info": {
   "codemirror_mode": {
    "name": "ipython",
    "version": 3
   },
   "file_extension": ".py",
   "mimetype": "text/x-python",
   "name": "python",
   "nbconvert_exporter": "python",
   "pygments_lexer": "ipython3",
   "version": "3.5.2"
  }
 },
 "nbformat": 4,
 "nbformat_minor": 2
}
