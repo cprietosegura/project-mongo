{
 "cells": [
  {
   "cell_type": "code",
   "execution_count": 1,
   "metadata": {},
   "outputs": [],
   "source": [
    "from pymongo import MongoClient"
   ]
  },
  {
   "cell_type": "code",
   "execution_count": 2,
   "metadata": {},
   "outputs": [],
   "source": [
    "def connectCollection(database, collection):\n",
    "    client = MongoClient()\n",
    "    db = client[database]\n",
    "    coll = db[collection]\n",
    "    return db, coll\n"
   ]
  },
  {
   "cell_type": "code",
   "execution_count": 3,
   "metadata": {},
   "outputs": [],
   "source": [
    "db, coll = connectCollection('companies','companies')\n",
    "\n"
   ]
  },
  {
   "cell_type": "code",
   "execution_count": 5,
   "metadata": {},
   "outputs": [],
   "source": [
    "#rest = list(coll.find({'category_code':\"web\"}))"
   ]
  },
  {
   "cell_type": "code",
   "execution_count": 12,
   "metadata": {},
   "outputs": [
    {
     "ename": "SyntaxError",
     "evalue": "invalid syntax (<ipython-input-12-477ef03f676c>, line 1)",
     "output_type": "error",
     "traceback": [
      "\u001b[0;36m  File \u001b[0;32m\"<ipython-input-12-477ef03f676c>\"\u001b[0;36m, line \u001b[0;32m1\u001b[0m\n\u001b[0;31m    rest = list(coll.find({$and:[{founded_year:{$gt:2009}},{'deadpooled_year':null}]}))\u001b[0m\n\u001b[0m                           ^\u001b[0m\n\u001b[0;31mSyntaxError\u001b[0m\u001b[0;31m:\u001b[0m invalid syntax\n"
     ]
    }
   ],
   "source": [
    "rest = list(coll.find({$and:[{founded_year:{$gt:2009}},{'deadpooled_year':null}]}))"
   ]
  },
  {
   "cell_type": "code",
   "execution_count": 7,
   "metadata": {},
   "outputs": [
    {
     "name": "stdout",
     "output_type": "stream",
     "text": [
      "3787\n"
     ]
    }
   ],
   "source": [
    "print(len(rest))"
   ]
  },
  {
   "cell_type": "code",
   "execution_count": 11,
   "metadata": {},
   "outputs": [],
   "source": [
    "#rest[0]"
   ]
  },
  {
   "cell_type": "markdown",
   "metadata": {},
   "source": [
    "funcion para sacar las coordinadas"
   ]
  },
  {
   "cell_type": "code",
   "execution_count": 10,
   "metadata": {},
   "outputs": [],
   "source": [
    "def getLocation(wendy):\n",
    "    longitude = wendy['address']['coord'][0]['$numberDouble']\n",
    "    latitude = wendy['address']['coord'][1]['$numberDouble']\n",
    "    loc = {\n",
    "        'type':'Point',\n",
    "        'coordinates':[float(longitude), float(latitude)]\n",
    "    }\n",
    "    \n",
    "    return loc"
   ]
  },
  {
   "cell_type": "code",
   "execution_count": null,
   "metadata": {},
   "outputs": [],
   "source": [
    "web_companies = coll.find(\n",
    "    {\"location\":\n",
    "     {\"$near\":\n",
    "      {\"$geometry\":\n",
    "       {\"type\":\"Point\",\n",
    "        \"coordinates\":[-73.9712,40.7831]\n",
    "       },\n",
    "       \"$maxDistance\":10000\n",
    "      }\n",
    "     }\n",
    "    }\n",
    ")\n",
    "manhattanWendys=list(manhattanWendys)"
   ]
  }
 ],
 "metadata": {
  "kernelspec": {
   "display_name": "Python 3",
   "language": "python",
   "name": "python3"
  },
  "language_info": {
   "codemirror_mode": {
    "name": "ipython",
    "version": 3
   },
   "file_extension": ".py",
   "mimetype": "text/x-python",
   "name": "python",
   "nbconvert_exporter": "python",
   "pygments_lexer": "ipython3",
   "version": "3.5.2"
  }
 },
 "nbformat": 4,
 "nbformat_minor": 2
}
