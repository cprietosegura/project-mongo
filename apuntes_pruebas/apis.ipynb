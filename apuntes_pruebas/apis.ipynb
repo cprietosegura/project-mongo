{
 "cells": [
  {
   "cell_type": "code",
   "execution_count": 17,
   "metadata": {},
   "outputs": [],
   "source": [
    "import requests\n",
    "import os\n",
    "from dotenv import load_dotenv\n",
    "load_dotenv()\n",
    "import pandas as pd\n",
    "import json"
   ]
  },
  {
   "cell_type": "code",
   "execution_count": 5,
   "metadata": {},
   "outputs": [
    {
     "name": "stdout",
     "output_type": "stream",
     "text": [
      "Requesting url http://api.geonames.org/postalCodeSearchJSON?postalcode=94303&maxRows=30&username=celiatleti...\n",
      "done\n"
     ]
    }
   ],
   "source": [
    "\"\"\"url = \"http://api.geonames.org/postalCodeSearchJSON?postalcode=94303&maxRows=30&username=celiatleti\"\n",
    "print(\"Requesting url {}...\".format(url))\n",
    "res = requests.get(url)\n",
    "data = res.json()\n",
    "print(\"done\")\n",
    "    \"\"\""
   ]
  },
  {
   "cell_type": "code",
   "execution_count": null,
   "metadata": {},
   "outputs": [],
   "source": [
    "#PARA UTILIZAR EN LA API DE FOURSQUARE. ¿Como conseguir el venue id? te dice todos los starbucks que hay?\n",
    "\n",
    "\"\"\"tips='https://api.foursquare.com/v2/venues/4b564bf1f964a520db0928e3/tips'\n",
    "\n",
    "params=dict(client_id=client_id,client_secret=client_secret,v='20170801')\n",
    "\n",
    "resp_tips=requests.get(url=tips, params=params)\n",
    "\n",
    "data_tips=json.loads(resp_tips.text)\n",
    "\n",
    "data_tips\"\"\""
   ]
  },
  {
   "cell_type": "code",
   "execution_count": 7,
   "metadata": {},
   "outputs": [
    {
     "data": {
      "text/plain": [
       "1"
      ]
     },
     "execution_count": 7,
     "metadata": {},
     "output_type": "execute_result"
    }
   ],
   "source": [
    "len(data)"
   ]
  },
  {
   "cell_type": "code",
   "execution_count": 5,
   "metadata": {},
   "outputs": [
    {
     "name": "stdout",
     "output_type": "stream",
     "text": [
      "We have a client sec:  3NSF\n",
      "Requesting authorized https://api.foursquare.com/v2/venues/search?ll=37.4598046,-122.142886&client_id=1FZ3KSOVCZN5KAQEAADMSD1UEL4UEWEKEMZLGV1Y401RUM4T&client_secret=3NSFAYZNGFRVDCYWE3AEPGHNEGBLMXG13A2VURDRAQJKS5FG&v=20191117\n"
     ]
    }
   ],
   "source": [
    "clientSec = os.getenv(\"CLIENT_SECRET\")\n",
    "clientId = os.getenv(\"CLIENT_ID\")\n",
    "coords= \"37.4598046,-122.142886\"\n",
    "if not clientSec:\n",
    "    raise ValueError(\"NECESITAS UN TOKEN\")\n",
    "else:\n",
    "    print(\"We have a client sec: \", clientSec[0:4])\n",
    "\n",
    "url = \"https://api.foursquare.com/v2/venues/search?ll={}&client_id={}&client_secret={}&v=20191117\".format(coords,clientId,clientSec)\n",
    "print(\"Requesting authorized {}\".format(url))\n",
    "res = requests.get(url)\n",
    "return res\n"
   ]
  },
  {
   "cell_type": "code",
   "execution_count": 6,
   "metadata": {},
   "outputs": [
    {
     "data": {
      "text/plain": [
       "<Response [200]>"
      ]
     },
     "execution_count": 6,
     "metadata": {},
     "output_type": "execute_result"
    }
   ],
   "source": [
    "res"
   ]
  },
  {
   "cell_type": "code",
   "execution_count": 1,
   "metadata": {},
   "outputs": [],
   "source": [
    "#https://api.foursquare.com/v2/venues/search?ll=40.7,-74&client_id=CLIENT_ID&client_secret=CLIENT_SECRET&v=YYYYMMDD"
   ]
  },
  {
   "cell_type": "code",
   "execution_count": null,
   "metadata": {},
   "outputs": [],
   "source": [
    "data=res.json"
   ]
  },
  {
   "cell_type": "code",
   "execution_count": 13,
   "metadata": {},
   "outputs": [],
   "source": [
    "with open('search_venues.json', 'r') as myfile:\n",
    "    data=myfile.read()\n",
    "\n",
    "# parse file\n",
    "venues = json.loads(data)"
   ]
  },
  {
   "cell_type": "code",
   "execution_count": 28,
   "metadata": {},
   "outputs": [
    {
     "data": {
      "text/plain": [
       "{'categories': [{'icon': {'prefix': 'https://ss3.4sqi.net/img/categories_v2/travel/hotel_',\n",
       "    'suffix': '.png'},\n",
       "   'id': '4bf58dd8d48988d1fa931735',\n",
       "   'name': 'Hotel',\n",
       "   'pluralName': 'Hoteles',\n",
       "   'primary': True,\n",
       "   'shortName': 'Hotel'}],\n",
       " 'hasPerk': False,\n",
       " 'id': '4a1dfd2df964a520b47b1fe3',\n",
       " 'location': {'address': '2050 University Ave',\n",
       "  'cc': 'US',\n",
       "  'city': 'East Palo Alto',\n",
       "  'country': 'Estados Unidos',\n",
       "  'distance': 68,\n",
       "  'formattedAddress': ['2050 University Ave',\n",
       "   'East Palo Alto, CA 94303',\n",
       "   'Estados Unidos'],\n",
       "  'labeledLatLngs': [{'label': 'display',\n",
       "    'lat': 37.46023550185142,\n",
       "    'lng': -122.14233638456157}],\n",
       "  'lat': 37.46023550185142,\n",
       "  'lng': -122.14233638456157,\n",
       "  'postalCode': '94303',\n",
       "  'state': 'CA'},\n",
       " 'name': 'Four Seasons Hotel Silicon Valley',\n",
       " 'referralId': 'v-1574011531'}"
      ]
     },
     "execution_count": 28,
     "metadata": {},
     "output_type": "execute_result"
    }
   ],
   "source": [
    "venues['response']['venues'][1]"
   ]
  },
  {
   "cell_type": "code",
   "execution_count": 15,
   "metadata": {},
   "outputs": [],
   "source": [
    "from pandas.io.json import json_normalize"
   ]
  },
  {
   "cell_type": "code",
   "execution_count": 30,
   "metadata": {},
   "outputs": [],
   "source": [
    "#df = pd.DataFrame.from_dict(json_normalize(venues), orient='columns')"
   ]
  },
  {
   "cell_type": "code",
   "execution_count": null,
   "metadata": {},
   "outputs": [],
   "source": []
  }
 ],
 "metadata": {
  "kernelspec": {
   "display_name": "Python 3",
   "language": "python",
   "name": "python3"
  },
  "language_info": {
   "codemirror_mode": {
    "name": "ipython",
    "version": 3
   },
   "file_extension": ".py",
   "mimetype": "text/x-python",
   "name": "python",
   "nbconvert_exporter": "python",
   "pygments_lexer": "ipython3",
   "version": "3.5.2"
  }
 },
 "nbformat": 4,
 "nbformat_minor": 2
}
