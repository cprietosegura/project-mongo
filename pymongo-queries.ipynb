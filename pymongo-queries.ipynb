{
 "cells": [
  {
   "cell_type": "code",
   "execution_count": 1,
   "metadata": {},
   "outputs": [],
   "source": [
    "from pymongo import MongoClient\n",
    "import pandas as pd"
   ]
  },
  {
   "cell_type": "code",
   "execution_count": 2,
   "metadata": {},
   "outputs": [],
   "source": [
    "def connectCollection(database, collection):\n",
    "    client = MongoClient()\n",
    "    db = client[database]\n",
    "    coll = db[collection]\n",
    "    return db, coll\n"
   ]
  },
  {
   "cell_type": "code",
   "execution_count": 3,
   "metadata": {},
   "outputs": [],
   "source": [
    "db, coll = connectCollection('companies','companies')"
   ]
  },
  {
   "cell_type": "code",
   "execution_count": 19,
   "metadata": {},
   "outputs": [],
   "source": [
    "#query para filtrar solo las compañias relacionadas de alguna manera con design y que son posteriores a 2009.\n",
    "#solamente devuelve los valores que me interesan: name, category, location, founded year e id.\n",
    "new_companies = list(coll.find({'$and':\n",
    "                           [ { \"offices.latitude\": {\"$exists\": True,\"$ne\":None} },\n",
    "                            { \"offices.longitude\": {\"$exists\": True,\"$ne\":None} },\n",
    "                            {'deadpooled_year':None},\n",
    "                            {'$or':[{'category_code': 'advertising' },\n",
    "                                    {'category_code': 'software' },\n",
    "                                    {'category_code': 'mobile' },\n",
    "                                    {'category_code': 'web' },\n",
    "                                    {'category_code': 'games_video' }]}]}, \n",
    "                          {'name':1,'founded_year': 1, '_id': 0,'offices.latitude':1, \n",
    "                           'offices.longitude':1, 'category_code':1, 'location':1 }))"
   ]
  },
  {
   "cell_type": "code",
   "execution_count": 20,
   "metadata": {},
   "outputs": [
    {
     "name": "stdout",
     "output_type": "stream",
     "text": [
      "4791\n"
     ]
    },
    {
     "data": {
      "text/plain": [
       "{'category_code': 'web',\n",
       " 'founded_year': 2001,\n",
       " 'name': 'TechnologyGuide',\n",
       " 'offices': [{'latitude': 39.06685, 'longitude': -84.351532}]}"
      ]
     },
     "execution_count": 20,
     "metadata": {},
     "output_type": "execute_result"
    }
   ],
   "source": [
    "print(len(new_companies))\n",
    "new_companies[0]"
   ]
  },
  {
   "cell_type": "code",
   "execution_count": 21,
   "metadata": {},
   "outputs": [],
   "source": [
    "#funcion para sacar las coordenadas de las queries. Solamente saca la primera de las oficinas.\n",
    "def getLocation(company):\n",
    "    longitude = company['offices'][0]['longitude']\n",
    "    latitude = company['offices'][0]['latitude']\n",
    "    coordinates = [float(longitude), float(latitude)]\n",
    "    \n",
    "    return coordinates"
   ]
  },
  {
   "cell_type": "code",
   "execution_count": 22,
   "metadata": {},
   "outputs": [
    {
     "data": {
      "text/plain": [
       "[-84.351532, 39.06685]"
      ]
     },
     "execution_count": 22,
     "metadata": {},
     "output_type": "execute_result"
    }
   ],
   "source": [
    "getLocation(new_companies[0]) #probando la función en una company."
   ]
  },
  {
   "cell_type": "code",
   "execution_count": 23,
   "metadata": {},
   "outputs": [],
   "source": [
    "#funcion para crear df de la query con las coordenadas\n",
    "def createDfFromMongo(query):\n",
    "    df = pd.DataFrame(query)\n",
    "    coords=[{'type': 'Point', 'coordinates':getLocation(q)}for q in query]\n",
    "    df['office_coords']=coords\n",
    "    df=df[['category_code','founded_year','name','office_coords']]\n",
    "    return df\n",
    "    "
   ]
  },
  {
   "cell_type": "code",
   "execution_count": 24,
   "metadata": {},
   "outputs": [],
   "source": [
    "df= createDfFromMongo(new_companies)"
   ]
  },
  {
   "cell_type": "code",
   "execution_count": 17,
   "metadata": {},
   "outputs": [
    {
     "data": {
      "text/html": [
       "<div>\n",
       "<style scoped>\n",
       "    .dataframe tbody tr th:only-of-type {\n",
       "        vertical-align: middle;\n",
       "    }\n",
       "\n",
       "    .dataframe tbody tr th {\n",
       "        vertical-align: top;\n",
       "    }\n",
       "\n",
       "    .dataframe thead th {\n",
       "        text-align: right;\n",
       "    }\n",
       "</style>\n",
       "<table border=\"1\" class=\"dataframe\">\n",
       "  <thead>\n",
       "    <tr style=\"text-align: right;\">\n",
       "      <th></th>\n",
       "      <th>category_code</th>\n",
       "      <th>founded_year</th>\n",
       "      <th>name</th>\n",
       "      <th>office_coords</th>\n",
       "    </tr>\n",
       "  </thead>\n",
       "  <tbody>\n",
       "    <tr>\n",
       "      <th>0</th>\n",
       "      <td>web</td>\n",
       "      <td>2011</td>\n",
       "      <td>Mokitown</td>\n",
       "      <td>{'type': 'Point', 'coordinates': [-95.712891, ...</td>\n",
       "    </tr>\n",
       "    <tr>\n",
       "      <th>1</th>\n",
       "      <td>mobile</td>\n",
       "      <td>2010</td>\n",
       "      <td>GENWI</td>\n",
       "      <td>{'type': 'Point', 'coordinates': [-111.9035, 3...</td>\n",
       "    </tr>\n",
       "    <tr>\n",
       "      <th>2</th>\n",
       "      <td>web</td>\n",
       "      <td>2013</td>\n",
       "      <td>Fixya</td>\n",
       "      <td>{'type': 'Point', 'coordinates': [-122.323895,...</td>\n",
       "    </tr>\n",
       "    <tr>\n",
       "      <th>3</th>\n",
       "      <td>games_video</td>\n",
       "      <td>2011</td>\n",
       "      <td>Social Gaming Network</td>\n",
       "      <td>{'type': 'Point', 'coordinates': [-122.161523,...</td>\n",
       "    </tr>\n",
       "    <tr>\n",
       "      <th>4</th>\n",
       "      <td>mobile</td>\n",
       "      <td>2012</td>\n",
       "      <td>Skydeck</td>\n",
       "      <td>{'type': 'Point', 'coordinates': [-122.3254705...</td>\n",
       "    </tr>\n",
       "  </tbody>\n",
       "</table>\n",
       "</div>"
      ],
      "text/plain": [
       "  category_code  founded_year                   name  \\\n",
       "0           web          2011               Mokitown   \n",
       "1        mobile          2010                  GENWI   \n",
       "2           web          2013                  Fixya   \n",
       "3   games_video          2011  Social Gaming Network   \n",
       "4        mobile          2012                Skydeck   \n",
       "\n",
       "                                       office_coords  \n",
       "0  {'type': 'Point', 'coordinates': [-95.712891, ...  \n",
       "1  {'type': 'Point', 'coordinates': [-111.9035, 3...  \n",
       "2  {'type': 'Point', 'coordinates': [-122.323895,...  \n",
       "3  {'type': 'Point', 'coordinates': [-122.161523,...  \n",
       "4  {'type': 'Point', 'coordinates': [-122.3254705...  "
      ]
     },
     "execution_count": 17,
     "metadata": {},
     "output_type": "execute_result"
    }
   ],
   "source": [
    "df.head()"
   ]
  },
  {
   "cell_type": "code",
   "execution_count": 27,
   "metadata": {},
   "outputs": [],
   "source": [
    "df.to_json('df_design.json', orient='records') #guardando el df en json para Mongo."
   ]
  },
  {
   "cell_type": "code",
   "execution_count": 24,
   "metadata": {},
   "outputs": [],
   "source": []
  }
 ],
 "metadata": {
  "kernelspec": {
   "display_name": "Python 3",
   "language": "python",
   "name": "python3"
  },
  "language_info": {
   "codemirror_mode": {
    "name": "ipython",
    "version": 3
   },
   "file_extension": ".py",
   "mimetype": "text/x-python",
   "name": "python",
   "nbconvert_exporter": "python",
   "pygments_lexer": "ipython3",
   "version": "3.5.2"
  }
 },
 "nbformat": 4,
 "nbformat_minor": 2
}
