{
 "cells": [
  {
   "cell_type": "code",
   "execution_count": 1,
   "metadata": {},
   "outputs": [],
   "source": [
    "from pymongo import MongoClient\n",
    "import pandas as pd"
   ]
  },
  {
   "cell_type": "code",
   "execution_count": 2,
   "metadata": {},
   "outputs": [],
   "source": [
    "def connectCollection(database, collection):\n",
    "    client = MongoClient()\n",
    "    db = client[database]\n",
    "    coll = db[collection]\n",
    "    return db, coll"
   ]
  },
  {
   "cell_type": "code",
   "execution_count": 3,
   "metadata": {},
   "outputs": [],
   "source": [
    "db, coll = connectCollection('companies','companies')"
   ]
  },
  {
   "cell_type": "code",
   "execution_count": 19,
   "metadata": {},
   "outputs": [],
   "source": [
    "#query para filtrar solo las compañias relacionadas de alguna manera con design y que son posteriores a 2009.\n",
    "#solamente devuelve los valores que me interesan: name, category, location, founded year e id.\n",
    "new_companies = list(coll.find({'$and':\n",
    "                           [ { \"offices.latitude\": {\"$exists\": True,\"$ne\":None} },\n",
    "                            { \"offices.longitude\": {\"$exists\": True,\"$ne\":None} },\n",
    "                            {'deadpooled_year':None},\n",
    "                            {'$or':[{'category_code': 'advertising' },\n",
    "                                    {'category_code': 'software' },\n",
    "                                    {'category_code': 'mobile' },\n",
    "                                    {'category_code': 'web' },\n",
    "                                    {'category_code': 'games_video' }]}]}, \n",
    "                          {'name':1,'founded_year': 1, '_id': 0,'offices.latitude':1, \n",
    "                           'offices.longitude':1, 'category_code':1, 'location':1 }))"
   ]
  },
  {
   "cell_type": "code",
   "execution_count": 20,
   "metadata": {},
   "outputs": [
    {
     "name": "stdout",
     "output_type": "stream",
     "text": [
      "4791\n"
     ]
    },
    {
     "data": {
      "text/plain": [
       "{'category_code': 'web',\n",
       " 'founded_year': 2001,\n",
       " 'name': 'TechnologyGuide',\n",
       " 'offices': [{'latitude': 39.06685, 'longitude': -84.351532}]}"
      ]
     },
     "execution_count": 20,
     "metadata": {},
     "output_type": "execute_result"
    }
   ],
   "source": [
    "print(len(new_companies))\n",
    "new_companies[0]"
   ]
  },
  {
   "cell_type": "code",
   "execution_count": 11,
   "metadata": {},
   "outputs": [],
   "source": [
    "#funcion para sacar las coordenadas de las queries. Solamente saca la primera de las oficinas.\n",
    "def getLocation(company):\n",
    "    longitude = company['offices'][0]['longitude']\n",
    "    latitude = company['offices'][0]['latitude']\n",
    "    coordinates = [float(longitude), float(latitude)]\n",
    "    \n",
    "    return coordinates"
   ]
  },
  {
   "cell_type": "code",
   "execution_count": 22,
   "metadata": {},
   "outputs": [
    {
     "data": {
      "text/plain": [
       "[-84.351532, 39.06685]"
      ]
     },
     "execution_count": 22,
     "metadata": {},
     "output_type": "execute_result"
    }
   ],
   "source": [
    "getLocation(new_companies[0]) #probando la función en una company."
   ]
  },
  {
   "cell_type": "code",
   "execution_count": 14,
   "metadata": {},
   "outputs": [],
   "source": [
    "#funcion para crear df de la query con las coordenadas\n",
    "def createDfFromMongo(query):\n",
    "    df = pd.DataFrame(query)\n",
    "    coords=[{'type': 'Point', 'coordinates':getLocation(q)}for q in query]\n",
    "    df['coords']=coords\n",
    "    df=df[['category_code','founded_year','name','coords']]\n",
    "    return df\n",
    "    "
   ]
  },
  {
   "cell_type": "code",
   "execution_count": 24,
   "metadata": {},
   "outputs": [],
   "source": [
    "df= createDfFromMongo(new_companies)"
   ]
  },
  {
   "cell_type": "code",
   "execution_count": 17,
   "metadata": {},
   "outputs": [
    {
     "data": {
      "text/html": [
       "<div>\n",
       "<style scoped>\n",
       "    .dataframe tbody tr th:only-of-type {\n",
       "        vertical-align: middle;\n",
       "    }\n",
       "\n",
       "    .dataframe tbody tr th {\n",
       "        vertical-align: top;\n",
       "    }\n",
       "\n",
       "    .dataframe thead th {\n",
       "        text-align: right;\n",
       "    }\n",
       "</style>\n",
       "<table border=\"1\" class=\"dataframe\">\n",
       "  <thead>\n",
       "    <tr style=\"text-align: right;\">\n",
       "      <th></th>\n",
       "      <th>category_code</th>\n",
       "      <th>founded_year</th>\n",
       "      <th>name</th>\n",
       "      <th>office_coords</th>\n",
       "    </tr>\n",
       "  </thead>\n",
       "  <tbody>\n",
       "    <tr>\n",
       "      <th>0</th>\n",
       "      <td>web</td>\n",
       "      <td>2011</td>\n",
       "      <td>Mokitown</td>\n",
       "      <td>{'type': 'Point', 'coordinates': [-95.712891, ...</td>\n",
       "    </tr>\n",
       "    <tr>\n",
       "      <th>1</th>\n",
       "      <td>mobile</td>\n",
       "      <td>2010</td>\n",
       "      <td>GENWI</td>\n",
       "      <td>{'type': 'Point', 'coordinates': [-111.9035, 3...</td>\n",
       "    </tr>\n",
       "    <tr>\n",
       "      <th>2</th>\n",
       "      <td>web</td>\n",
       "      <td>2013</td>\n",
       "      <td>Fixya</td>\n",
       "      <td>{'type': 'Point', 'coordinates': [-122.323895,...</td>\n",
       "    </tr>\n",
       "    <tr>\n",
       "      <th>3</th>\n",
       "      <td>games_video</td>\n",
       "      <td>2011</td>\n",
       "      <td>Social Gaming Network</td>\n",
       "      <td>{'type': 'Point', 'coordinates': [-122.161523,...</td>\n",
       "    </tr>\n",
       "    <tr>\n",
       "      <th>4</th>\n",
       "      <td>mobile</td>\n",
       "      <td>2012</td>\n",
       "      <td>Skydeck</td>\n",
       "      <td>{'type': 'Point', 'coordinates': [-122.3254705...</td>\n",
       "    </tr>\n",
       "  </tbody>\n",
       "</table>\n",
       "</div>"
      ],
      "text/plain": [
       "  category_code  founded_year                   name  \\\n",
       "0           web          2011               Mokitown   \n",
       "1        mobile          2010                  GENWI   \n",
       "2           web          2013                  Fixya   \n",
       "3   games_video          2011  Social Gaming Network   \n",
       "4        mobile          2012                Skydeck   \n",
       "\n",
       "                                       office_coords  \n",
       "0  {'type': 'Point', 'coordinates': [-95.712891, ...  \n",
       "1  {'type': 'Point', 'coordinates': [-111.9035, 3...  \n",
       "2  {'type': 'Point', 'coordinates': [-122.323895,...  \n",
       "3  {'type': 'Point', 'coordinates': [-122.161523,...  \n",
       "4  {'type': 'Point', 'coordinates': [-122.3254705...  "
      ]
     },
     "execution_count": 17,
     "metadata": {},
     "output_type": "execute_result"
    }
   ],
   "source": [
    "df.head()"
   ]
  },
  {
   "cell_type": "code",
   "execution_count": 27,
   "metadata": {},
   "outputs": [],
   "source": [
    "df.to_json('df_design.json', orient='records') #guardando el df en json para Mongo."
   ]
  },
  {
   "cell_type": "code",
   "execution_count": 26,
   "metadata": {},
   "outputs": [],
   "source": [
    "design_comp = list(coll.find({'$and':\n",
    "                           [ { \"offices.latitude\": {\"$exists\": True,\"$ne\":None} },\n",
    "                            { \"offices.longitude\": {\"$exists\": True,\"$ne\":None} },\n",
    "                            {'deadpooled_year':None},\n",
    "                            {'founded_year':{'$gt': 2009}},\n",
    "                            {'$or':[{'category_code': 'advertising' },\n",
    "                                    {'category_code': 'software' },\n",
    "                                    {'category_code': 'mobile' },\n",
    "                                    {'category_code': 'web' },\n",
    "                                    {'category_code': 'games_video' }]}]}, \n",
    "                          {'name':1,'founded_year': 1, '_id': 0,'offices.latitude':1, \n",
    "                           'offices.longitude':1, 'category_code':1, 'location':1 }))\n"
   ]
  },
  {
   "cell_type": "code",
   "execution_count": 27,
   "metadata": {},
   "outputs": [
    {
     "data": {
      "text/plain": [
       "[{'category_code': 'web',\n",
       "  'founded_year': 2011,\n",
       "  'name': 'Mokitown',\n",
       "  'offices': [{'latitude': 37.09024, 'longitude': -95.712891}]},\n",
       " {'category_code': 'mobile',\n",
       "  'founded_year': 2010,\n",
       "  'name': 'GENWI',\n",
       "  'offices': [{'latitude': 33.8171, 'longitude': -111.9035}]},\n",
       " {'category_code': 'web',\n",
       "  'founded_year': 2013,\n",
       "  'name': 'Fixya',\n",
       "  'offices': [{'latitude': 37.566879, 'longitude': -122.323895}]},\n",
       " {'category_code': 'games_video',\n",
       "  'founded_year': 2011,\n",
       "  'name': 'Social Gaming Network',\n",
       "  'offices': [{'latitude': 37.446823, 'longitude': -122.161523},\n",
       "   {'latitude': 34.0698494, 'longitude': -118.4054182}]},\n",
       " {'category_code': 'mobile',\n",
       "  'founded_year': 2012,\n",
       "  'name': 'Skydeck',\n",
       "  'offices': [{'latitude': 37.5645375, 'longitude': -122.3254705}]},\n",
       " {'category_code': 'mobile',\n",
       "  'founded_year': 2012,\n",
       "  'name': 'Jumbuck Entertainment',\n",
       "  'offices': [{'latitude': -37.817748, 'longitude': 144.962991}]},\n",
       " {'category_code': 'web',\n",
       "  'founded_year': 2010,\n",
       "  'name': 'Pixsta',\n",
       "  'offices': [{'latitude': 51.51819, 'longitude': -0.208979}]},\n",
       " {'category_code': 'games_video',\n",
       "  'founded_year': 2011,\n",
       "  'name': 'Fuzz',\n",
       "  'offices': [{'latitude': 37.760524, 'longitude': -122.387799}]},\n",
       " {'category_code': 'web',\n",
       "  'founded_year': 2010,\n",
       "  'name': 'CollegeConvo',\n",
       "  'offices': [{'latitude': 40.650291, 'longitude': -74.294395}]},\n",
       " {'category_code': 'software',\n",
       "  'founded_year': 2012,\n",
       "  'name': 'Carfeine',\n",
       "  'offices': [{'latitude': 38.989124, 'longitude': -77.026676}]},\n",
       " {'category_code': 'web',\n",
       "  'founded_year': 2011,\n",
       "  'name': 'Ziippi',\n",
       "  'offices': [{'latitude': 37.4440981, 'longitude': -122.1612868}]},\n",
       " {'category_code': 'games_video',\n",
       "  'founded_year': 2010,\n",
       "  'name': 'Titan Gaming',\n",
       "  'offices': [{'latitude': 53.544711, 'longitude': -113.515769}]},\n",
       " {'category_code': 'software',\n",
       "  'founded_year': 2010,\n",
       "  'name': 'JumpForward',\n",
       "  'offices': [{'latitude': 41.857204, 'longitude': -87.623923}]},\n",
       " {'category_code': 'software',\n",
       "  'founded_year': 2010,\n",
       "  'name': 'OTOY',\n",
       "  'offices': [{'latitude': 34.15761, 'longitude': -118.424058}]},\n",
       " {'category_code': 'advertising',\n",
       "  'founded_year': 2013,\n",
       "  'name': 'SEOGroup',\n",
       "  'offices': [{'latitude': 41.886264, 'longitude': -87.624701}]},\n",
       " {'category_code': 'mobile',\n",
       "  'founded_year': 2010,\n",
       "  'name': 'vufind',\n",
       "  'offices': [{'latitude': 37.424614, 'longitude': -122.145153}]},\n",
       " {'category_code': 'games_video',\n",
       "  'founded_year': 2011,\n",
       "  'name': 'Kidos',\n",
       "  'offices': [{'latitude': 40.768058, 'longitude': -73.956599},\n",
       "   {'latitude': 40.714056, 'longitude': -73.957854}]},\n",
       " {'category_code': 'mobile',\n",
       "  'founded_year': 2010,\n",
       "  'name': 'vufind',\n",
       "  'offices': [{'latitude': 37.424614, 'longitude': -122.145153}]},\n",
       " {'category_code': 'games_video',\n",
       "  'founded_year': 2011,\n",
       "  'name': 'Kidos',\n",
       "  'offices': [{'latitude': 40.768058, 'longitude': -73.956599},\n",
       "   {'latitude': 40.714056, 'longitude': -73.957854}]},\n",
       " {'category_code': 'games_video',\n",
       "  'founded_year': 2010,\n",
       "  'name': 'Equedia',\n",
       "  'offices': [{'latitude': 49.2871668, 'longitude': -123.1169693}]},\n",
       " {'category_code': 'software',\n",
       "  'founded_year': 2012,\n",
       "  'name': 'Navara',\n",
       "  'offices': [{'latitude': 52.126616, 'longitude': 5.038078}]},\n",
       " {'category_code': 'advertising',\n",
       "  'founded_year': 2010,\n",
       "  'name': 'Webmoblink',\n",
       "  'offices': [{'latitude': 25.655899, 'longitude': -80.424167}]},\n",
       " {'category_code': 'web',\n",
       "  'founded_year': 2010,\n",
       "  'name': 'Yipit',\n",
       "  'offices': [{'latitude': 40.744618, 'longitude': -73.987764}]},\n",
       " {'category_code': 'web',\n",
       "  'founded_year': 2010,\n",
       "  'name': 'fruux',\n",
       "  'offices': [{'latitude': 51.9630088, 'longitude': 7.6267552}]},\n",
       " {'category_code': 'web',\n",
       "  'founded_year': 2013,\n",
       "  'name': 'Clowdy',\n",
       "  'offices': [{'latitude': 53.4837067, 'longitude': -2.2439492}]},\n",
       " {'category_code': 'software',\n",
       "  'founded_year': 2011,\n",
       "  'name': 'Unison Technologies',\n",
       "  'offices': [{'latitude': 40.7645772, 'longitude': -73.9799007}]},\n",
       " {'category_code': 'games_video',\n",
       "  'founded_year': 2010,\n",
       "  'name': 'Tengaged',\n",
       "  'offices': [{'latitude': 41.4241228, 'longitude': 2.1634249}]},\n",
       " {'category_code': 'software',\n",
       "  'founded_year': 2010,\n",
       "  'name': 'Reachoo',\n",
       "  'offices': [{'latitude': 26.2480738, 'longitude': -80.135487}]},\n",
       " {'category_code': 'games_video',\n",
       "  'founded_year': 2010,\n",
       "  'name': 'Indee',\n",
       "  'offices': [{'latitude': 37.8053241, 'longitude': -122.4052761}]},\n",
       " {'category_code': 'web',\n",
       "  'founded_year': 2010,\n",
       "  'name': 'eCampusCash',\n",
       "  'offices': [{'latitude': 40.650291, 'longitude': -74.294395}]},\n",
       " {'category_code': 'software',\n",
       "  'founded_year': 2011,\n",
       "  'name': 'VisualOn',\n",
       "  'offices': [{'latitude': 37.270518, 'longitude': -121.955879}]},\n",
       " {'category_code': 'software',\n",
       "  'founded_year': 2010,\n",
       "  'name': 'kinDragon',\n",
       "  'offices': [{'latitude': 27.4081935, 'longitude': -82.5294065}]},\n",
       " {'category_code': 'games_video',\n",
       "  'founded_year': 2010,\n",
       "  'name': 'BASH Gaming',\n",
       "  'offices': [{'latitude': 37.5561712, 'longitude': -122.0780632},\n",
       "   {'latitude': 12.971606, 'longitude': 77.594376}]},\n",
       " {'category_code': 'software',\n",
       "  'founded_year': 2010,\n",
       "  'name': 'AppNeta',\n",
       "  'offices': [{'latitude': 42.318138, 'longitude': -71.24756}]},\n",
       " {'category_code': 'advertising',\n",
       "  'founded_year': 2010,\n",
       "  'name': 'MyLikes',\n",
       "  'offices': [{'latitude': 37.777995, 'longitude': -122.408914}]},\n",
       " {'category_code': 'games_video',\n",
       "  'founded_year': 2011,\n",
       "  'name': 'Hayen Company',\n",
       "  'offices': [{'latitude': 34.019114, 'longitude': -81.004871}]},\n",
       " {'category_code': 'games_video',\n",
       "  'founded_year': 2010,\n",
       "  'name': 'Flixxy',\n",
       "  'offices': [{'latitude': 27.972364, 'longitude': -82.800333}]},\n",
       " {'category_code': 'games_video',\n",
       "  'founded_year': 2010,\n",
       "  'name': 'ekidnaworld',\n",
       "  'offices': [{'latitude': -27.4574861, 'longitude': 153.033686}]}]"
      ]
     },
     "execution_count": 27,
     "metadata": {},
     "output_type": "execute_result"
    }
   ],
   "source": [
    "design_comp"
   ]
  },
  {
   "cell_type": "code",
   "execution_count": 28,
   "metadata": {},
   "outputs": [
    {
     "data": {
      "text/plain": [
       "38"
      ]
     },
     "execution_count": 28,
     "metadata": {},
     "output_type": "execute_result"
    }
   ],
   "source": [
    "len(design_comp)"
   ]
  },
  {
   "cell_type": "code",
   "execution_count": 29,
   "metadata": {},
   "outputs": [],
   "source": [
    "df_game= createDfFromMongo(design_comp)"
   ]
  },
  {
   "cell_type": "code",
   "execution_count": 31,
   "metadata": {},
   "outputs": [
    {
     "data": {
      "text/html": [
       "<div>\n",
       "<style scoped>\n",
       "    .dataframe tbody tr th:only-of-type {\n",
       "        vertical-align: middle;\n",
       "    }\n",
       "\n",
       "    .dataframe tbody tr th {\n",
       "        vertical-align: top;\n",
       "    }\n",
       "\n",
       "    .dataframe thead th {\n",
       "        text-align: right;\n",
       "    }\n",
       "</style>\n",
       "<table border=\"1\" class=\"dataframe\">\n",
       "  <thead>\n",
       "    <tr style=\"text-align: right;\">\n",
       "      <th></th>\n",
       "      <th>category_code</th>\n",
       "      <th>founded_year</th>\n",
       "      <th>name</th>\n",
       "      <th>coords</th>\n",
       "    </tr>\n",
       "  </thead>\n",
       "  <tbody>\n",
       "    <tr>\n",
       "      <th>0</th>\n",
       "      <td>web</td>\n",
       "      <td>2011</td>\n",
       "      <td>Mokitown</td>\n",
       "      <td>{'type': 'Point', 'coordinates': [-95.712891, ...</td>\n",
       "    </tr>\n",
       "    <tr>\n",
       "      <th>1</th>\n",
       "      <td>mobile</td>\n",
       "      <td>2010</td>\n",
       "      <td>GENWI</td>\n",
       "      <td>{'type': 'Point', 'coordinates': [-111.9035, 3...</td>\n",
       "    </tr>\n",
       "    <tr>\n",
       "      <th>2</th>\n",
       "      <td>web</td>\n",
       "      <td>2013</td>\n",
       "      <td>Fixya</td>\n",
       "      <td>{'type': 'Point', 'coordinates': [-122.323895,...</td>\n",
       "    </tr>\n",
       "    <tr>\n",
       "      <th>3</th>\n",
       "      <td>games_video</td>\n",
       "      <td>2011</td>\n",
       "      <td>Social Gaming Network</td>\n",
       "      <td>{'type': 'Point', 'coordinates': [-122.161523,...</td>\n",
       "    </tr>\n",
       "    <tr>\n",
       "      <th>4</th>\n",
       "      <td>mobile</td>\n",
       "      <td>2012</td>\n",
       "      <td>Skydeck</td>\n",
       "      <td>{'type': 'Point', 'coordinates': [-122.3254705...</td>\n",
       "    </tr>\n",
       "  </tbody>\n",
       "</table>\n",
       "</div>"
      ],
      "text/plain": [
       "  category_code  founded_year                   name  \\\n",
       "0           web          2011               Mokitown   \n",
       "1        mobile          2010                  GENWI   \n",
       "2           web          2013                  Fixya   \n",
       "3   games_video          2011  Social Gaming Network   \n",
       "4        mobile          2012                Skydeck   \n",
       "\n",
       "                                              coords  \n",
       "0  {'type': 'Point', 'coordinates': [-95.712891, ...  \n",
       "1  {'type': 'Point', 'coordinates': [-111.9035, 3...  \n",
       "2  {'type': 'Point', 'coordinates': [-122.323895,...  \n",
       "3  {'type': 'Point', 'coordinates': [-122.161523,...  \n",
       "4  {'type': 'Point', 'coordinates': [-122.3254705...  "
      ]
     },
     "execution_count": 31,
     "metadata": {},
     "output_type": "execute_result"
    }
   ],
   "source": [
    "df_game.head()"
   ]
  },
  {
   "cell_type": "code",
   "execution_count": 32,
   "metadata": {},
   "outputs": [],
   "source": [
    "df_game.to_json('df_design_new.json', orient='records')"
   ]
  },
  {
   "cell_type": "code",
   "execution_count": 34,
   "metadata": {},
   "outputs": [
    {
     "data": {
      "text/html": [
       "<div>\n",
       "<style scoped>\n",
       "    .dataframe tbody tr th:only-of-type {\n",
       "        vertical-align: middle;\n",
       "    }\n",
       "\n",
       "    .dataframe tbody tr th {\n",
       "        vertical-align: top;\n",
       "    }\n",
       "\n",
       "    .dataframe thead th {\n",
       "        text-align: right;\n",
       "    }\n",
       "</style>\n",
       "<table border=\"1\" class=\"dataframe\">\n",
       "  <thead>\n",
       "    <tr style=\"text-align: right;\">\n",
       "      <th></th>\n",
       "      <th>category_code</th>\n",
       "      <th>founded_year</th>\n",
       "      <th>name</th>\n",
       "      <th>coords</th>\n",
       "    </tr>\n",
       "  </thead>\n",
       "  <tbody>\n",
       "    <tr>\n",
       "      <th>0</th>\n",
       "      <td>web</td>\n",
       "      <td>2011</td>\n",
       "      <td>Mokitown</td>\n",
       "      <td>{'type': 'Point', 'coordinates': [-95.712891, ...</td>\n",
       "    </tr>\n",
       "    <tr>\n",
       "      <th>1</th>\n",
       "      <td>mobile</td>\n",
       "      <td>2010</td>\n",
       "      <td>GENWI</td>\n",
       "      <td>{'type': 'Point', 'coordinates': [-111.9035, 3...</td>\n",
       "    </tr>\n",
       "    <tr>\n",
       "      <th>2</th>\n",
       "      <td>web</td>\n",
       "      <td>2013</td>\n",
       "      <td>Fixya</td>\n",
       "      <td>{'type': 'Point', 'coordinates': [-122.323895,...</td>\n",
       "    </tr>\n",
       "    <tr>\n",
       "      <th>3</th>\n",
       "      <td>games_video</td>\n",
       "      <td>2011</td>\n",
       "      <td>Social Gaming Network</td>\n",
       "      <td>{'type': 'Point', 'coordinates': [-122.161523,...</td>\n",
       "    </tr>\n",
       "    <tr>\n",
       "      <th>4</th>\n",
       "      <td>mobile</td>\n",
       "      <td>2012</td>\n",
       "      <td>Skydeck</td>\n",
       "      <td>{'type': 'Point', 'coordinates': [-122.3254705...</td>\n",
       "    </tr>\n",
       "  </tbody>\n",
       "</table>\n",
       "</div>"
      ],
      "text/plain": [
       "  category_code  founded_year                   name  \\\n",
       "0           web          2011               Mokitown   \n",
       "1        mobile          2010                  GENWI   \n",
       "2           web          2013                  Fixya   \n",
       "3   games_video          2011  Social Gaming Network   \n",
       "4        mobile          2012                Skydeck   \n",
       "\n",
       "                                              coords  \n",
       "0  {'type': 'Point', 'coordinates': [-95.712891, ...  \n",
       "1  {'type': 'Point', 'coordinates': [-111.9035, 3...  \n",
       "2  {'type': 'Point', 'coordinates': [-122.323895,...  \n",
       "3  {'type': 'Point', 'coordinates': [-122.161523,...  \n",
       "4  {'type': 'Point', 'coordinates': [-122.3254705...  "
      ]
     },
     "execution_count": 34,
     "metadata": {},
     "output_type": "execute_result"
    }
   ],
   "source": [
    "df_game.head()"
   ]
  },
  {
   "cell_type": "code",
   "execution_count": null,
   "metadata": {},
   "outputs": [],
   "source": []
  }
 ],
 "metadata": {
  "kernelspec": {
   "display_name": "Python 3",
   "language": "python",
   "name": "python3"
  },
  "language_info": {
   "codemirror_mode": {
    "name": "ipython",
    "version": 3
   },
   "file_extension": ".py",
   "mimetype": "text/x-python",
   "name": "python",
   "nbconvert_exporter": "python",
   "pygments_lexer": "ipython3",
   "version": "3.5.2"
  }
 },
 "nbformat": 4,
 "nbformat_minor": 2
}
