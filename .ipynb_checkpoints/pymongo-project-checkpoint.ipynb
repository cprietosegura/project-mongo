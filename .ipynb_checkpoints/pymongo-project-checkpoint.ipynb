{
 "cells": [
  {
   "cell_type": "code",
   "execution_count": 3,
   "metadata": {},
   "outputs": [],
   "source": [
    "from pymongo import MongoClient\n",
    "import pandas as pd"
   ]
  },
  {
   "cell_type": "code",
   "execution_count": 4,
   "metadata": {},
   "outputs": [],
   "source": [
    "def connectCollection(database, collection):\n",
    "    client = MongoClient()\n",
    "    db = client[database]\n",
    "    coll = db[collection]\n",
    "    return db, coll\n"
   ]
  },
  {
   "cell_type": "code",
   "execution_count": 3,
   "metadata": {},
   "outputs": [],
   "source": [
    "db, coll = connectCollection('companies','companies')"
   ]
  },
  {
   "cell_type": "code",
   "execution_count": 31,
   "metadata": {},
   "outputs": [],
   "source": [
    "#rest = list(coll.find({'founded_year':{'$gt':2009}}))\n",
    "new_companies = list(coll.find({'$and':\n",
    "                           [ { \"offices.latitude\": {\"$exists\": True,\"$ne\":None} },\n",
    "                            { \"offices.longitude\": {\"$exists\": True,\"$ne\":None} },\n",
    "                            {'founded_year': {'$gt': 2009 }},\n",
    "                            {'deadpooled_year':None},\n",
    "                            {'$or':[{'category_code': 'advertising' },\n",
    "                                    {'category_code': 'mobile' },\n",
    "                                    {'category_code': 'web' },\n",
    "                                    {'category_code': 'games_video' }]}]}, \n",
    "                          {'name':1,'founded_year': 1, '_id': 0,'offices.latitude':1, \n",
    "                           'offices.longitude':1, 'category_code':1, 'location':1 }))"
   ]
  },
  {
   "cell_type": "code",
   "execution_count": 34,
   "metadata": {},
   "outputs": [
    {
     "name": "stdout",
     "output_type": "stream",
     "text": [
      "29\n"
     ]
    }
   ],
   "source": [
    "print(len(new_companies))"
   ]
  },
  {
   "cell_type": "code",
   "execution_count": 33,
   "metadata": {},
   "outputs": [
    {
     "data": {
      "text/plain": [
       "{'category_code': 'web',\n",
       " 'founded_year': 2011,\n",
       " 'name': 'Mokitown',\n",
       " 'offices': [{'latitude': 37.09024, 'longitude': -95.712891}]}"
      ]
     },
     "execution_count": 33,
     "metadata": {},
     "output_type": "execute_result"
    }
   ],
   "source": [
    "new_companies[0]"
   ]
  },
  {
   "cell_type": "code",
   "execution_count": 36,
   "metadata": {},
   "outputs": [
    {
     "data": {
      "text/html": [
       "<div>\n",
       "<style scoped>\n",
       "    .dataframe tbody tr th:only-of-type {\n",
       "        vertical-align: middle;\n",
       "    }\n",
       "\n",
       "    .dataframe tbody tr th {\n",
       "        vertical-align: top;\n",
       "    }\n",
       "\n",
       "    .dataframe thead th {\n",
       "        text-align: right;\n",
       "    }\n",
       "</style>\n",
       "<table border=\"1\" class=\"dataframe\">\n",
       "  <thead>\n",
       "    <tr style=\"text-align: right;\">\n",
       "      <th></th>\n",
       "      <th>category_code</th>\n",
       "      <th>founded_year</th>\n",
       "      <th>name</th>\n",
       "      <th>offices</th>\n",
       "    </tr>\n",
       "  </thead>\n",
       "  <tbody>\n",
       "    <tr>\n",
       "      <th>0</th>\n",
       "      <td>web</td>\n",
       "      <td>2011</td>\n",
       "      <td>Mokitown</td>\n",
       "      <td>[{'longitude': -95.712891, 'latitude': 37.09024}]</td>\n",
       "    </tr>\n",
       "    <tr>\n",
       "      <th>1</th>\n",
       "      <td>mobile</td>\n",
       "      <td>2010</td>\n",
       "      <td>GENWI</td>\n",
       "      <td>[{'longitude': -111.9035, 'latitude': 33.8171}]</td>\n",
       "    </tr>\n",
       "    <tr>\n",
       "      <th>2</th>\n",
       "      <td>web</td>\n",
       "      <td>2013</td>\n",
       "      <td>Fixya</td>\n",
       "      <td>[{'longitude': -122.323895, 'latitude': 37.566...</td>\n",
       "    </tr>\n",
       "    <tr>\n",
       "      <th>3</th>\n",
       "      <td>games_video</td>\n",
       "      <td>2011</td>\n",
       "      <td>Social Gaming Network</td>\n",
       "      <td>[{'longitude': -122.161523, 'latitude': 37.446...</td>\n",
       "    </tr>\n",
       "    <tr>\n",
       "      <th>4</th>\n",
       "      <td>mobile</td>\n",
       "      <td>2012</td>\n",
       "      <td>Skydeck</td>\n",
       "      <td>[{'longitude': -122.3254705, 'latitude': 37.56...</td>\n",
       "    </tr>\n",
       "    <tr>\n",
       "      <th>5</th>\n",
       "      <td>mobile</td>\n",
       "      <td>2012</td>\n",
       "      <td>Jumbuck Entertainment</td>\n",
       "      <td>[{'longitude': 144.962991, 'latitude': -37.817...</td>\n",
       "    </tr>\n",
       "    <tr>\n",
       "      <th>6</th>\n",
       "      <td>web</td>\n",
       "      <td>2010</td>\n",
       "      <td>Pixsta</td>\n",
       "      <td>[{'longitude': -0.208979, 'latitude': 51.51819}]</td>\n",
       "    </tr>\n",
       "    <tr>\n",
       "      <th>7</th>\n",
       "      <td>games_video</td>\n",
       "      <td>2011</td>\n",
       "      <td>Fuzz</td>\n",
       "      <td>[{'longitude': -122.387799, 'latitude': 37.760...</td>\n",
       "    </tr>\n",
       "    <tr>\n",
       "      <th>8</th>\n",
       "      <td>web</td>\n",
       "      <td>2010</td>\n",
       "      <td>CollegeConvo</td>\n",
       "      <td>[{'longitude': -74.294395, 'latitude': 40.6502...</td>\n",
       "    </tr>\n",
       "    <tr>\n",
       "      <th>9</th>\n",
       "      <td>web</td>\n",
       "      <td>2011</td>\n",
       "      <td>Ziippi</td>\n",
       "      <td>[{'longitude': -122.1612868, 'latitude': 37.44...</td>\n",
       "    </tr>\n",
       "    <tr>\n",
       "      <th>10</th>\n",
       "      <td>games_video</td>\n",
       "      <td>2010</td>\n",
       "      <td>Titan Gaming</td>\n",
       "      <td>[{'longitude': -113.515769, 'latitude': 53.544...</td>\n",
       "    </tr>\n",
       "    <tr>\n",
       "      <th>11</th>\n",
       "      <td>advertising</td>\n",
       "      <td>2013</td>\n",
       "      <td>SEOGroup</td>\n",
       "      <td>[{'longitude': -87.624701, 'latitude': 41.8862...</td>\n",
       "    </tr>\n",
       "    <tr>\n",
       "      <th>12</th>\n",
       "      <td>mobile</td>\n",
       "      <td>2010</td>\n",
       "      <td>vufind</td>\n",
       "      <td>[{'longitude': -122.145153, 'latitude': 37.424...</td>\n",
       "    </tr>\n",
       "    <tr>\n",
       "      <th>13</th>\n",
       "      <td>games_video</td>\n",
       "      <td>2011</td>\n",
       "      <td>Kidos</td>\n",
       "      <td>[{'longitude': -73.956599, 'latitude': 40.7680...</td>\n",
       "    </tr>\n",
       "    <tr>\n",
       "      <th>14</th>\n",
       "      <td>mobile</td>\n",
       "      <td>2010</td>\n",
       "      <td>vufind</td>\n",
       "      <td>[{'longitude': -122.145153, 'latitude': 37.424...</td>\n",
       "    </tr>\n",
       "    <tr>\n",
       "      <th>15</th>\n",
       "      <td>games_video</td>\n",
       "      <td>2011</td>\n",
       "      <td>Kidos</td>\n",
       "      <td>[{'longitude': -73.956599, 'latitude': 40.7680...</td>\n",
       "    </tr>\n",
       "    <tr>\n",
       "      <th>16</th>\n",
       "      <td>games_video</td>\n",
       "      <td>2010</td>\n",
       "      <td>Equedia</td>\n",
       "      <td>[{'longitude': -123.1169693, 'latitude': 49.28...</td>\n",
       "    </tr>\n",
       "    <tr>\n",
       "      <th>17</th>\n",
       "      <td>advertising</td>\n",
       "      <td>2010</td>\n",
       "      <td>Webmoblink</td>\n",
       "      <td>[{'longitude': -80.424167, 'latitude': 25.6558...</td>\n",
       "    </tr>\n",
       "    <tr>\n",
       "      <th>18</th>\n",
       "      <td>web</td>\n",
       "      <td>2010</td>\n",
       "      <td>Yipit</td>\n",
       "      <td>[{'longitude': -73.987764, 'latitude': 40.7446...</td>\n",
       "    </tr>\n",
       "    <tr>\n",
       "      <th>19</th>\n",
       "      <td>web</td>\n",
       "      <td>2010</td>\n",
       "      <td>fruux</td>\n",
       "      <td>[{'longitude': 7.6267552, 'latitude': 51.96300...</td>\n",
       "    </tr>\n",
       "    <tr>\n",
       "      <th>20</th>\n",
       "      <td>web</td>\n",
       "      <td>2013</td>\n",
       "      <td>Clowdy</td>\n",
       "      <td>[{'longitude': -2.2439492, 'latitude': 53.4837...</td>\n",
       "    </tr>\n",
       "    <tr>\n",
       "      <th>21</th>\n",
       "      <td>games_video</td>\n",
       "      <td>2010</td>\n",
       "      <td>Tengaged</td>\n",
       "      <td>[{'longitude': 2.1634249, 'latitude': 41.42412...</td>\n",
       "    </tr>\n",
       "    <tr>\n",
       "      <th>22</th>\n",
       "      <td>games_video</td>\n",
       "      <td>2010</td>\n",
       "      <td>Indee</td>\n",
       "      <td>[{'longitude': -122.4052761, 'latitude': 37.80...</td>\n",
       "    </tr>\n",
       "    <tr>\n",
       "      <th>23</th>\n",
       "      <td>web</td>\n",
       "      <td>2010</td>\n",
       "      <td>eCampusCash</td>\n",
       "      <td>[{'longitude': -74.294395, 'latitude': 40.6502...</td>\n",
       "    </tr>\n",
       "    <tr>\n",
       "      <th>24</th>\n",
       "      <td>games_video</td>\n",
       "      <td>2010</td>\n",
       "      <td>BASH Gaming</td>\n",
       "      <td>[{'longitude': -122.0780632, 'latitude': 37.55...</td>\n",
       "    </tr>\n",
       "    <tr>\n",
       "      <th>25</th>\n",
       "      <td>advertising</td>\n",
       "      <td>2010</td>\n",
       "      <td>MyLikes</td>\n",
       "      <td>[{'longitude': -122.408914, 'latitude': 37.777...</td>\n",
       "    </tr>\n",
       "    <tr>\n",
       "      <th>26</th>\n",
       "      <td>games_video</td>\n",
       "      <td>2011</td>\n",
       "      <td>Hayen Company</td>\n",
       "      <td>[{'longitude': -81.004871, 'latitude': 34.0191...</td>\n",
       "    </tr>\n",
       "    <tr>\n",
       "      <th>27</th>\n",
       "      <td>games_video</td>\n",
       "      <td>2010</td>\n",
       "      <td>Flixxy</td>\n",
       "      <td>[{'longitude': -82.800333, 'latitude': 27.9723...</td>\n",
       "    </tr>\n",
       "    <tr>\n",
       "      <th>28</th>\n",
       "      <td>games_video</td>\n",
       "      <td>2010</td>\n",
       "      <td>ekidnaworld</td>\n",
       "      <td>[{'longitude': 153.033686, 'latitude': -27.457...</td>\n",
       "    </tr>\n",
       "  </tbody>\n",
       "</table>\n",
       "</div>"
      ],
      "text/plain": [
       "   category_code  founded_year                   name  \\\n",
       "0            web          2011               Mokitown   \n",
       "1         mobile          2010                  GENWI   \n",
       "2            web          2013                  Fixya   \n",
       "3    games_video          2011  Social Gaming Network   \n",
       "4         mobile          2012                Skydeck   \n",
       "5         mobile          2012  Jumbuck Entertainment   \n",
       "6            web          2010                 Pixsta   \n",
       "7    games_video          2011                   Fuzz   \n",
       "8            web          2010           CollegeConvo   \n",
       "9            web          2011                 Ziippi   \n",
       "10   games_video          2010           Titan Gaming   \n",
       "11   advertising          2013               SEOGroup   \n",
       "12        mobile          2010                 vufind   \n",
       "13   games_video          2011                  Kidos   \n",
       "14        mobile          2010                 vufind   \n",
       "15   games_video          2011                  Kidos   \n",
       "16   games_video          2010                Equedia   \n",
       "17   advertising          2010             Webmoblink   \n",
       "18           web          2010                  Yipit   \n",
       "19           web          2010                  fruux   \n",
       "20           web          2013                 Clowdy   \n",
       "21   games_video          2010               Tengaged   \n",
       "22   games_video          2010                  Indee   \n",
       "23           web          2010            eCampusCash   \n",
       "24   games_video          2010            BASH Gaming   \n",
       "25   advertising          2010                MyLikes   \n",
       "26   games_video          2011          Hayen Company   \n",
       "27   games_video          2010                 Flixxy   \n",
       "28   games_video          2010            ekidnaworld   \n",
       "\n",
       "                                              offices  \n",
       "0   [{'longitude': -95.712891, 'latitude': 37.09024}]  \n",
       "1     [{'longitude': -111.9035, 'latitude': 33.8171}]  \n",
       "2   [{'longitude': -122.323895, 'latitude': 37.566...  \n",
       "3   [{'longitude': -122.161523, 'latitude': 37.446...  \n",
       "4   [{'longitude': -122.3254705, 'latitude': 37.56...  \n",
       "5   [{'longitude': 144.962991, 'latitude': -37.817...  \n",
       "6    [{'longitude': -0.208979, 'latitude': 51.51819}]  \n",
       "7   [{'longitude': -122.387799, 'latitude': 37.760...  \n",
       "8   [{'longitude': -74.294395, 'latitude': 40.6502...  \n",
       "9   [{'longitude': -122.1612868, 'latitude': 37.44...  \n",
       "10  [{'longitude': -113.515769, 'latitude': 53.544...  \n",
       "11  [{'longitude': -87.624701, 'latitude': 41.8862...  \n",
       "12  [{'longitude': -122.145153, 'latitude': 37.424...  \n",
       "13  [{'longitude': -73.956599, 'latitude': 40.7680...  \n",
       "14  [{'longitude': -122.145153, 'latitude': 37.424...  \n",
       "15  [{'longitude': -73.956599, 'latitude': 40.7680...  \n",
       "16  [{'longitude': -123.1169693, 'latitude': 49.28...  \n",
       "17  [{'longitude': -80.424167, 'latitude': 25.6558...  \n",
       "18  [{'longitude': -73.987764, 'latitude': 40.7446...  \n",
       "19  [{'longitude': 7.6267552, 'latitude': 51.96300...  \n",
       "20  [{'longitude': -2.2439492, 'latitude': 53.4837...  \n",
       "21  [{'longitude': 2.1634249, 'latitude': 41.42412...  \n",
       "22  [{'longitude': -122.4052761, 'latitude': 37.80...  \n",
       "23  [{'longitude': -74.294395, 'latitude': 40.6502...  \n",
       "24  [{'longitude': -122.0780632, 'latitude': 37.55...  \n",
       "25  [{'longitude': -122.408914, 'latitude': 37.777...  \n",
       "26  [{'longitude': -81.004871, 'latitude': 34.0191...  \n",
       "27  [{'longitude': -82.800333, 'latitude': 27.9723...  \n",
       "28  [{'longitude': 153.033686, 'latitude': -27.457...  "
      ]
     },
     "execution_count": 36,
     "metadata": {},
     "output_type": "execute_result"
    }
   ],
   "source": [
    "df = pd.DataFrame(new_companies)\n",
    "df"
   ]
  },
  {
   "cell_type": "code",
   "execution_count": 37,
   "metadata": {},
   "outputs": [],
   "source": [
    "#funcion para sacar las coordinadas\n",
    "def getLocation(company):\n",
    "    longitude = company['offices'][0]['longitude']\n",
    "    latitude = company['offices'][0]['latitude']\n",
    "    coordinates = [float(longitude), float(latitude)]\n",
    "    \n",
    "    return coordinates"
   ]
  },
  {
   "cell_type": "code",
   "execution_count": 38,
   "metadata": {},
   "outputs": [
    {
     "data": {
      "text/plain": [
       "[-95.712891, 37.09024]"
      ]
     },
     "execution_count": 38,
     "metadata": {},
     "output_type": "execute_result"
    }
   ],
   "source": [
    "getLocation(new_companies[0])"
   ]
  },
  {
   "cell_type": "code",
   "execution_count": 39,
   "metadata": {},
   "outputs": [],
   "source": [
    "coords=[{'type': 'Point', 'coordinates':getLocation(comp)}for comp in new_companies]"
   ]
  },
  {
   "cell_type": "code",
   "execution_count": 17,
   "metadata": {},
   "outputs": [],
   "source": [
    "#print(coords)"
   ]
  },
  {
   "cell_type": "code",
   "execution_count": 40,
   "metadata": {},
   "outputs": [
    {
     "data": {
      "text/html": [
       "<div>\n",
       "<style scoped>\n",
       "    .dataframe tbody tr th:only-of-type {\n",
       "        vertical-align: middle;\n",
       "    }\n",
       "\n",
       "    .dataframe tbody tr th {\n",
       "        vertical-align: top;\n",
       "    }\n",
       "\n",
       "    .dataframe thead th {\n",
       "        text-align: right;\n",
       "    }\n",
       "</style>\n",
       "<table border=\"1\" class=\"dataframe\">\n",
       "  <thead>\n",
       "    <tr style=\"text-align: right;\">\n",
       "      <th></th>\n",
       "      <th>category_code</th>\n",
       "      <th>founded_year</th>\n",
       "      <th>name</th>\n",
       "      <th>offices</th>\n",
       "      <th>office_coords</th>\n",
       "    </tr>\n",
       "  </thead>\n",
       "  <tbody>\n",
       "    <tr>\n",
       "      <th>0</th>\n",
       "      <td>web</td>\n",
       "      <td>2011</td>\n",
       "      <td>Mokitown</td>\n",
       "      <td>[{'longitude': -95.712891, 'latitude': 37.09024}]</td>\n",
       "      <td>{'coordinates': [-95.712891, 37.09024], 'type'...</td>\n",
       "    </tr>\n",
       "    <tr>\n",
       "      <th>1</th>\n",
       "      <td>mobile</td>\n",
       "      <td>2010</td>\n",
       "      <td>GENWI</td>\n",
       "      <td>[{'longitude': -111.9035, 'latitude': 33.8171}]</td>\n",
       "      <td>{'coordinates': [-111.9035, 33.8171], 'type': ...</td>\n",
       "    </tr>\n",
       "    <tr>\n",
       "      <th>2</th>\n",
       "      <td>web</td>\n",
       "      <td>2013</td>\n",
       "      <td>Fixya</td>\n",
       "      <td>[{'longitude': -122.323895, 'latitude': 37.566...</td>\n",
       "      <td>{'coordinates': [-122.323895, 37.566879], 'typ...</td>\n",
       "    </tr>\n",
       "    <tr>\n",
       "      <th>3</th>\n",
       "      <td>games_video</td>\n",
       "      <td>2011</td>\n",
       "      <td>Social Gaming Network</td>\n",
       "      <td>[{'longitude': -122.161523, 'latitude': 37.446...</td>\n",
       "      <td>{'coordinates': [-122.161523, 37.446823], 'typ...</td>\n",
       "    </tr>\n",
       "    <tr>\n",
       "      <th>4</th>\n",
       "      <td>mobile</td>\n",
       "      <td>2012</td>\n",
       "      <td>Skydeck</td>\n",
       "      <td>[{'longitude': -122.3254705, 'latitude': 37.56...</td>\n",
       "      <td>{'coordinates': [-122.3254705, 37.5645375], 't...</td>\n",
       "    </tr>\n",
       "  </tbody>\n",
       "</table>\n",
       "</div>"
      ],
      "text/plain": [
       "  category_code  founded_year                   name  \\\n",
       "0           web          2011               Mokitown   \n",
       "1        mobile          2010                  GENWI   \n",
       "2           web          2013                  Fixya   \n",
       "3   games_video          2011  Social Gaming Network   \n",
       "4        mobile          2012                Skydeck   \n",
       "\n",
       "                                             offices  \\\n",
       "0  [{'longitude': -95.712891, 'latitude': 37.09024}]   \n",
       "1    [{'longitude': -111.9035, 'latitude': 33.8171}]   \n",
       "2  [{'longitude': -122.323895, 'latitude': 37.566...   \n",
       "3  [{'longitude': -122.161523, 'latitude': 37.446...   \n",
       "4  [{'longitude': -122.3254705, 'latitude': 37.56...   \n",
       "\n",
       "                                       office_coords  \n",
       "0  {'coordinates': [-95.712891, 37.09024], 'type'...  \n",
       "1  {'coordinates': [-111.9035, 33.8171], 'type': ...  \n",
       "2  {'coordinates': [-122.323895, 37.566879], 'typ...  \n",
       "3  {'coordinates': [-122.161523, 37.446823], 'typ...  \n",
       "4  {'coordinates': [-122.3254705, 37.5645375], 't...  "
      ]
     },
     "execution_count": 40,
     "metadata": {},
     "output_type": "execute_result"
    }
   ],
   "source": [
    "df['office_coords']=coords\n",
    "df.head()"
   ]
  },
  {
   "cell_type": "code",
   "execution_count": 41,
   "metadata": {},
   "outputs": [],
   "source": [
    "df=df[['category_code','founded_year','name','office_coords']]"
   ]
  },
  {
   "cell_type": "code",
   "execution_count": 42,
   "metadata": {},
   "outputs": [
    {
     "data": {
      "text/html": [
       "<div>\n",
       "<style scoped>\n",
       "    .dataframe tbody tr th:only-of-type {\n",
       "        vertical-align: middle;\n",
       "    }\n",
       "\n",
       "    .dataframe tbody tr th {\n",
       "        vertical-align: top;\n",
       "    }\n",
       "\n",
       "    .dataframe thead th {\n",
       "        text-align: right;\n",
       "    }\n",
       "</style>\n",
       "<table border=\"1\" class=\"dataframe\">\n",
       "  <thead>\n",
       "    <tr style=\"text-align: right;\">\n",
       "      <th></th>\n",
       "      <th>category_code</th>\n",
       "      <th>founded_year</th>\n",
       "      <th>name</th>\n",
       "      <th>office_coords</th>\n",
       "    </tr>\n",
       "  </thead>\n",
       "  <tbody>\n",
       "    <tr>\n",
       "      <th>0</th>\n",
       "      <td>web</td>\n",
       "      <td>2011</td>\n",
       "      <td>Mokitown</td>\n",
       "      <td>{'coordinates': [-95.712891, 37.09024], 'type'...</td>\n",
       "    </tr>\n",
       "    <tr>\n",
       "      <th>1</th>\n",
       "      <td>mobile</td>\n",
       "      <td>2010</td>\n",
       "      <td>GENWI</td>\n",
       "      <td>{'coordinates': [-111.9035, 33.8171], 'type': ...</td>\n",
       "    </tr>\n",
       "    <tr>\n",
       "      <th>2</th>\n",
       "      <td>web</td>\n",
       "      <td>2013</td>\n",
       "      <td>Fixya</td>\n",
       "      <td>{'coordinates': [-122.323895, 37.566879], 'typ...</td>\n",
       "    </tr>\n",
       "    <tr>\n",
       "      <th>3</th>\n",
       "      <td>games_video</td>\n",
       "      <td>2011</td>\n",
       "      <td>Social Gaming Network</td>\n",
       "      <td>{'coordinates': [-122.161523, 37.446823], 'typ...</td>\n",
       "    </tr>\n",
       "    <tr>\n",
       "      <th>4</th>\n",
       "      <td>mobile</td>\n",
       "      <td>2012</td>\n",
       "      <td>Skydeck</td>\n",
       "      <td>{'coordinates': [-122.3254705, 37.5645375], 't...</td>\n",
       "    </tr>\n",
       "  </tbody>\n",
       "</table>\n",
       "</div>"
      ],
      "text/plain": [
       "  category_code  founded_year                   name  \\\n",
       "0           web          2011               Mokitown   \n",
       "1        mobile          2010                  GENWI   \n",
       "2           web          2013                  Fixya   \n",
       "3   games_video          2011  Social Gaming Network   \n",
       "4        mobile          2012                Skydeck   \n",
       "\n",
       "                                       office_coords  \n",
       "0  {'coordinates': [-95.712891, 37.09024], 'type'...  \n",
       "1  {'coordinates': [-111.9035, 33.8171], 'type': ...  \n",
       "2  {'coordinates': [-122.323895, 37.566879], 'typ...  \n",
       "3  {'coordinates': [-122.161523, 37.446823], 'typ...  \n",
       "4  {'coordinates': [-122.3254705, 37.5645375], 't...  "
      ]
     },
     "execution_count": 42,
     "metadata": {},
     "output_type": "execute_result"
    }
   ],
   "source": [
    "df.head()"
   ]
  },
  {
   "cell_type": "code",
   "execution_count": 43,
   "metadata": {},
   "outputs": [],
   "source": [
    "df.to_json('df_new_compannies.json', orient='records')"
   ]
  },
  {
   "cell_type": "code",
   "execution_count": 45,
   "metadata": {},
   "outputs": [],
   "source": [
    "old_companies = list(coll.find({'$and':\n",
    "                           [ { \"offices.latitude\": {\"$exists\": True,\"$ne\":None} },\n",
    "                            { \"offices.longitude\": {\"$exists\": True,\"$ne\":None} },\n",
    "                            {'founded_year': {'$lt': 2009 }},\n",
    "                            {'deadpooled_year':None}]}, \n",
    "                          {'name':1,'founded_year': 1, '_id': 0,'offices.latitude':1, \n",
    "                           'offices.longitude':1, 'category_code':1, 'location':1 }))"
   ]
  },
  {
   "cell_type": "code",
   "execution_count": 47,
   "metadata": {},
   "outputs": [
    {
     "data": {
      "text/plain": [
       "6578"
      ]
     },
     "execution_count": 47,
     "metadata": {},
     "output_type": "execute_result"
    }
   ],
   "source": [
    "len(old_companies)"
   ]
  },
  {
   "cell_type": "code",
   "execution_count": 50,
   "metadata": {},
   "outputs": [
    {
     "data": {
      "text/html": [
       "<div>\n",
       "<style scoped>\n",
       "    .dataframe tbody tr th:only-of-type {\n",
       "        vertical-align: middle;\n",
       "    }\n",
       "\n",
       "    .dataframe tbody tr th {\n",
       "        vertical-align: top;\n",
       "    }\n",
       "\n",
       "    .dataframe thead th {\n",
       "        text-align: right;\n",
       "    }\n",
       "</style>\n",
       "<table border=\"1\" class=\"dataframe\">\n",
       "  <thead>\n",
       "    <tr style=\"text-align: right;\">\n",
       "      <th></th>\n",
       "      <th>category_code</th>\n",
       "      <th>founded_year</th>\n",
       "      <th>name</th>\n",
       "      <th>offices</th>\n",
       "    </tr>\n",
       "  </thead>\n",
       "  <tbody>\n",
       "    <tr>\n",
       "      <th>0</th>\n",
       "      <td>web</td>\n",
       "      <td>2001</td>\n",
       "      <td>TechnologyGuide</td>\n",
       "      <td>[{'longitude': -84.351532, 'latitude': 39.06685}]</td>\n",
       "    </tr>\n",
       "    <tr>\n",
       "      <th>1</th>\n",
       "      <td>news</td>\n",
       "      <td>2004</td>\n",
       "      <td>Digg</td>\n",
       "      <td>[{'longitude': -122.394523, 'latitude': 37.764...</td>\n",
       "    </tr>\n",
       "    <tr>\n",
       "      <th>2</th>\n",
       "      <td>social</td>\n",
       "      <td>2004</td>\n",
       "      <td>Facebook</td>\n",
       "      <td>[{'longitude': -122.151801, 'latitude': 37.416...</td>\n",
       "    </tr>\n",
       "    <tr>\n",
       "      <th>3</th>\n",
       "      <td>web</td>\n",
       "      <td>1999</td>\n",
       "      <td>Postini</td>\n",
       "      <td>[{'longitude': -122.247573, 'latitude': 37.506...</td>\n",
       "    </tr>\n",
       "    <tr>\n",
       "      <th>4</th>\n",
       "      <td>web</td>\n",
       "      <td>2006</td>\n",
       "      <td>Geni</td>\n",
       "      <td>[{'longitude': -118.393064, 'latitude': 34.090...</td>\n",
       "    </tr>\n",
       "  </tbody>\n",
       "</table>\n",
       "</div>"
      ],
      "text/plain": [
       "  category_code  founded_year             name  \\\n",
       "0           web          2001  TechnologyGuide   \n",
       "1          news          2004             Digg   \n",
       "2        social          2004         Facebook   \n",
       "3           web          1999          Postini   \n",
       "4           web          2006             Geni   \n",
       "\n",
       "                                             offices  \n",
       "0  [{'longitude': -84.351532, 'latitude': 39.06685}]  \n",
       "1  [{'longitude': -122.394523, 'latitude': 37.764...  \n",
       "2  [{'longitude': -122.151801, 'latitude': 37.416...  \n",
       "3  [{'longitude': -122.247573, 'latitude': 37.506...  \n",
       "4  [{'longitude': -118.393064, 'latitude': 34.090...  "
      ]
     },
     "execution_count": 50,
     "metadata": {},
     "output_type": "execute_result"
    }
   ],
   "source": [
    "df_oldcomp = pd.DataFrame(old_companies)\n",
    "df_oldcomp.head()"
   ]
  },
  {
   "cell_type": "code",
   "execution_count": 52,
   "metadata": {},
   "outputs": [],
   "source": [
    "old_coords=[{'type': 'Point', 'coordinates':getLocation(comp)}for comp in old_companies]"
   ]
  },
  {
   "cell_type": "code",
   "execution_count": 53,
   "metadata": {},
   "outputs": [],
   "source": [
    "df_oldcomp['office_coords']=old_coords"
   ]
  },
  {
   "cell_type": "code",
   "execution_count": 55,
   "metadata": {},
   "outputs": [
    {
     "data": {
      "text/html": [
       "<div>\n",
       "<style scoped>\n",
       "    .dataframe tbody tr th:only-of-type {\n",
       "        vertical-align: middle;\n",
       "    }\n",
       "\n",
       "    .dataframe tbody tr th {\n",
       "        vertical-align: top;\n",
       "    }\n",
       "\n",
       "    .dataframe thead th {\n",
       "        text-align: right;\n",
       "    }\n",
       "</style>\n",
       "<table border=\"1\" class=\"dataframe\">\n",
       "  <thead>\n",
       "    <tr style=\"text-align: right;\">\n",
       "      <th></th>\n",
       "      <th>category_code</th>\n",
       "      <th>founded_year</th>\n",
       "      <th>name</th>\n",
       "      <th>offices</th>\n",
       "      <th>office_coords</th>\n",
       "    </tr>\n",
       "  </thead>\n",
       "  <tbody>\n",
       "    <tr>\n",
       "      <th>0</th>\n",
       "      <td>web</td>\n",
       "      <td>2001</td>\n",
       "      <td>TechnologyGuide</td>\n",
       "      <td>[{'longitude': -84.351532, 'latitude': 39.06685}]</td>\n",
       "      <td>{'coordinates': [-84.351532, 39.06685], 'type'...</td>\n",
       "    </tr>\n",
       "    <tr>\n",
       "      <th>1</th>\n",
       "      <td>news</td>\n",
       "      <td>2004</td>\n",
       "      <td>Digg</td>\n",
       "      <td>[{'longitude': -122.394523, 'latitude': 37.764...</td>\n",
       "      <td>{'coordinates': [-122.394523, 37.764726], 'typ...</td>\n",
       "    </tr>\n",
       "    <tr>\n",
       "      <th>2</th>\n",
       "      <td>social</td>\n",
       "      <td>2004</td>\n",
       "      <td>Facebook</td>\n",
       "      <td>[{'longitude': -122.151801, 'latitude': 37.416...</td>\n",
       "      <td>{'coordinates': [-122.151801, 37.41605], 'type...</td>\n",
       "    </tr>\n",
       "    <tr>\n",
       "      <th>3</th>\n",
       "      <td>web</td>\n",
       "      <td>1999</td>\n",
       "      <td>Postini</td>\n",
       "      <td>[{'longitude': -122.247573, 'latitude': 37.506...</td>\n",
       "      <td>{'coordinates': [-122.247573, 37.506885], 'typ...</td>\n",
       "    </tr>\n",
       "    <tr>\n",
       "      <th>4</th>\n",
       "      <td>web</td>\n",
       "      <td>2006</td>\n",
       "      <td>Geni</td>\n",
       "      <td>[{'longitude': -118.393064, 'latitude': 34.090...</td>\n",
       "      <td>{'coordinates': [-118.393064, 34.090368], 'typ...</td>\n",
       "    </tr>\n",
       "  </tbody>\n",
       "</table>\n",
       "</div>"
      ],
      "text/plain": [
       "  category_code  founded_year             name  \\\n",
       "0           web          2001  TechnologyGuide   \n",
       "1          news          2004             Digg   \n",
       "2        social          2004         Facebook   \n",
       "3           web          1999          Postini   \n",
       "4           web          2006             Geni   \n",
       "\n",
       "                                             offices  \\\n",
       "0  [{'longitude': -84.351532, 'latitude': 39.06685}]   \n",
       "1  [{'longitude': -122.394523, 'latitude': 37.764...   \n",
       "2  [{'longitude': -122.151801, 'latitude': 37.416...   \n",
       "3  [{'longitude': -122.247573, 'latitude': 37.506...   \n",
       "4  [{'longitude': -118.393064, 'latitude': 34.090...   \n",
       "\n",
       "                                       office_coords  \n",
       "0  {'coordinates': [-84.351532, 39.06685], 'type'...  \n",
       "1  {'coordinates': [-122.394523, 37.764726], 'typ...  \n",
       "2  {'coordinates': [-122.151801, 37.41605], 'type...  \n",
       "3  {'coordinates': [-122.247573, 37.506885], 'typ...  \n",
       "4  {'coordinates': [-118.393064, 34.090368], 'typ...  "
      ]
     },
     "execution_count": 55,
     "metadata": {},
     "output_type": "execute_result"
    }
   ],
   "source": [
    "df_oldcomp.head()"
   ]
  },
  {
   "cell_type": "code",
   "execution_count": 56,
   "metadata": {},
   "outputs": [],
   "source": [
    "df_oldcomp=df_oldcomp[['category_code','founded_year','name','office_coords']]"
   ]
  },
  {
   "cell_type": "code",
   "execution_count": 57,
   "metadata": {},
   "outputs": [],
   "source": [
    "df_oldcomp.to_json('df_old_companies.json', orient='records')"
   ]
  },
  {
   "cell_type": "code",
   "execution_count": null,
   "metadata": {},
   "outputs": [],
   "source": [
    "#esto una vez hemos añadido las coordenadas, para ver la distancia."
   ]
  },
  {
   "cell_type": "code",
   "execution_count": 5,
   "metadata": {},
   "outputs": [],
   "source": [
    "db, coll = connectCollection('companies','old_companies')"
   ]
  },
  {
   "cell_type": "code",
   "execution_count": 11,
   "metadata": {},
   "outputs": [],
   "source": [
    "old_comp_paloalto = coll.find(\n",
    "    {\"office_coords\":\n",
    "     {\"$near\":\n",
    "      {\"$geometry\":\n",
    "       {\"type\":\"Point\",\n",
    "        \"coordinates\":[-122.1722525,37.4374154]\n",
    "       },\n",
    "       \"$minDistance\":1,\n",
    "       \"$maxDistance\":2000\n",
    "      }\n",
    "     }\n",
    "    }\n",
    ")\n",
    "old_comp_paloalto=list(old_comp_paloalto)"
   ]
  },
  {
   "cell_type": "code",
   "execution_count": 7,
   "metadata": {},
   "outputs": [
    {
     "name": "stdout",
     "output_type": "stream",
     "text": [
      "57\n"
     ]
    }
   ],
   "source": [
    "print(len(old_comp_paloalto))"
   ]
  },
  {
   "cell_type": "code",
   "execution_count": 8,
   "metadata": {},
   "outputs": [],
   "source": [
    "import folium"
   ]
  },
  {
   "cell_type": "code",
   "execution_count": 12,
   "metadata": {},
   "outputs": [],
   "source": [
    "map_city=folium.Map(location=[37.4374154,-122.1722525], zoom_start=12)\n",
    "for c in old_comp_paloalto:\n",
    "    folium.Marker(c['office_coords']['coordinates'][::-1],\n",
    "                    radius=2,\n",
    "                    icon=folium.Icon(icon='cloud',color='red'), \n",
    "                   ).add_to(map_city)\n",
    "\n"
   ]
  },
  {
   "cell_type": "code",
   "execution_count": 13,
   "metadata": {},
   "outputs": [
    {
     "data": {
      "text/html": [
       "<div style=\"width:100%;\"><div style=\"position:relative;width:100%;height:0;padding-bottom:60%;\"><iframe src=\"data:text/html;charset=utf-8;base64,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\" style=\"position:absolute;width:100%;height:100%;left:0;top:0;border:none !important;\" allowfullscreen webkitallowfullscreen mozallowfullscreen></iframe></div></div>"
      ],
      "text/plain": [
       "<folium.folium.Map at 0x7fcdd487deb8>"
      ]
     },
     "execution_count": 13,
     "metadata": {},
     "output_type": "execute_result"
    }
   ],
   "source": [
    "map_city\n",
    "\n"
   ]
  },
  {
   "cell_type": "code",
   "execution_count": null,
   "metadata": {},
   "outputs": [],
   "source": []
  },
  {
   "cell_type": "code",
   "execution_count": null,
   "metadata": {},
   "outputs": [],
   "source": []
  },
  {
   "cell_type": "code",
   "execution_count": null,
   "metadata": {},
   "outputs": [],
   "source": []
  },
  {
   "cell_type": "code",
   "execution_count": null,
   "metadata": {},
   "outputs": [],
   "source": []
  },
  {
   "cell_type": "code",
   "execution_count": null,
   "metadata": {},
   "outputs": [],
   "source": []
  }
 ],
 "metadata": {
  "kernelspec": {
   "display_name": "Python 3",
   "language": "python",
   "name": "python3"
  },
  "language_info": {
   "codemirror_mode": {
    "name": "ipython",
    "version": 3
   },
   "file_extension": ".py",
   "mimetype": "text/x-python",
   "name": "python",
   "nbconvert_exporter": "python",
   "pygments_lexer": "ipython3",
   "version": "3.5.2"
  }
 },
 "nbformat": 4,
 "nbformat_minor": 2
}
