{
 "cells": [
  {
   "cell_type": "code",
   "execution_count": 3,
   "metadata": {},
   "outputs": [],
   "source": [
    "import requests\n",
    "import os\n",
    "from dotenv import load_dotenv\n",
    "load_dotenv()\n",
    "import pandas as pd\n",
    "import json"
   ]
  },
  {
   "cell_type": "code",
   "execution_count": 19,
   "metadata": {},
   "outputs": [],
   "source": [
    "def RequestYelpBusiness(business):\n",
    "    yelp_api_key = os.getenv(\"YELP_API_KEY\")\n",
    "    if not yelp_api_key:\n",
    "        raise ValueError(\"NECESITAS UN TOKEN\")\n",
    "    else:\n",
    "        print(\"We have a yelp api key: \", yelp_api_key[0:4])\n",
    "\n",
    "    url='https://api.yelp.com/v3/businesses/search'\n",
    "    headers = {'Authorization': 'Bearer %s' % yelp_api_key}\n",
    "    #ìn the dictionary, term can take values like food, cafes or businesses like McDonalds\n",
    "    params = {'limit': 50,'term':business,'location':'Palo Alto','radius':4000}\n",
    "    req=requests.get(url, params=params, headers=headers)\n",
    "    data = req.json()['businesses']\n",
    "    \n",
    "    print('The status code is {}'.format(req.status_code))\n",
    "    return data\n"
   ]
  },
  {
   "cell_type": "markdown",
   "metadata": {},
   "source": [
    "__Request para conseguir Starbucks.__"
   ]
  },
  {
   "cell_type": "markdown",
   "metadata": {},
   "source": [
    "starbucks= RequestYelpBusiness('Starbucks')\n",
    "print(type(starbucks))"
   ]
  },
  {
   "cell_type": "code",
   "execution_count": 5,
   "metadata": {},
   "outputs": [
    {
     "ename": "NameError",
     "evalue": "name 'starbucks' is not defined",
     "output_type": "error",
     "traceback": [
      "\u001b[0;31m---------------------------------------------------------------------------\u001b[0m",
      "\u001b[0;31mNameError\u001b[0m                                 Traceback (most recent call last)",
      "\u001b[0;32m<ipython-input-5-3c02d8b99894>\u001b[0m in \u001b[0;36m<module>\u001b[0;34m\u001b[0m\n\u001b[0;32m----> 1\u001b[0;31m \u001b[0mlen\u001b[0m\u001b[0;34m(\u001b[0m\u001b[0mstarbucks\u001b[0m\u001b[0;34m)\u001b[0m\u001b[0;34m\u001b[0m\u001b[0m\n\u001b[0m",
      "\u001b[0;31mNameError\u001b[0m: name 'starbucks' is not defined"
     ]
    }
   ],
   "source": [
    "len(starbucks)"
   ]
  },
  {
   "cell_type": "code",
   "execution_count": 6,
   "metadata": {},
   "outputs": [],
   "source": [
    "def createDffromJson(json):\n",
    "    list_values=[]\n",
    "    for j in json:\n",
    "        venues_pa={ \n",
    "            'name': j['alias'],\n",
    "            'country': j['location']['country'],\n",
    "            'coords': {'type': 'Point', 'coordinates':[j['coordinates']['longitude'],j['coordinates']['latitude']]}\n",
    "\n",
    "        }\n",
    "        list_values.append(venues_pa)\n",
    "    df=pd.DataFrame(list_values)\n",
    "    return df"
   ]
  },
  {
   "cell_type": "code",
   "execution_count": 122,
   "metadata": {},
   "outputs": [],
   "source": [
    "df=createDffromJson(starbucks)"
   ]
  },
  {
   "cell_type": "code",
   "execution_count": 123,
   "metadata": {},
   "outputs": [
    {
     "data": {
      "text/plain": [
       "(129, 3)"
      ]
     },
     "execution_count": 123,
     "metadata": {},
     "output_type": "execute_result"
    }
   ],
   "source": [
    "df.head()\n",
    "df.shape"
   ]
  },
  {
   "cell_type": "code",
   "execution_count": 124,
   "metadata": {},
   "outputs": [],
   "source": [
    "df.to_json('df_starbucks.json', orient='records')"
   ]
  },
  {
   "cell_type": "markdown",
   "metadata": {},
   "source": [
    "__Request para conseguir las escuelas primarias.__"
   ]
  },
  {
   "cell_type": "code",
   "execution_count": 125,
   "metadata": {},
   "outputs": [
    {
     "name": "stdout",
     "output_type": "stream",
     "text": [
      "We have a yelp api key:  HPPM\n",
      "The status code is 200\n"
     ]
    }
   ],
   "source": [
    "schools= RequestYelpBusiness('elementary school')"
   ]
  },
  {
   "cell_type": "code",
   "execution_count": 126,
   "metadata": {},
   "outputs": [
    {
     "data": {
      "text/plain": [
       "68"
      ]
     },
     "execution_count": 126,
     "metadata": {},
     "output_type": "execute_result"
    }
   ],
   "source": [
    "len(schools)"
   ]
  },
  {
   "cell_type": "code",
   "execution_count": 131,
   "metadata": {},
   "outputs": [],
   "source": [
    "df_schools=createDffromJson(schools)"
   ]
  },
  {
   "cell_type": "code",
   "execution_count": 132,
   "metadata": {
    "scrolled": true
   },
   "outputs": [
    {
     "data": {
      "text/html": [
       "<div>\n",
       "<style scoped>\n",
       "    .dataframe tbody tr th:only-of-type {\n",
       "        vertical-align: middle;\n",
       "    }\n",
       "\n",
       "    .dataframe tbody tr th {\n",
       "        vertical-align: top;\n",
       "    }\n",
       "\n",
       "    .dataframe thead th {\n",
       "        text-align: right;\n",
       "    }\n",
       "</style>\n",
       "<table border=\"1\" class=\"dataframe\">\n",
       "  <thead>\n",
       "    <tr style=\"text-align: right;\">\n",
       "      <th></th>\n",
       "      <th>coords</th>\n",
       "      <th>country</th>\n",
       "      <th>name</th>\n",
       "    </tr>\n",
       "  </thead>\n",
       "  <tbody>\n",
       "    <tr>\n",
       "      <th>0</th>\n",
       "      <td>{'coordinates': [-122.143066, 37.44305], 'type...</td>\n",
       "      <td>US</td>\n",
       "      <td>walter-hays-elementary-school-palo-alto</td>\n",
       "    </tr>\n",
       "    <tr>\n",
       "      <th>1</th>\n",
       "      <td>{'coordinates': [-122.1311506, 37.4080946], 't...</td>\n",
       "      <td>US</td>\n",
       "      <td>juana-briones-elementary-school-palo-alto</td>\n",
       "    </tr>\n",
       "    <tr>\n",
       "      <th>2</th>\n",
       "      <td>{'coordinates': [-122.14721, 37.42696], 'type'...</td>\n",
       "      <td>US</td>\n",
       "      <td>living-wisdom-school-palo-alto</td>\n",
       "    </tr>\n",
       "    <tr>\n",
       "      <th>3</th>\n",
       "      <td>{'coordinates': [-122.11431, 37.43086], 'type'...</td>\n",
       "      <td>US</td>\n",
       "      <td>palo-verde-elementary-school-palo-alto</td>\n",
       "    </tr>\n",
       "    <tr>\n",
       "      <th>4</th>\n",
       "      <td>{'coordinates': [-122.123527526855, 37.4396743...</td>\n",
       "      <td>US</td>\n",
       "      <td>ohlone-elementary-school-palo-alto</td>\n",
       "    </tr>\n",
       "  </tbody>\n",
       "</table>\n",
       "</div>"
      ],
      "text/plain": [
       "                                              coords country  \\\n",
       "0  {'coordinates': [-122.143066, 37.44305], 'type...      US   \n",
       "1  {'coordinates': [-122.1311506, 37.4080946], 't...      US   \n",
       "2  {'coordinates': [-122.14721, 37.42696], 'type'...      US   \n",
       "3  {'coordinates': [-122.11431, 37.43086], 'type'...      US   \n",
       "4  {'coordinates': [-122.123527526855, 37.4396743...      US   \n",
       "\n",
       "                                        name  \n",
       "0    walter-hays-elementary-school-palo-alto  \n",
       "1  juana-briones-elementary-school-palo-alto  \n",
       "2             living-wisdom-school-palo-alto  \n",
       "3     palo-verde-elementary-school-palo-alto  \n",
       "4         ohlone-elementary-school-palo-alto  "
      ]
     },
     "execution_count": 132,
     "metadata": {},
     "output_type": "execute_result"
    }
   ],
   "source": [
    "df_schools.head()"
   ]
  },
  {
   "cell_type": "code",
   "execution_count": 133,
   "metadata": {},
   "outputs": [],
   "source": [
    "df_schools.to_json('df_schools.json', orient='records')"
   ]
  },
  {
   "cell_type": "markdown",
   "metadata": {},
   "source": [
    "\n",
    "\n",
    "__Request para conseguir restaurantes veganos o con opciones veganas.__"
   ]
  },
  {
   "cell_type": "code",
   "execution_count": 134,
   "metadata": {},
   "outputs": [
    {
     "name": "stdout",
     "output_type": "stream",
     "text": [
      "We have a yelp api key:  HPPM\n",
      "The status code is 200\n"
     ]
    }
   ],
   "source": [
    "vegan_food= RequestYelpBusiness('vegan food')"
   ]
  },
  {
   "cell_type": "code",
   "execution_count": 136,
   "metadata": {},
   "outputs": [
    {
     "data": {
      "text/plain": [
       "(292, 3)"
      ]
     },
     "execution_count": 136,
     "metadata": {},
     "output_type": "execute_result"
    }
   ],
   "source": [
    "df_vegan_food.head()\n",
    "df_vegan_food.shape"
   ]
  },
  {
   "cell_type": "code",
   "execution_count": 137,
   "metadata": {},
   "outputs": [],
   "source": [
    "df_vegan_food.to_json('df_vegan.json', orient='records')"
   ]
  },
  {
   "cell_type": "markdown",
   "metadata": {},
   "source": [
    "__Request para conseguir places to party.__"
   ]
  },
  {
   "cell_type": "code",
   "execution_count": 139,
   "metadata": {},
   "outputs": [
    {
     "name": "stdout",
     "output_type": "stream",
     "text": [
      "We have a yelp api key:  HPPM\n",
      "The status code is 200\n"
     ]
    }
   ],
   "source": [
    "party= RequestYelpBusiness('night club')"
   ]
  },
  {
   "cell_type": "code",
   "execution_count": 140,
   "metadata": {},
   "outputs": [],
   "source": [
    "df_party=createDffromJson(party)"
   ]
  },
  {
   "cell_type": "code",
   "execution_count": 143,
   "metadata": {},
   "outputs": [],
   "source": [
    "df_party.to_json('df_party.json', orient='records')"
   ]
  },
  {
   "cell_type": "markdown",
   "metadata": {},
   "source": [
    "__Request para conseguir airports.__"
   ]
  },
  {
   "cell_type": "code",
   "execution_count": 24,
   "metadata": {},
   "outputs": [
    {
     "name": "stdout",
     "output_type": "stream",
     "text": [
      "We have a yelp api key:  HPPM\n",
      "The status code is 200\n"
     ]
    }
   ],
   "source": [
    "airport2= RequestYelpBusiness('airport')"
   ]
  },
  {
   "cell_type": "code",
   "execution_count": 25,
   "metadata": {},
   "outputs": [],
   "source": [
    "df_airp2=createDffromJson(airport2)"
   ]
  },
  {
   "cell_type": "code",
   "execution_count": 26,
   "metadata": {},
   "outputs": [
    {
     "data": {
      "text/html": [
       "<div>\n",
       "<style scoped>\n",
       "    .dataframe tbody tr th:only-of-type {\n",
       "        vertical-align: middle;\n",
       "    }\n",
       "\n",
       "    .dataframe tbody tr th {\n",
       "        vertical-align: top;\n",
       "    }\n",
       "\n",
       "    .dataframe thead th {\n",
       "        text-align: right;\n",
       "    }\n",
       "</style>\n",
       "<table border=\"1\" class=\"dataframe\">\n",
       "  <thead>\n",
       "    <tr style=\"text-align: right;\">\n",
       "      <th></th>\n",
       "      <th>coords</th>\n",
       "      <th>country</th>\n",
       "      <th>name</th>\n",
       "    </tr>\n",
       "  </thead>\n",
       "  <tbody>\n",
       "    <tr>\n",
       "      <th>0</th>\n",
       "      <td>{'coordinates': [-122.110778927745, 37.4549724...</td>\n",
       "      <td>US</td>\n",
       "      <td>palo-alto-airport-palo-alto</td>\n",
       "    </tr>\n",
       "    <tr>\n",
       "      <th>1</th>\n",
       "      <td>{'coordinates': [-122.20068, 37.46168], 'type'...</td>\n",
       "      <td>US</td>\n",
       "      <td>tesla-on-call-atherton-3</td>\n",
       "    </tr>\n",
       "    <tr>\n",
       "      <th>2</th>\n",
       "      <td>{'coordinates': [-122.149828, 37.443254], 'typ...</td>\n",
       "      <td>US</td>\n",
       "      <td>lone-star-transportation-palo-alto</td>\n",
       "    </tr>\n",
       "    <tr>\n",
       "      <th>3</th>\n",
       "      <td>{'coordinates': [None, None], 'type': 'Point'}</td>\n",
       "      <td>US</td>\n",
       "      <td>palo-alto-taxi-cab-palo-alto-9</td>\n",
       "    </tr>\n",
       "    <tr>\n",
       "      <th>4</th>\n",
       "      <td>{'coordinates': [-122.11232, 37.41817], 'type'...</td>\n",
       "      <td>US</td>\n",
       "      <td>green-taxi-palo-alto-palo-alto-6</td>\n",
       "    </tr>\n",
       "    <tr>\n",
       "      <th>5</th>\n",
       "      <td>{'coordinates': [-122.12532043457, 37.46036529...</td>\n",
       "      <td>US</td>\n",
       "      <td>ash-limo-service-palo-alto</td>\n",
       "    </tr>\n",
       "    <tr>\n",
       "      <th>6</th>\n",
       "      <td>{'coordinates': [-122.126, 37.4305], 'type': '...</td>\n",
       "      <td>US</td>\n",
       "      <td>a-palo-alto-limousine-palo-alto</td>\n",
       "    </tr>\n",
       "    <tr>\n",
       "      <th>7</th>\n",
       "      <td>{'coordinates': [-122.12475, 37.44475], 'type'...</td>\n",
       "      <td>US</td>\n",
       "      <td>centurion-flight-services-palo-alto-5</td>\n",
       "    </tr>\n",
       "    <tr>\n",
       "      <th>8</th>\n",
       "      <td>{'coordinates': [-122.1575745, 37.4457966], 't...</td>\n",
       "      <td>US</td>\n",
       "      <td>a-style-limo-palo-alto</td>\n",
       "    </tr>\n",
       "    <tr>\n",
       "      <th>9</th>\n",
       "      <td>{'coordinates': [-122.11125, 37.41399], 'type'...</td>\n",
       "      <td>US</td>\n",
       "      <td>yellow-cab-mountain-view-palo-alto-2</td>\n",
       "    </tr>\n",
       "    <tr>\n",
       "      <th>10</th>\n",
       "      <td>{'coordinates': [-121.979413, 37.23286], 'type...</td>\n",
       "      <td>US</td>\n",
       "      <td>san-jose-airport-taxi-los-gatos-4</td>\n",
       "    </tr>\n",
       "    <tr>\n",
       "      <th>11</th>\n",
       "      <td>{'coordinates': [-122.121955871582, 37.4455833...</td>\n",
       "      <td>US</td>\n",
       "      <td>yellow-smart-cab-palo-alto</td>\n",
       "    </tr>\n",
       "    <tr>\n",
       "      <th>12</th>\n",
       "      <td>{'coordinates': [-122.15935, 37.44603], 'type'...</td>\n",
       "      <td>US</td>\n",
       "      <td>palo-alto-limo-palo-alto-4</td>\n",
       "    </tr>\n",
       "    <tr>\n",
       "      <th>13</th>\n",
       "      <td>{'coordinates': [-122.141818, 37.456257], 'typ...</td>\n",
       "      <td>US</td>\n",
       "      <td>bonavia-limo-palo-alto-2</td>\n",
       "    </tr>\n",
       "    <tr>\n",
       "      <th>14</th>\n",
       "      <td>{'coordinates': [-122.051727294922, 37.3799209...</td>\n",
       "      <td>US</td>\n",
       "      <td>flat-rate-airport-taxi-cab-sunnyvale</td>\n",
       "    </tr>\n",
       "    <tr>\n",
       "      <th>15</th>\n",
       "      <td>{'coordinates': [-122.128812428125, 37.4465138...</td>\n",
       "      <td>US</td>\n",
       "      <td>e-z-limo-palo-alto</td>\n",
       "    </tr>\n",
       "    <tr>\n",
       "      <th>16</th>\n",
       "      <td>{'coordinates': [-122.12109, 37.45001], 'type'...</td>\n",
       "      <td>US</td>\n",
       "      <td>palo-alto-limo-palo-alto-2</td>\n",
       "    </tr>\n",
       "    <tr>\n",
       "      <th>17</th>\n",
       "      <td>{'coordinates': [-122.16127, 37.46239], 'type'...</td>\n",
       "      <td>US</td>\n",
       "      <td>shiny-crystal-limo-menlo-park</td>\n",
       "    </tr>\n",
       "    <tr>\n",
       "      <th>18</th>\n",
       "      <td>{'coordinates': [-122.30363, 37.53486], 'type'...</td>\n",
       "      <td>US</td>\n",
       "      <td>blue-shuttle-san-mateo</td>\n",
       "    </tr>\n",
       "    <tr>\n",
       "      <th>19</th>\n",
       "      <td>{'coordinates': [-122.145393455469, 37.4265630...</td>\n",
       "      <td>US</td>\n",
       "      <td>all-star-bay-limousine-service-sunnyvale</td>\n",
       "    </tr>\n",
       "    <tr>\n",
       "      <th>20</th>\n",
       "      <td>{'coordinates': [-121.9864, 37.50847], 'type':...</td>\n",
       "      <td>US</td>\n",
       "      <td>bay-star-airport-shuttle-fremont-3</td>\n",
       "    </tr>\n",
       "    <tr>\n",
       "      <th>21</th>\n",
       "      <td>{'coordinates': [-122.0777025, 37.3930003], 't...</td>\n",
       "      <td>US</td>\n",
       "      <td>sf-city-limo-mountain-view</td>\n",
       "    </tr>\n",
       "    <tr>\n",
       "      <th>22</th>\n",
       "      <td>{'coordinates': [-121.95728, 37.39911], 'type'...</td>\n",
       "      <td>US</td>\n",
       "      <td>five-star-limo-black-car-service-santa-clara-5</td>\n",
       "    </tr>\n",
       "    <tr>\n",
       "      <th>23</th>\n",
       "      <td>{'coordinates': [-121.821792602539, 37.2524757...</td>\n",
       "      <td>US</td>\n",
       "      <td>san-jose-airport-taxi-san-jose</td>\n",
       "    </tr>\n",
       "    <tr>\n",
       "      <th>24</th>\n",
       "      <td>{'coordinates': [-122.182044312358, 37.4549406...</td>\n",
       "      <td>US</td>\n",
       "      <td>menlo-park-taxi-cab-menlo-park-14</td>\n",
       "    </tr>\n",
       "    <tr>\n",
       "      <th>25</th>\n",
       "      <td>{'coordinates': [-122.002724, 37.354534], 'typ...</td>\n",
       "      <td>US</td>\n",
       "      <td>rockin-limousine-services-sunnyvale-4</td>\n",
       "    </tr>\n",
       "    <tr>\n",
       "      <th>26</th>\n",
       "      <td>{'coordinates': [-122.1235054, 37.418165312851...</td>\n",
       "      <td>US</td>\n",
       "      <td>kavi-limousine-palo-alto-4</td>\n",
       "    </tr>\n",
       "    <tr>\n",
       "      <th>27</th>\n",
       "      <td>{'coordinates': [-122.15935, 37.44603], 'type'...</td>\n",
       "      <td>US</td>\n",
       "      <td>american-airport-and-limousine-services-palo-alto</td>\n",
       "    </tr>\n",
       "    <tr>\n",
       "      <th>28</th>\n",
       "      <td>{'coordinates': [-122.0181762, 37.411045468690...</td>\n",
       "      <td>US</td>\n",
       "      <td>esv-limo-service-sunnyvale-ca</td>\n",
       "    </tr>\n",
       "    <tr>\n",
       "      <th>29</th>\n",
       "      <td>{'coordinates': [-122.15793, 37.44787], 'type'...</td>\n",
       "      <td>US</td>\n",
       "      <td>yellow-cab-palo-alto-25</td>\n",
       "    </tr>\n",
       "    <tr>\n",
       "      <th>30</th>\n",
       "      <td>{'coordinates': [-122.120319, 37.6546635], 'ty...</td>\n",
       "      <td>US</td>\n",
       "      <td>meridian-hayward-hayward</td>\n",
       "    </tr>\n",
       "    <tr>\n",
       "      <th>31</th>\n",
       "      <td>{'coordinates': [-122.058792114258, 37.3785057...</td>\n",
       "      <td>US</td>\n",
       "      <td>lalli-taxi-cab-sunnyvale</td>\n",
       "    </tr>\n",
       "    <tr>\n",
       "      <th>32</th>\n",
       "      <td>{'coordinates': [-122.0841289, 37.386545], 'ty...</td>\n",
       "      <td>US</td>\n",
       "      <td>premier-airport-shuttle-mountain-view-2</td>\n",
       "    </tr>\n",
       "    <tr>\n",
       "      <th>33</th>\n",
       "      <td>{'coordinates': [-122.314443, 37.519468], 'typ...</td>\n",
       "      <td>US</td>\n",
       "      <td>melo-limo-express-brisbane-3</td>\n",
       "    </tr>\n",
       "    <tr>\n",
       "      <th>34</th>\n",
       "      <td>{'coordinates': [-122.1316742, 37.4174539], 't...</td>\n",
       "      <td>US</td>\n",
       "      <td>town-car-bay-area-palo-alto-3</td>\n",
       "    </tr>\n",
       "    <tr>\n",
       "      <th>35</th>\n",
       "      <td>{'coordinates': [-122.12914, 37.41238], 'type'...</td>\n",
       "      <td>US</td>\n",
       "      <td>town-car-service-palo-alto</td>\n",
       "    </tr>\n",
       "    <tr>\n",
       "      <th>36</th>\n",
       "      <td>{'coordinates': [-121.9299096, 37.4990631], 't...</td>\n",
       "      <td>US</td>\n",
       "      <td>ma-limousine-and-cls-global-transportation-fre...</td>\n",
       "    </tr>\n",
       "    <tr>\n",
       "      <th>37</th>\n",
       "      <td>{'coordinates': [-122.15644, 37.438525], 'type...</td>\n",
       "      <td>US</td>\n",
       "      <td>caltrain-station-stanford-palo-alto</td>\n",
       "    </tr>\n",
       "    <tr>\n",
       "      <th>38</th>\n",
       "      <td>{'coordinates': [-122.03566, 37.34467], 'type'...</td>\n",
       "      <td>US</td>\n",
       "      <td>front-travel-limo-sunnyvale</td>\n",
       "    </tr>\n",
       "    <tr>\n",
       "      <th>39</th>\n",
       "      <td>{'coordinates': [-121.918866, 37.2583724], 'ty...</td>\n",
       "      <td>US</td>\n",
       "      <td>mannys-sedan-and-limousine-los-gatos</td>\n",
       "    </tr>\n",
       "    <tr>\n",
       "      <th>40</th>\n",
       "      <td>{'coordinates': [-122.168327, 37.447128], 'typ...</td>\n",
       "      <td>US</td>\n",
       "      <td>yellow-cab-rider-palo-alto</td>\n",
       "    </tr>\n",
       "    <tr>\n",
       "      <th>41</th>\n",
       "      <td>{'coordinates': [-122.13191, 37.43086], 'type'...</td>\n",
       "      <td>US</td>\n",
       "      <td>yellow-cab-apex-palo-alto</td>\n",
       "    </tr>\n",
       "    <tr>\n",
       "      <th>42</th>\n",
       "      <td>{'coordinates': [-122.051879882813, 37.3790550...</td>\n",
       "      <td>US</td>\n",
       "      <td>berry-airport-shuttle-sunnyvale-2</td>\n",
       "    </tr>\n",
       "    <tr>\n",
       "      <th>43</th>\n",
       "      <td>{'coordinates': [-122.2704488, 37.5354239], 't...</td>\n",
       "      <td>US</td>\n",
       "      <td>black-star-transportation-san-mateo-4</td>\n",
       "    </tr>\n",
       "    <tr>\n",
       "      <th>44</th>\n",
       "      <td>{'coordinates': [-122.26084, 37.55214], 'type'...</td>\n",
       "      <td>US</td>\n",
       "      <td>yellow-cab-and-limo-foster-city-san-mateo-2</td>\n",
       "    </tr>\n",
       "    <tr>\n",
       "      <th>45</th>\n",
       "      <td>{'coordinates': [-121.9972667, 37.3553093], 't...</td>\n",
       "      <td>US</td>\n",
       "      <td>bay-one-limo-santa-clara-5</td>\n",
       "    </tr>\n",
       "    <tr>\n",
       "      <th>46</th>\n",
       "      <td>{'coordinates': [-122.347991943359, 37.5802383...</td>\n",
       "      <td>US</td>\n",
       "      <td>united-coach-limousine-burlingame</td>\n",
       "    </tr>\n",
       "    <tr>\n",
       "      <th>47</th>\n",
       "      <td>{'coordinates': [-122.078515, 37.4081737186827...</td>\n",
       "      <td>US</td>\n",
       "      <td>best-airport-yellow-cab-mountain-view</td>\n",
       "    </tr>\n",
       "    <tr>\n",
       "      <th>48</th>\n",
       "      <td>{'coordinates': [-122.02665, 37.19276], 'type'...</td>\n",
       "      <td>US</td>\n",
       "      <td>elite-vip-transportation-los-gatos</td>\n",
       "    </tr>\n",
       "    <tr>\n",
       "      <th>49</th>\n",
       "      <td>{'coordinates': [-121.94555, 37.32229], 'type'...</td>\n",
       "      <td>US</td>\n",
       "      <td>venture-limo-san-jose-3</td>\n",
       "    </tr>\n",
       "  </tbody>\n",
       "</table>\n",
       "</div>"
      ],
      "text/plain": [
       "                                               coords country  \\\n",
       "0   {'coordinates': [-122.110778927745, 37.4549724...      US   \n",
       "1   {'coordinates': [-122.20068, 37.46168], 'type'...      US   \n",
       "2   {'coordinates': [-122.149828, 37.443254], 'typ...      US   \n",
       "3      {'coordinates': [None, None], 'type': 'Point'}      US   \n",
       "4   {'coordinates': [-122.11232, 37.41817], 'type'...      US   \n",
       "5   {'coordinates': [-122.12532043457, 37.46036529...      US   \n",
       "6   {'coordinates': [-122.126, 37.4305], 'type': '...      US   \n",
       "7   {'coordinates': [-122.12475, 37.44475], 'type'...      US   \n",
       "8   {'coordinates': [-122.1575745, 37.4457966], 't...      US   \n",
       "9   {'coordinates': [-122.11125, 37.41399], 'type'...      US   \n",
       "10  {'coordinates': [-121.979413, 37.23286], 'type...      US   \n",
       "11  {'coordinates': [-122.121955871582, 37.4455833...      US   \n",
       "12  {'coordinates': [-122.15935, 37.44603], 'type'...      US   \n",
       "13  {'coordinates': [-122.141818, 37.456257], 'typ...      US   \n",
       "14  {'coordinates': [-122.051727294922, 37.3799209...      US   \n",
       "15  {'coordinates': [-122.128812428125, 37.4465138...      US   \n",
       "16  {'coordinates': [-122.12109, 37.45001], 'type'...      US   \n",
       "17  {'coordinates': [-122.16127, 37.46239], 'type'...      US   \n",
       "18  {'coordinates': [-122.30363, 37.53486], 'type'...      US   \n",
       "19  {'coordinates': [-122.145393455469, 37.4265630...      US   \n",
       "20  {'coordinates': [-121.9864, 37.50847], 'type':...      US   \n",
       "21  {'coordinates': [-122.0777025, 37.3930003], 't...      US   \n",
       "22  {'coordinates': [-121.95728, 37.39911], 'type'...      US   \n",
       "23  {'coordinates': [-121.821792602539, 37.2524757...      US   \n",
       "24  {'coordinates': [-122.182044312358, 37.4549406...      US   \n",
       "25  {'coordinates': [-122.002724, 37.354534], 'typ...      US   \n",
       "26  {'coordinates': [-122.1235054, 37.418165312851...      US   \n",
       "27  {'coordinates': [-122.15935, 37.44603], 'type'...      US   \n",
       "28  {'coordinates': [-122.0181762, 37.411045468690...      US   \n",
       "29  {'coordinates': [-122.15793, 37.44787], 'type'...      US   \n",
       "30  {'coordinates': [-122.120319, 37.6546635], 'ty...      US   \n",
       "31  {'coordinates': [-122.058792114258, 37.3785057...      US   \n",
       "32  {'coordinates': [-122.0841289, 37.386545], 'ty...      US   \n",
       "33  {'coordinates': [-122.314443, 37.519468], 'typ...      US   \n",
       "34  {'coordinates': [-122.1316742, 37.4174539], 't...      US   \n",
       "35  {'coordinates': [-122.12914, 37.41238], 'type'...      US   \n",
       "36  {'coordinates': [-121.9299096, 37.4990631], 't...      US   \n",
       "37  {'coordinates': [-122.15644, 37.438525], 'type...      US   \n",
       "38  {'coordinates': [-122.03566, 37.34467], 'type'...      US   \n",
       "39  {'coordinates': [-121.918866, 37.2583724], 'ty...      US   \n",
       "40  {'coordinates': [-122.168327, 37.447128], 'typ...      US   \n",
       "41  {'coordinates': [-122.13191, 37.43086], 'type'...      US   \n",
       "42  {'coordinates': [-122.051879882813, 37.3790550...      US   \n",
       "43  {'coordinates': [-122.2704488, 37.5354239], 't...      US   \n",
       "44  {'coordinates': [-122.26084, 37.55214], 'type'...      US   \n",
       "45  {'coordinates': [-121.9972667, 37.3553093], 't...      US   \n",
       "46  {'coordinates': [-122.347991943359, 37.5802383...      US   \n",
       "47  {'coordinates': [-122.078515, 37.4081737186827...      US   \n",
       "48  {'coordinates': [-122.02665, 37.19276], 'type'...      US   \n",
       "49  {'coordinates': [-121.94555, 37.32229], 'type'...      US   \n",
       "\n",
       "                                                 name  \n",
       "0                         palo-alto-airport-palo-alto  \n",
       "1                            tesla-on-call-atherton-3  \n",
       "2                  lone-star-transportation-palo-alto  \n",
       "3                      palo-alto-taxi-cab-palo-alto-9  \n",
       "4                    green-taxi-palo-alto-palo-alto-6  \n",
       "5                          ash-limo-service-palo-alto  \n",
       "6                     a-palo-alto-limousine-palo-alto  \n",
       "7               centurion-flight-services-palo-alto-5  \n",
       "8                              a-style-limo-palo-alto  \n",
       "9                yellow-cab-mountain-view-palo-alto-2  \n",
       "10                  san-jose-airport-taxi-los-gatos-4  \n",
       "11                         yellow-smart-cab-palo-alto  \n",
       "12                         palo-alto-limo-palo-alto-4  \n",
       "13                           bonavia-limo-palo-alto-2  \n",
       "14               flat-rate-airport-taxi-cab-sunnyvale  \n",
       "15                                 e-z-limo-palo-alto  \n",
       "16                         palo-alto-limo-palo-alto-2  \n",
       "17                      shiny-crystal-limo-menlo-park  \n",
       "18                             blue-shuttle-san-mateo  \n",
       "19           all-star-bay-limousine-service-sunnyvale  \n",
       "20                 bay-star-airport-shuttle-fremont-3  \n",
       "21                         sf-city-limo-mountain-view  \n",
       "22     five-star-limo-black-car-service-santa-clara-5  \n",
       "23                     san-jose-airport-taxi-san-jose  \n",
       "24                  menlo-park-taxi-cab-menlo-park-14  \n",
       "25              rockin-limousine-services-sunnyvale-4  \n",
       "26                         kavi-limousine-palo-alto-4  \n",
       "27  american-airport-and-limousine-services-palo-alto  \n",
       "28                      esv-limo-service-sunnyvale-ca  \n",
       "29                            yellow-cab-palo-alto-25  \n",
       "30                           meridian-hayward-hayward  \n",
       "31                           lalli-taxi-cab-sunnyvale  \n",
       "32            premier-airport-shuttle-mountain-view-2  \n",
       "33                       melo-limo-express-brisbane-3  \n",
       "34                      town-car-bay-area-palo-alto-3  \n",
       "35                         town-car-service-palo-alto  \n",
       "36  ma-limousine-and-cls-global-transportation-fre...  \n",
       "37                caltrain-station-stanford-palo-alto  \n",
       "38                        front-travel-limo-sunnyvale  \n",
       "39               mannys-sedan-and-limousine-los-gatos  \n",
       "40                         yellow-cab-rider-palo-alto  \n",
       "41                          yellow-cab-apex-palo-alto  \n",
       "42                  berry-airport-shuttle-sunnyvale-2  \n",
       "43              black-star-transportation-san-mateo-4  \n",
       "44        yellow-cab-and-limo-foster-city-san-mateo-2  \n",
       "45                         bay-one-limo-santa-clara-5  \n",
       "46                  united-coach-limousine-burlingame  \n",
       "47              best-airport-yellow-cab-mountain-view  \n",
       "48                 elite-vip-transportation-los-gatos  \n",
       "49                            venture-limo-san-jose-3  "
      ]
     },
     "execution_count": 26,
     "metadata": {},
     "output_type": "execute_result"
    }
   ],
   "source": [
    "df_airp2"
   ]
  },
  {
   "cell_type": "code",
   "execution_count": 16,
   "metadata": {},
   "outputs": [],
   "source": [
    "def RequestYelpBusiness2(business):\n",
    "    yelp_api_key = os.getenv(\"YELP_API_KEY\")\n",
    "    if not yelp_api_key:\n",
    "        raise ValueError(\"NECESITAS UN TOKEN\")\n",
    "    else:\n",
    "        print(\"We have a yelp api key: \", yelp_api_key[0:4])\n",
    "\n",
    "    url='https://api.yelp.com/v3/businesses/search'\n",
    "    headers = {'Authorization': 'Bearer %s' % yelp_api_key}\n",
    "    #ìn the dictionary, term can take values like food, cafes or businesses like McDonalds\n",
    "    \n",
    "    data = []\n",
    "    for offset in range(0, 1000, 50):\n",
    "        params = {'limit': 50,'term':business,'location':'Palo Alto','offset': offset, 'radius':4000}\n",
    "        req=requests.get(url, params=params, headers=headers)\n",
    "\n",
    "        if req.status_code == 200:\n",
    "                data += req.json()['businesses']\n",
    "        elif req.status_code == 400:\n",
    "                print('400 Bad Request')\n",
    "                break\n",
    "\n",
    "\n",
    "    print('The status code is {}'.format(req.status_code))\n",
    "    return data"
   ]
  },
  {
   "cell_type": "code",
   "execution_count": 17,
   "metadata": {},
   "outputs": [
    {
     "name": "stdout",
     "output_type": "stream",
     "text": [
      "We have a yelp api key:  HPPM\n",
      "The status code is 200\n"
     ]
    }
   ],
   "source": [
    "airport= RequestYelpBusiness2('airport')"
   ]
  },
  {
   "cell_type": "code",
   "execution_count": 18,
   "metadata": {},
   "outputs": [
    {
     "data": {
      "text/plain": [
       "{'alias': 'palo-alto-airport-palo-alto',\n",
       " 'categories': [{'alias': 'airports', 'title': 'Airports'}],\n",
       " 'coordinates': {'latitude': 37.454972401547, 'longitude': -122.110778927745},\n",
       " 'display_phone': '(650) 329-2444',\n",
       " 'distance': 3670.5327363090564,\n",
       " 'id': 'BPNTqHbA08J35liQfgavtg',\n",
       " 'image_url': 'https://s3-media1.fl.yelpcdn.com/bphoto/09gaUHsDQ7Q6v0SXbIQEPQ/o.jpg',\n",
       " 'is_closed': False,\n",
       " 'location': {'address1': '1925 Embarcadero Rd',\n",
       "  'address2': '',\n",
       "  'address3': '',\n",
       "  'city': 'Palo Alto',\n",
       "  'country': 'US',\n",
       "  'display_address': ['1925 Embarcadero Rd', 'Palo Alto, CA 94303'],\n",
       "  'state': 'CA',\n",
       "  'zip_code': '94303'},\n",
       " 'name': 'Palo Alto Airport',\n",
       " 'phone': '+16503292444',\n",
       " 'rating': 4.0,\n",
       " 'review_count': 12,\n",
       " 'transactions': [],\n",
       " 'url': 'https://www.yelp.com/biz/palo-alto-airport-palo-alto?adjust_creative=BC8rfICSUCL4XFnTlLrzbg&utm_campaign=yelp_api_v3&utm_medium=api_v3_business_search&utm_source=BC8rfICSUCL4XFnTlLrzbg'}"
      ]
     },
     "execution_count": 18,
     "metadata": {},
     "output_type": "execute_result"
    }
   ],
   "source": [
    "airport[0]"
   ]
  },
  {
   "cell_type": "code",
   "execution_count": null,
   "metadata": {},
   "outputs": [],
   "source": []
  }
 ],
 "metadata": {
  "kernelspec": {
   "display_name": "Python 3",
   "language": "python",
   "name": "python3"
  },
  "language_info": {
   "codemirror_mode": {
    "name": "ipython",
    "version": 3
   },
   "file_extension": ".py",
   "mimetype": "text/x-python",
   "name": "python",
   "nbconvert_exporter": "python",
   "pygments_lexer": "ipython3",
   "version": "3.5.2"
  }
 },
 "nbformat": 4,
 "nbformat_minor": 2
}
