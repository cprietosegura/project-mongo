{
 "cells": [
  {
   "cell_type": "code",
   "execution_count": 2,
   "metadata": {},
   "outputs": [],
   "source": [
    "import requests\n",
    "import os\n",
    "from dotenv import load_dotenv\n",
    "load_dotenv()\n",
    "import pandas as pd\n",
    "import json"
   ]
  },
  {
   "cell_type": "code",
   "execution_count": 3,
   "metadata": {},
   "outputs": [],
   "source": [
    "def RequestYelpBusiness(business):\n",
    "    yelp_api_key = os.getenv(\"YELP_API_KEY\")\n",
    "    if not yelp_api_key:\n",
    "        raise ValueError(\"NECESITAS UN TOKEN\")\n",
    "    else:\n",
    "        print(\"We have a yelp api key: \", yelp_api_key[0:4])\n",
    "\n",
    "    url='https://api.yelp.com/v3/businesses/search'\n",
    "    headers = {'Authorization': 'Bearer %s' % yelp_api_key}\n",
    "    #ìn the dictionary, term can take values like food, cafes or businesses like McDonalds\n",
    "    params = {'term':business,'location':'Palo Alto'}\n",
    "    req=requests.get(url, params=params, headers=headers)\n",
    "    print('The status code is {}'.format(req.status_code))\n",
    "    return req\n"
   ]
  },
  {
   "cell_type": "code",
   "execution_count": 4,
   "metadata": {},
   "outputs": [
    {
     "name": "stdout",
     "output_type": "stream",
     "text": [
      "We have a yelp api key:  HPPM\n",
      "The status code is 200\n"
     ]
    }
   ],
   "source": [
    "starbucks= RequestYelpBusiness('Starbucks')"
   ]
  },
  {
   "cell_type": "code",
   "execution_count": 6,
   "metadata": {},
   "outputs": [],
   "source": [
    "starbucks=json.loads(starbucks.text)"
   ]
  },
  {
   "cell_type": "code",
   "execution_count": 39,
   "metadata": {},
   "outputs": [],
   "source": [
    "def createDffromJson(json):\n",
    "    list_values=[]\n",
    "    for j in json['businesses']:\n",
    "        venues_pa={ \n",
    "            'name': j['alias'],\n",
    "            'country': j['location']['country'],\n",
    "            'coords': {'type': 'Point', 'coordinates':[j['coordinates']['longitude'],j['coordinates']['latitude']]}\n",
    "\n",
    "        }\n",
    "        list_values.append(venues_pa)\n",
    "    df=pd.DataFrame(list_values)\n",
    "    return df"
   ]
  },
  {
   "cell_type": "code",
   "execution_count": 30,
   "metadata": {},
   "outputs": [],
   "source": [
    "#starbucks_pa"
   ]
  },
  {
   "cell_type": "code",
   "execution_count": 45,
   "metadata": {},
   "outputs": [
    {
     "data": {
      "text/html": [
       "<div>\n",
       "<style scoped>\n",
       "    .dataframe tbody tr th:only-of-type {\n",
       "        vertical-align: middle;\n",
       "    }\n",
       "\n",
       "    .dataframe tbody tr th {\n",
       "        vertical-align: top;\n",
       "    }\n",
       "\n",
       "    .dataframe thead th {\n",
       "        text-align: right;\n",
       "    }\n",
       "</style>\n",
       "<table border=\"1\" class=\"dataframe\">\n",
       "  <thead>\n",
       "    <tr style=\"text-align: right;\">\n",
       "      <th></th>\n",
       "      <th>coords</th>\n",
       "      <th>country</th>\n",
       "      <th>name</th>\n",
       "    </tr>\n",
       "  </thead>\n",
       "  <tbody>\n",
       "    <tr>\n",
       "      <th>0</th>\n",
       "      <td>{'coordinates': [-122.144091, 37.426867], 'typ...</td>\n",
       "      <td>US</td>\n",
       "      <td>starbucks-palo-alto-20</td>\n",
       "    </tr>\n",
       "    <tr>\n",
       "      <th>1</th>\n",
       "      <td>{'coordinates': [-122.149213, 37.427381], 'typ...</td>\n",
       "      <td>US</td>\n",
       "      <td>starbucks-palo-alto-7</td>\n",
       "    </tr>\n",
       "  </tbody>\n",
       "</table>\n",
       "</div>"
      ],
      "text/plain": [
       "                                              coords country  \\\n",
       "0  {'coordinates': [-122.144091, 37.426867], 'typ...      US   \n",
       "1  {'coordinates': [-122.149213, 37.427381], 'typ...      US   \n",
       "\n",
       "                     name  \n",
       "0  starbucks-palo-alto-20  \n",
       "1   starbucks-palo-alto-7  "
      ]
     },
     "execution_count": 45,
     "metadata": {},
     "output_type": "execute_result"
    }
   ],
   "source": [
    "df.head(2)"
   ]
  },
  {
   "cell_type": "code",
   "execution_count": 31,
   "metadata": {},
   "outputs": [],
   "source": [
    "df.to_json('df_starbucks.json', orient='records')"
   ]
  },
  {
   "cell_type": "code",
   "execution_count": 33,
   "metadata": {},
   "outputs": [
    {
     "name": "stdout",
     "output_type": "stream",
     "text": [
      "We have a yelp api key:  HPPM\n",
      "The status code is 200\n"
     ]
    }
   ],
   "source": [
    "#request para conseguir las escuelas primarias.\n",
    "schools= RequestYelpBusiness('elementary school')"
   ]
  },
  {
   "cell_type": "code",
   "execution_count": 34,
   "metadata": {},
   "outputs": [],
   "source": [
    "schools=json.loads(schools.text)"
   ]
  },
  {
   "cell_type": "code",
   "execution_count": 42,
   "metadata": {},
   "outputs": [],
   "source": [
    "df_schools=createDffromJson(schools)"
   ]
  },
  {
   "cell_type": "code",
   "execution_count": 43,
   "metadata": {},
   "outputs": [
    {
     "data": {
      "text/html": [
       "<div>\n",
       "<style scoped>\n",
       "    .dataframe tbody tr th:only-of-type {\n",
       "        vertical-align: middle;\n",
       "    }\n",
       "\n",
       "    .dataframe tbody tr th {\n",
       "        vertical-align: top;\n",
       "    }\n",
       "\n",
       "    .dataframe thead th {\n",
       "        text-align: right;\n",
       "    }\n",
       "</style>\n",
       "<table border=\"1\" class=\"dataframe\">\n",
       "  <thead>\n",
       "    <tr style=\"text-align: right;\">\n",
       "      <th></th>\n",
       "      <th>coords</th>\n",
       "      <th>country</th>\n",
       "      <th>name</th>\n",
       "    </tr>\n",
       "  </thead>\n",
       "  <tbody>\n",
       "    <tr>\n",
       "      <th>0</th>\n",
       "      <td>{'coordinates': [-122.143066, 37.44305], 'type...</td>\n",
       "      <td>US</td>\n",
       "      <td>walter-hays-elementary-school-palo-alto</td>\n",
       "    </tr>\n",
       "    <tr>\n",
       "      <th>1</th>\n",
       "      <td>{'coordinates': [-122.1311506, 37.4080946], 't...</td>\n",
       "      <td>US</td>\n",
       "      <td>juana-briones-elementary-school-palo-alto</td>\n",
       "    </tr>\n",
       "    <tr>\n",
       "      <th>2</th>\n",
       "      <td>{'coordinates': [-122.11431, 37.43086], 'type'...</td>\n",
       "      <td>US</td>\n",
       "      <td>palo-verde-elementary-school-palo-alto</td>\n",
       "    </tr>\n",
       "    <tr>\n",
       "      <th>3</th>\n",
       "      <td>{'coordinates': [-122.14721, 37.42696], 'type'...</td>\n",
       "      <td>US</td>\n",
       "      <td>living-wisdom-school-palo-alto</td>\n",
       "    </tr>\n",
       "    <tr>\n",
       "      <th>4</th>\n",
       "      <td>{'coordinates': [-122.123527526855, 37.4396743...</td>\n",
       "      <td>US</td>\n",
       "      <td>ohlone-elementary-school-palo-alto</td>\n",
       "    </tr>\n",
       "  </tbody>\n",
       "</table>\n",
       "</div>"
      ],
      "text/plain": [
       "                                              coords country  \\\n",
       "0  {'coordinates': [-122.143066, 37.44305], 'type...      US   \n",
       "1  {'coordinates': [-122.1311506, 37.4080946], 't...      US   \n",
       "2  {'coordinates': [-122.11431, 37.43086], 'type'...      US   \n",
       "3  {'coordinates': [-122.14721, 37.42696], 'type'...      US   \n",
       "4  {'coordinates': [-122.123527526855, 37.4396743...      US   \n",
       "\n",
       "                                        name  \n",
       "0    walter-hays-elementary-school-palo-alto  \n",
       "1  juana-briones-elementary-school-palo-alto  \n",
       "2     palo-verde-elementary-school-palo-alto  \n",
       "3             living-wisdom-school-palo-alto  \n",
       "4         ohlone-elementary-school-palo-alto  "
      ]
     },
     "execution_count": 43,
     "metadata": {},
     "output_type": "execute_result"
    }
   ],
   "source": [
    "df_schools.head()"
   ]
  },
  {
   "cell_type": "code",
   "execution_count": null,
   "metadata": {},
   "outputs": [],
   "source": []
  },
  {
   "cell_type": "markdown",
   "metadata": {},
   "source": [
    "\n",
    "\n",
    "Request para conseguir restaurantes con comida vegana."
   ]
  },
  {
   "cell_type": "code",
   "execution_count": 46,
   "metadata": {},
   "outputs": [
    {
     "name": "stdout",
     "output_type": "stream",
     "text": [
      "We have a yelp api key:  HPPM\n",
      "The status code is 200\n"
     ]
    }
   ],
   "source": [
    "vegan_food= RequestYelpBusiness('vegan food')"
   ]
  },
  {
   "cell_type": "code",
   "execution_count": 47,
   "metadata": {},
   "outputs": [],
   "source": [
    "vegan_food=json.loads(vegan_food.text)\n",
    "df_vegan_food=createDffromJson(vegan_food)"
   ]
  },
  {
   "cell_type": "code",
   "execution_count": 49,
   "metadata": {},
   "outputs": [
    {
     "data": {
      "text/html": [
       "<div>\n",
       "<style scoped>\n",
       "    .dataframe tbody tr th:only-of-type {\n",
       "        vertical-align: middle;\n",
       "    }\n",
       "\n",
       "    .dataframe tbody tr th {\n",
       "        vertical-align: top;\n",
       "    }\n",
       "\n",
       "    .dataframe thead th {\n",
       "        text-align: right;\n",
       "    }\n",
       "</style>\n",
       "<table border=\"1\" class=\"dataframe\">\n",
       "  <thead>\n",
       "    <tr style=\"text-align: right;\">\n",
       "      <th></th>\n",
       "      <th>coords</th>\n",
       "      <th>country</th>\n",
       "      <th>name</th>\n",
       "    </tr>\n",
       "  </thead>\n",
       "  <tbody>\n",
       "    <tr>\n",
       "      <th>0</th>\n",
       "      <td>{'coordinates': [-122.171082, 37.444293], 'typ...</td>\n",
       "      <td>US</td>\n",
       "      <td>true-food-kitchen-palo-alto</td>\n",
       "    </tr>\n",
       "    <tr>\n",
       "      <th>1</th>\n",
       "      <td>{'coordinates': [-122.16288, 37.44554], 'type'...</td>\n",
       "      <td>US</td>\n",
       "      <td>garden-fresh-palo-alto</td>\n",
       "    </tr>\n",
       "    <tr>\n",
       "      <th>2</th>\n",
       "      <td>{'coordinates': [-122.08039, 37.39217], 'type'...</td>\n",
       "      <td>US</td>\n",
       "      <td>heyo-eats-mountain-view-2</td>\n",
       "    </tr>\n",
       "    <tr>\n",
       "      <th>3</th>\n",
       "      <td>{'coordinates': [-122.108575758136, 37.3991561...</td>\n",
       "      <td>US</td>\n",
       "      <td>veggie-garden-mountain-view</td>\n",
       "    </tr>\n",
       "    <tr>\n",
       "      <th>4</th>\n",
       "      <td>{'coordinates': [-122.146167755127, 37.4255932...</td>\n",
       "      <td>US</td>\n",
       "      <td>rawdaddys-fun-cone-food-san-francisco</td>\n",
       "    </tr>\n",
       "  </tbody>\n",
       "</table>\n",
       "</div>"
      ],
      "text/plain": [
       "                                              coords country  \\\n",
       "0  {'coordinates': [-122.171082, 37.444293], 'typ...      US   \n",
       "1  {'coordinates': [-122.16288, 37.44554], 'type'...      US   \n",
       "2  {'coordinates': [-122.08039, 37.39217], 'type'...      US   \n",
       "3  {'coordinates': [-122.108575758136, 37.3991561...      US   \n",
       "4  {'coordinates': [-122.146167755127, 37.4255932...      US   \n",
       "\n",
       "                                    name  \n",
       "0            true-food-kitchen-palo-alto  \n",
       "1                 garden-fresh-palo-alto  \n",
       "2              heyo-eats-mountain-view-2  \n",
       "3            veggie-garden-mountain-view  \n",
       "4  rawdaddys-fun-cone-food-san-francisco  "
      ]
     },
     "execution_count": 49,
     "metadata": {},
     "output_type": "execute_result"
    }
   ],
   "source": [
    "df_vegan_food.head()"
   ]
  },
  {
   "cell_type": "code",
   "execution_count": null,
   "metadata": {},
   "outputs": [],
   "source": []
  }
 ],
 "metadata": {
  "kernelspec": {
   "display_name": "Python 3",
   "language": "python",
   "name": "python3"
  },
  "language_info": {
   "codemirror_mode": {
    "name": "ipython",
    "version": 3
   },
   "file_extension": ".py",
   "mimetype": "text/x-python",
   "name": "python",
   "nbconvert_exporter": "python",
   "pygments_lexer": "ipython3",
   "version": "3.5.2"
  }
 },
 "nbformat": 4,
 "nbformat_minor": 2
}
