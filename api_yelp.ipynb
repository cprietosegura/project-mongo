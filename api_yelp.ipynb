{
 "cells": [
  {
   "cell_type": "code",
   "execution_count": 2,
   "metadata": {},
   "outputs": [],
   "source": [
    "import requests\n",
    "import os\n",
    "from dotenv import load_dotenv\n",
    "load_dotenv()\n",
    "import pandas as pd\n",
    "import json"
   ]
  },
  {
   "cell_type": "code",
   "execution_count": 118,
   "metadata": {},
   "outputs": [],
   "source": [
    "def RequestYelpBusiness(business):\n",
    "    yelp_api_key = os.getenv(\"YELP_API_KEY\")\n",
    "    if not yelp_api_key:\n",
    "        raise ValueError(\"NECESITAS UN TOKEN\")\n",
    "    else:\n",
    "        print(\"We have a yelp api key: \", yelp_api_key[0:4])\n",
    "\n",
    "    url='https://api.yelp.com/v3/businesses/search'\n",
    "    headers = {'Authorization': 'Bearer %s' % yelp_api_key}\n",
    "    #ìn the dictionary, term can take values like food, cafes or businesses like McDonalds\n",
    "    \n",
    "    data = []\n",
    "    for offset in range(0, 1000, 50):\n",
    "        params = {'limit': 50,'term':business,'location':'Palo Alto','offset': offset, 'radius':4000}\n",
    "        req=requests.get(url, params=params, headers=headers)\n",
    "\n",
    "        if req.status_code == 200:\n",
    "                data += req.json()['businesses']\n",
    "        elif req.status_code == 400:\n",
    "                print('400 Bad Request')\n",
    "                break\n",
    "\n",
    "\n",
    "    print('The status code is {}'.format(req.status_code))\n",
    "    return data\n"
   ]
  },
  {
   "cell_type": "markdown",
   "metadata": {},
   "source": [
    "__Request para conseguir Starbucks.__"
   ]
  },
  {
   "cell_type": "markdown",
   "metadata": {},
   "source": [
    "starbucks= RequestYelpBusiness('Starbucks')\n",
    "print(type(starbucks))"
   ]
  },
  {
   "cell_type": "code",
   "execution_count": 120,
   "metadata": {},
   "outputs": [
    {
     "data": {
      "text/plain": [
       "129"
      ]
     },
     "execution_count": 120,
     "metadata": {},
     "output_type": "execute_result"
    }
   ],
   "source": [
    "len(starbucks)"
   ]
  },
  {
   "cell_type": "code",
   "execution_count": 121,
   "metadata": {},
   "outputs": [],
   "source": [
    "def createDffromJson(json):\n",
    "    list_values=[]\n",
    "    for j in json:\n",
    "        venues_pa={ \n",
    "            'name': j['alias'],\n",
    "            'country': j['location']['country'],\n",
    "            'coords': {'type': 'Point', 'coordinates':[j['coordinates']['longitude'],j['coordinates']['latitude']]}\n",
    "\n",
    "        }\n",
    "        list_values.append(venues_pa)\n",
    "    df=pd.DataFrame(list_values)\n",
    "    return df"
   ]
  },
  {
   "cell_type": "code",
   "execution_count": 122,
   "metadata": {},
   "outputs": [],
   "source": [
    "df=createDffromJson(starbucks)"
   ]
  },
  {
   "cell_type": "code",
   "execution_count": 123,
   "metadata": {},
   "outputs": [
    {
     "data": {
      "text/plain": [
       "(129, 3)"
      ]
     },
     "execution_count": 123,
     "metadata": {},
     "output_type": "execute_result"
    }
   ],
   "source": [
    "df.head()\n",
    "df.shape"
   ]
  },
  {
   "cell_type": "code",
   "execution_count": 124,
   "metadata": {},
   "outputs": [],
   "source": [
    "df.to_json('df_starbucks.json', orient='records')"
   ]
  },
  {
   "cell_type": "markdown",
   "metadata": {},
   "source": [
    "__Request para conseguir las escuelas primarias.__"
   ]
  },
  {
   "cell_type": "code",
   "execution_count": 125,
   "metadata": {},
   "outputs": [
    {
     "name": "stdout",
     "output_type": "stream",
     "text": [
      "We have a yelp api key:  HPPM\n",
      "The status code is 200\n"
     ]
    }
   ],
   "source": [
    "schools= RequestYelpBusiness('elementary school')"
   ]
  },
  {
   "cell_type": "code",
   "execution_count": 126,
   "metadata": {},
   "outputs": [
    {
     "data": {
      "text/plain": [
       "68"
      ]
     },
     "execution_count": 126,
     "metadata": {},
     "output_type": "execute_result"
    }
   ],
   "source": [
    "len(schools)"
   ]
  },
  {
   "cell_type": "code",
   "execution_count": 131,
   "metadata": {},
   "outputs": [],
   "source": [
    "df_schools=createDffromJson(schools)"
   ]
  },
  {
   "cell_type": "code",
   "execution_count": 132,
   "metadata": {
    "scrolled": true
   },
   "outputs": [
    {
     "data": {
      "text/html": [
       "<div>\n",
       "<style scoped>\n",
       "    .dataframe tbody tr th:only-of-type {\n",
       "        vertical-align: middle;\n",
       "    }\n",
       "\n",
       "    .dataframe tbody tr th {\n",
       "        vertical-align: top;\n",
       "    }\n",
       "\n",
       "    .dataframe thead th {\n",
       "        text-align: right;\n",
       "    }\n",
       "</style>\n",
       "<table border=\"1\" class=\"dataframe\">\n",
       "  <thead>\n",
       "    <tr style=\"text-align: right;\">\n",
       "      <th></th>\n",
       "      <th>coords</th>\n",
       "      <th>country</th>\n",
       "      <th>name</th>\n",
       "    </tr>\n",
       "  </thead>\n",
       "  <tbody>\n",
       "    <tr>\n",
       "      <th>0</th>\n",
       "      <td>{'coordinates': [-122.143066, 37.44305], 'type...</td>\n",
       "      <td>US</td>\n",
       "      <td>walter-hays-elementary-school-palo-alto</td>\n",
       "    </tr>\n",
       "    <tr>\n",
       "      <th>1</th>\n",
       "      <td>{'coordinates': [-122.1311506, 37.4080946], 't...</td>\n",
       "      <td>US</td>\n",
       "      <td>juana-briones-elementary-school-palo-alto</td>\n",
       "    </tr>\n",
       "    <tr>\n",
       "      <th>2</th>\n",
       "      <td>{'coordinates': [-122.14721, 37.42696], 'type'...</td>\n",
       "      <td>US</td>\n",
       "      <td>living-wisdom-school-palo-alto</td>\n",
       "    </tr>\n",
       "    <tr>\n",
       "      <th>3</th>\n",
       "      <td>{'coordinates': [-122.11431, 37.43086], 'type'...</td>\n",
       "      <td>US</td>\n",
       "      <td>palo-verde-elementary-school-palo-alto</td>\n",
       "    </tr>\n",
       "    <tr>\n",
       "      <th>4</th>\n",
       "      <td>{'coordinates': [-122.123527526855, 37.4396743...</td>\n",
       "      <td>US</td>\n",
       "      <td>ohlone-elementary-school-palo-alto</td>\n",
       "    </tr>\n",
       "  </tbody>\n",
       "</table>\n",
       "</div>"
      ],
      "text/plain": [
       "                                              coords country  \\\n",
       "0  {'coordinates': [-122.143066, 37.44305], 'type...      US   \n",
       "1  {'coordinates': [-122.1311506, 37.4080946], 't...      US   \n",
       "2  {'coordinates': [-122.14721, 37.42696], 'type'...      US   \n",
       "3  {'coordinates': [-122.11431, 37.43086], 'type'...      US   \n",
       "4  {'coordinates': [-122.123527526855, 37.4396743...      US   \n",
       "\n",
       "                                        name  \n",
       "0    walter-hays-elementary-school-palo-alto  \n",
       "1  juana-briones-elementary-school-palo-alto  \n",
       "2             living-wisdom-school-palo-alto  \n",
       "3     palo-verde-elementary-school-palo-alto  \n",
       "4         ohlone-elementary-school-palo-alto  "
      ]
     },
     "execution_count": 132,
     "metadata": {},
     "output_type": "execute_result"
    }
   ],
   "source": [
    "df_schools.head()"
   ]
  },
  {
   "cell_type": "code",
   "execution_count": 133,
   "metadata": {},
   "outputs": [],
   "source": [
    "df_schools.to_json('df_schools.json', orient='records')"
   ]
  },
  {
   "cell_type": "markdown",
   "metadata": {},
   "source": [
    "\n",
    "\n",
    "__Request para conseguir restaurantes veganos o con opciones veganas.__"
   ]
  },
  {
   "cell_type": "code",
   "execution_count": 134,
   "metadata": {},
   "outputs": [
    {
     "name": "stdout",
     "output_type": "stream",
     "text": [
      "We have a yelp api key:  HPPM\n",
      "The status code is 200\n"
     ]
    }
   ],
   "source": [
    "vegan_food= RequestYelpBusiness('vegan food')"
   ]
  },
  {
   "cell_type": "code",
   "execution_count": 136,
   "metadata": {},
   "outputs": [
    {
     "data": {
      "text/plain": [
       "(292, 3)"
      ]
     },
     "execution_count": 136,
     "metadata": {},
     "output_type": "execute_result"
    }
   ],
   "source": [
    "df_vegan_food.head()\n",
    "df_vegan_food.shape"
   ]
  },
  {
   "cell_type": "code",
   "execution_count": 137,
   "metadata": {},
   "outputs": [],
   "source": [
    "df_vegan_food.to_json('df_vegan.json', orient='records')"
   ]
  },
  {
   "cell_type": "markdown",
   "metadata": {},
   "source": [
    "__Request para conseguir places to party.__"
   ]
  },
  {
   "cell_type": "code",
   "execution_count": 139,
   "metadata": {},
   "outputs": [
    {
     "name": "stdout",
     "output_type": "stream",
     "text": [
      "We have a yelp api key:  HPPM\n",
      "The status code is 200\n"
     ]
    }
   ],
   "source": [
    "party= RequestYelpBusiness('night club')"
   ]
  },
  {
   "cell_type": "code",
   "execution_count": 140,
   "metadata": {},
   "outputs": [],
   "source": [
    "df_party=createDffromJson(party)"
   ]
  },
  {
   "cell_type": "code",
   "execution_count": 143,
   "metadata": {},
   "outputs": [],
   "source": [
    "df_party.to_json('df_party.json', orient='records')"
   ]
  }
 ],
 "metadata": {
  "kernelspec": {
   "display_name": "Python 3",
   "language": "python",
   "name": "python3"
  },
  "language_info": {
   "codemirror_mode": {
    "name": "ipython",
    "version": 3
   },
   "file_extension": ".py",
   "mimetype": "text/x-python",
   "name": "python",
   "nbconvert_exporter": "python",
   "pygments_lexer": "ipython3",
   "version": "3.5.2"
  }
 },
 "nbformat": 4,
 "nbformat_minor": 2
}
