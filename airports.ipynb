{
 "cells": [
  {
   "cell_type": "code",
   "execution_count": 1,
   "metadata": {},
   "outputs": [],
   "source": [
    "import pandas as pd\n",
    "import numpy as np"
   ]
  },
  {
   "cell_type": "code",
   "execution_count": 24,
   "metadata": {},
   "outputs": [],
   "source": [
    "df = pd.read_csv(\"./Input/airports-extended.csv\", header=None)\n",
    "#df.columns= [\"number\",\"airport_name\"]"
   ]
  },
  {
   "cell_type": "code",
   "execution_count": null,
   "metadata": {},
   "outputs": [],
   "source": [
    "df.head(3)"
   ]
  },
  {
   "cell_type": "code",
   "execution_count": 22,
   "metadata": {},
   "outputs": [
    {
     "name": "stdout",
     "output_type": "stream",
     "text": [
      "Int64Index([0, 1, 2, 3, 4, 5, 6, 7, 8, 9, 10, 11, 12, 13], dtype='int64')\n"
     ]
    }
   ],
   "source": [
    "print(df.columns)"
   ]
  },
  {
   "cell_type": "code",
   "execution_count": 5,
   "metadata": {},
   "outputs": [],
   "source": [
    "df=df.reset_index().T.reset_index().T"
   ]
  },
  {
   "cell_type": "code",
   "execution_count": 6,
   "metadata": {},
   "outputs": [],
   "source": [
    "df=df.rename(columns={2:'airport',4:'country',7:'latitude',8:'longitude'})"
   ]
  },
  {
   "cell_type": "code",
   "execution_count": 7,
   "metadata": {},
   "outputs": [
    {
     "data": {
      "text/html": [
       "<div>\n",
       "<style scoped>\n",
       "    .dataframe tbody tr th:only-of-type {\n",
       "        vertical-align: middle;\n",
       "    }\n",
       "\n",
       "    .dataframe tbody tr th {\n",
       "        vertical-align: top;\n",
       "    }\n",
       "\n",
       "    .dataframe thead th {\n",
       "        text-align: right;\n",
       "    }\n",
       "</style>\n",
       "<table border=\"1\" class=\"dataframe\">\n",
       "  <thead>\n",
       "    <tr style=\"text-align: right;\">\n",
       "      <th></th>\n",
       "      <th>0</th>\n",
       "      <th>1</th>\n",
       "      <th>airport</th>\n",
       "      <th>3</th>\n",
       "      <th>country</th>\n",
       "      <th>5</th>\n",
       "      <th>6</th>\n",
       "      <th>latitude</th>\n",
       "      <th>longitude</th>\n",
       "      <th>9</th>\n",
       "      <th>10</th>\n",
       "      <th>11</th>\n",
       "      <th>12</th>\n",
       "      <th>13</th>\n",
       "      <th>14</th>\n",
       "    </tr>\n",
       "  </thead>\n",
       "  <tbody>\n",
       "    <tr>\n",
       "      <th>index</th>\n",
       "      <td>index</td>\n",
       "      <td>1</td>\n",
       "      <td>Goroka Airport</td>\n",
       "      <td>Goroka</td>\n",
       "      <td>Papua New Guinea</td>\n",
       "      <td>GKA</td>\n",
       "      <td>AYGA</td>\n",
       "      <td>-6.081689834590001</td>\n",
       "      <td>145.391998291</td>\n",
       "      <td>5282</td>\n",
       "      <td>10</td>\n",
       "      <td>U</td>\n",
       "      <td>Pacific/Port_Moresby</td>\n",
       "      <td>airport</td>\n",
       "      <td>OurAirports</td>\n",
       "    </tr>\n",
       "    <tr>\n",
       "      <th>0</th>\n",
       "      <td>0</td>\n",
       "      <td>2</td>\n",
       "      <td>Madang Airport</td>\n",
       "      <td>Madang</td>\n",
       "      <td>Papua New Guinea</td>\n",
       "      <td>MAG</td>\n",
       "      <td>AYMD</td>\n",
       "      <td>-5.20708</td>\n",
       "      <td>145.789</td>\n",
       "      <td>20</td>\n",
       "      <td>10</td>\n",
       "      <td>U</td>\n",
       "      <td>Pacific/Port_Moresby</td>\n",
       "      <td>airport</td>\n",
       "      <td>OurAirports</td>\n",
       "    </tr>\n",
       "    <tr>\n",
       "      <th>1</th>\n",
       "      <td>1</td>\n",
       "      <td>3</td>\n",
       "      <td>Mount Hagen Kagamuga Airport</td>\n",
       "      <td>Mount Hagen</td>\n",
       "      <td>Papua New Guinea</td>\n",
       "      <td>HGU</td>\n",
       "      <td>AYMH</td>\n",
       "      <td>-5.82679</td>\n",
       "      <td>144.296</td>\n",
       "      <td>5388</td>\n",
       "      <td>10</td>\n",
       "      <td>U</td>\n",
       "      <td>Pacific/Port_Moresby</td>\n",
       "      <td>airport</td>\n",
       "      <td>OurAirports</td>\n",
       "    </tr>\n",
       "    <tr>\n",
       "      <th>2</th>\n",
       "      <td>2</td>\n",
       "      <td>4</td>\n",
       "      <td>Nadzab Airport</td>\n",
       "      <td>Nadzab</td>\n",
       "      <td>Papua New Guinea</td>\n",
       "      <td>LAE</td>\n",
       "      <td>AYNZ</td>\n",
       "      <td>-6.5698</td>\n",
       "      <td>146.726</td>\n",
       "      <td>239</td>\n",
       "      <td>10</td>\n",
       "      <td>U</td>\n",
       "      <td>Pacific/Port_Moresby</td>\n",
       "      <td>airport</td>\n",
       "      <td>OurAirports</td>\n",
       "    </tr>\n",
       "    <tr>\n",
       "      <th>3</th>\n",
       "      <td>3</td>\n",
       "      <td>5</td>\n",
       "      <td>Port Moresby Jacksons International Airport</td>\n",
       "      <td>Port Moresby</td>\n",
       "      <td>Papua New Guinea</td>\n",
       "      <td>POM</td>\n",
       "      <td>AYPY</td>\n",
       "      <td>-9.44338</td>\n",
       "      <td>147.22</td>\n",
       "      <td>146</td>\n",
       "      <td>10</td>\n",
       "      <td>U</td>\n",
       "      <td>Pacific/Port_Moresby</td>\n",
       "      <td>airport</td>\n",
       "      <td>OurAirports</td>\n",
       "    </tr>\n",
       "  </tbody>\n",
       "</table>\n",
       "</div>"
      ],
      "text/plain": [
       "           0  1                                      airport             3  \\\n",
       "index  index  1                               Goroka Airport        Goroka   \n",
       "0          0  2                               Madang Airport        Madang   \n",
       "1          1  3                 Mount Hagen Kagamuga Airport   Mount Hagen   \n",
       "2          2  4                               Nadzab Airport        Nadzab   \n",
       "3          3  5  Port Moresby Jacksons International Airport  Port Moresby   \n",
       "\n",
       "                country    5     6            latitude      longitude     9  \\\n",
       "index  Papua New Guinea  GKA  AYGA  -6.081689834590001  145.391998291  5282   \n",
       "0      Papua New Guinea  MAG  AYMD            -5.20708        145.789    20   \n",
       "1      Papua New Guinea  HGU  AYMH            -5.82679        144.296  5388   \n",
       "2      Papua New Guinea  LAE  AYNZ             -6.5698        146.726   239   \n",
       "3      Papua New Guinea  POM  AYPY            -9.44338         147.22   146   \n",
       "\n",
       "       10 11                    12       13           14  \n",
       "index  10  U  Pacific/Port_Moresby  airport  OurAirports  \n",
       "0      10  U  Pacific/Port_Moresby  airport  OurAirports  \n",
       "1      10  U  Pacific/Port_Moresby  airport  OurAirports  \n",
       "2      10  U  Pacific/Port_Moresby  airport  OurAirports  \n",
       "3      10  U  Pacific/Port_Moresby  airport  OurAirports  "
      ]
     },
     "execution_count": 7,
     "metadata": {},
     "output_type": "execute_result"
    }
   ],
   "source": [
    "df.head()"
   ]
  },
  {
   "cell_type": "code",
   "execution_count": 8,
   "metadata": {},
   "outputs": [
    {
     "data": {
      "text/html": [
       "<div>\n",
       "<style scoped>\n",
       "    .dataframe tbody tr th:only-of-type {\n",
       "        vertical-align: middle;\n",
       "    }\n",
       "\n",
       "    .dataframe tbody tr th {\n",
       "        vertical-align: top;\n",
       "    }\n",
       "\n",
       "    .dataframe thead th {\n",
       "        text-align: right;\n",
       "    }\n",
       "</style>\n",
       "<table border=\"1\" class=\"dataframe\">\n",
       "  <thead>\n",
       "    <tr style=\"text-align: right;\">\n",
       "      <th></th>\n",
       "      <th>airport</th>\n",
       "      <th>country</th>\n",
       "      <th>latitude</th>\n",
       "      <th>longitude</th>\n",
       "    </tr>\n",
       "  </thead>\n",
       "  <tbody>\n",
       "    <tr>\n",
       "      <th>index</th>\n",
       "      <td>Goroka Airport</td>\n",
       "      <td>Papua New Guinea</td>\n",
       "      <td>-6.081689834590001</td>\n",
       "      <td>145.391998291</td>\n",
       "    </tr>\n",
       "    <tr>\n",
       "      <th>0</th>\n",
       "      <td>Madang Airport</td>\n",
       "      <td>Papua New Guinea</td>\n",
       "      <td>-5.20708</td>\n",
       "      <td>145.789</td>\n",
       "    </tr>\n",
       "    <tr>\n",
       "      <th>1</th>\n",
       "      <td>Mount Hagen Kagamuga Airport</td>\n",
       "      <td>Papua New Guinea</td>\n",
       "      <td>-5.82679</td>\n",
       "      <td>144.296</td>\n",
       "    </tr>\n",
       "    <tr>\n",
       "      <th>2</th>\n",
       "      <td>Nadzab Airport</td>\n",
       "      <td>Papua New Guinea</td>\n",
       "      <td>-6.5698</td>\n",
       "      <td>146.726</td>\n",
       "    </tr>\n",
       "    <tr>\n",
       "      <th>3</th>\n",
       "      <td>Port Moresby Jacksons International Airport</td>\n",
       "      <td>Papua New Guinea</td>\n",
       "      <td>-9.44338</td>\n",
       "      <td>147.22</td>\n",
       "    </tr>\n",
       "  </tbody>\n",
       "</table>\n",
       "</div>"
      ],
      "text/plain": [
       "                                           airport           country  \\\n",
       "index                               Goroka Airport  Papua New Guinea   \n",
       "0                                   Madang Airport  Papua New Guinea   \n",
       "1                     Mount Hagen Kagamuga Airport  Papua New Guinea   \n",
       "2                                   Nadzab Airport  Papua New Guinea   \n",
       "3      Port Moresby Jacksons International Airport  Papua New Guinea   \n",
       "\n",
       "                 latitude      longitude  \n",
       "index  -6.081689834590001  145.391998291  \n",
       "0                -5.20708        145.789  \n",
       "1                -5.82679        144.296  \n",
       "2                 -6.5698        146.726  \n",
       "3                -9.44338         147.22  "
      ]
     },
     "execution_count": 8,
     "metadata": {},
     "output_type": "execute_result"
    }
   ],
   "source": [
    "df=df[['airport','country','latitude','longitude']]\n",
    "df.head()"
   ]
  },
  {
   "cell_type": "code",
   "execution_count": 9,
   "metadata": {},
   "outputs": [
    {
     "data": {
      "text/plain": [
       "airport      object\n",
       "country      object\n",
       "latitude     object\n",
       "longitude    object\n",
       "dtype: object"
      ]
     },
     "execution_count": 9,
     "metadata": {},
     "output_type": "execute_result"
    }
   ],
   "source": [
    "df.dtypes"
   ]
  },
  {
   "cell_type": "code",
   "execution_count": 10,
   "metadata": {},
   "outputs": [],
   "source": [
    "def changeToFloat(col):\n",
    "    df[col] = df[col].astype('float64')\n",
    "\n",
    "def changeToStr(col):\n",
    "    df[col] = df[col].astype('str')"
   ]
  },
  {
   "cell_type": "code",
   "execution_count": 11,
   "metadata": {},
   "outputs": [],
   "source": [
    "changeToFloat('longitude')\n",
    "changeToFloat('latitude')\n",
    "changeToStr('airport')\n",
    "changeToStr('country')"
   ]
  },
  {
   "cell_type": "code",
   "execution_count": 12,
   "metadata": {},
   "outputs": [],
   "source": [
    "lon = np.asarray(df['longitude'])\n",
    "lat= np.asarray(df['latitude'])\n",
    "coords=list(zip(lon,lat))   "
   ]
  },
  {
   "cell_type": "code",
   "execution_count": 13,
   "metadata": {},
   "outputs": [],
   "source": [
    "df['coords']=coords"
   ]
  },
  {
   "cell_type": "code",
   "execution_count": 14,
   "metadata": {},
   "outputs": [
    {
     "data": {
      "text/html": [
       "<div>\n",
       "<style scoped>\n",
       "    .dataframe tbody tr th:only-of-type {\n",
       "        vertical-align: middle;\n",
       "    }\n",
       "\n",
       "    .dataframe tbody tr th {\n",
       "        vertical-align: top;\n",
       "    }\n",
       "\n",
       "    .dataframe thead th {\n",
       "        text-align: right;\n",
       "    }\n",
       "</style>\n",
       "<table border=\"1\" class=\"dataframe\">\n",
       "  <thead>\n",
       "    <tr style=\"text-align: right;\">\n",
       "      <th></th>\n",
       "      <th>airport</th>\n",
       "      <th>country</th>\n",
       "      <th>latitude</th>\n",
       "      <th>longitude</th>\n",
       "      <th>coords</th>\n",
       "    </tr>\n",
       "  </thead>\n",
       "  <tbody>\n",
       "    <tr>\n",
       "      <th>index</th>\n",
       "      <td>Goroka Airport</td>\n",
       "      <td>Papua New Guinea</td>\n",
       "      <td>-6.081690</td>\n",
       "      <td>145.391998</td>\n",
       "      <td>(145.391998291, -6.081689834590001)</td>\n",
       "    </tr>\n",
       "    <tr>\n",
       "      <th>0</th>\n",
       "      <td>Madang Airport</td>\n",
       "      <td>Papua New Guinea</td>\n",
       "      <td>-5.207080</td>\n",
       "      <td>145.789001</td>\n",
       "      <td>(145.789001465, -5.20707988739)</td>\n",
       "    </tr>\n",
       "    <tr>\n",
       "      <th>1</th>\n",
       "      <td>Mount Hagen Kagamuga Airport</td>\n",
       "      <td>Papua New Guinea</td>\n",
       "      <td>-5.826790</td>\n",
       "      <td>144.296005</td>\n",
       "      <td>(144.29600524902344, -5.826789855957031)</td>\n",
       "    </tr>\n",
       "    <tr>\n",
       "      <th>2</th>\n",
       "      <td>Nadzab Airport</td>\n",
       "      <td>Papua New Guinea</td>\n",
       "      <td>-6.569803</td>\n",
       "      <td>146.725977</td>\n",
       "      <td>(146.725977, -6.569803)</td>\n",
       "    </tr>\n",
       "    <tr>\n",
       "      <th>3</th>\n",
       "      <td>Port Moresby Jacksons International Airport</td>\n",
       "      <td>Papua New Guinea</td>\n",
       "      <td>-9.443380</td>\n",
       "      <td>147.220001</td>\n",
       "      <td>(147.22000122070312, -9.443380355834961)</td>\n",
       "    </tr>\n",
       "  </tbody>\n",
       "</table>\n",
       "</div>"
      ],
      "text/plain": [
       "                                           airport           country  \\\n",
       "index                               Goroka Airport  Papua New Guinea   \n",
       "0                                   Madang Airport  Papua New Guinea   \n",
       "1                     Mount Hagen Kagamuga Airport  Papua New Guinea   \n",
       "2                                   Nadzab Airport  Papua New Guinea   \n",
       "3      Port Moresby Jacksons International Airport  Papua New Guinea   \n",
       "\n",
       "       latitude   longitude                                    coords  \n",
       "index -6.081690  145.391998       (145.391998291, -6.081689834590001)  \n",
       "0     -5.207080  145.789001           (145.789001465, -5.20707988739)  \n",
       "1     -5.826790  144.296005  (144.29600524902344, -5.826789855957031)  \n",
       "2     -6.569803  146.725977                   (146.725977, -6.569803)  \n",
       "3     -9.443380  147.220001  (147.22000122070312, -9.443380355834961)  "
      ]
     },
     "execution_count": 14,
     "metadata": {},
     "output_type": "execute_result"
    }
   ],
   "source": [
    "df.head()"
   ]
  },
  {
   "cell_type": "code",
   "execution_count": 15,
   "metadata": {},
   "outputs": [],
   "source": [
    "#función para dar a las coordenadas el formato adecuado.\n",
    "def createCoordformat(c):\n",
    "    c= {'type': 'Point', 'coordinates': c}\n",
    "    return c\n",
    "    "
   ]
  },
  {
   "cell_type": "code",
   "execution_count": 16,
   "metadata": {},
   "outputs": [],
   "source": [
    "df['coords']=df['coords'].apply(createCoordformat)"
   ]
  },
  {
   "cell_type": "code",
   "execution_count": 17,
   "metadata": {},
   "outputs": [
    {
     "data": {
      "text/html": [
       "<div>\n",
       "<style scoped>\n",
       "    .dataframe tbody tr th:only-of-type {\n",
       "        vertical-align: middle;\n",
       "    }\n",
       "\n",
       "    .dataframe tbody tr th {\n",
       "        vertical-align: top;\n",
       "    }\n",
       "\n",
       "    .dataframe thead th {\n",
       "        text-align: right;\n",
       "    }\n",
       "</style>\n",
       "<table border=\"1\" class=\"dataframe\">\n",
       "  <thead>\n",
       "    <tr style=\"text-align: right;\">\n",
       "      <th></th>\n",
       "      <th>airport</th>\n",
       "      <th>country</th>\n",
       "      <th>latitude</th>\n",
       "      <th>longitude</th>\n",
       "      <th>coords</th>\n",
       "    </tr>\n",
       "  </thead>\n",
       "  <tbody>\n",
       "    <tr>\n",
       "      <th>index</th>\n",
       "      <td>Goroka Airport</td>\n",
       "      <td>Papua New Guinea</td>\n",
       "      <td>-6.081690</td>\n",
       "      <td>145.391998</td>\n",
       "      <td>{'type': 'Point', 'coordinates': (145.39199829...</td>\n",
       "    </tr>\n",
       "    <tr>\n",
       "      <th>0</th>\n",
       "      <td>Madang Airport</td>\n",
       "      <td>Papua New Guinea</td>\n",
       "      <td>-5.207080</td>\n",
       "      <td>145.789001</td>\n",
       "      <td>{'type': 'Point', 'coordinates': (145.78900146...</td>\n",
       "    </tr>\n",
       "    <tr>\n",
       "      <th>1</th>\n",
       "      <td>Mount Hagen Kagamuga Airport</td>\n",
       "      <td>Papua New Guinea</td>\n",
       "      <td>-5.826790</td>\n",
       "      <td>144.296005</td>\n",
       "      <td>{'type': 'Point', 'coordinates': (144.29600524...</td>\n",
       "    </tr>\n",
       "    <tr>\n",
       "      <th>2</th>\n",
       "      <td>Nadzab Airport</td>\n",
       "      <td>Papua New Guinea</td>\n",
       "      <td>-6.569803</td>\n",
       "      <td>146.725977</td>\n",
       "      <td>{'type': 'Point', 'coordinates': (146.725977, ...</td>\n",
       "    </tr>\n",
       "    <tr>\n",
       "      <th>3</th>\n",
       "      <td>Port Moresby Jacksons International Airport</td>\n",
       "      <td>Papua New Guinea</td>\n",
       "      <td>-9.443380</td>\n",
       "      <td>147.220001</td>\n",
       "      <td>{'type': 'Point', 'coordinates': (147.22000122...</td>\n",
       "    </tr>\n",
       "  </tbody>\n",
       "</table>\n",
       "</div>"
      ],
      "text/plain": [
       "                                           airport           country  \\\n",
       "index                               Goroka Airport  Papua New Guinea   \n",
       "0                                   Madang Airport  Papua New Guinea   \n",
       "1                     Mount Hagen Kagamuga Airport  Papua New Guinea   \n",
       "2                                   Nadzab Airport  Papua New Guinea   \n",
       "3      Port Moresby Jacksons International Airport  Papua New Guinea   \n",
       "\n",
       "       latitude   longitude                                             coords  \n",
       "index -6.081690  145.391998  {'type': 'Point', 'coordinates': (145.39199829...  \n",
       "0     -5.207080  145.789001  {'type': 'Point', 'coordinates': (145.78900146...  \n",
       "1     -5.826790  144.296005  {'type': 'Point', 'coordinates': (144.29600524...  \n",
       "2     -6.569803  146.725977  {'type': 'Point', 'coordinates': (146.725977, ...  \n",
       "3     -9.443380  147.220001  {'type': 'Point', 'coordinates': (147.22000122...  "
      ]
     },
     "execution_count": 17,
     "metadata": {},
     "output_type": "execute_result"
    }
   ],
   "source": [
    "df.head()"
   ]
  },
  {
   "cell_type": "code",
   "execution_count": 18,
   "metadata": {},
   "outputs": [],
   "source": [
    "df.to_json('df_airports.json', orient='records')"
   ]
  }
 ],
 "metadata": {
  "kernelspec": {
   "display_name": "Python 3",
   "language": "python",
   "name": "python3"
  },
  "language_info": {
   "codemirror_mode": {
    "name": "ipython",
    "version": 3
   },
   "file_extension": ".py",
   "mimetype": "text/x-python",
   "name": "python",
   "nbconvert_exporter": "python",
   "pygments_lexer": "ipython3",
   "version": "3.5.2"
  }
 },
 "nbformat": 4,
 "nbformat_minor": 2
}
